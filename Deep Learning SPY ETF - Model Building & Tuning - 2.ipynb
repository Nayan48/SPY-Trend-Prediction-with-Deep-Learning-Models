{
 "cells": [
  {
   "cell_type": "markdown",
   "id": "b3f84928",
   "metadata": {},
   "source": [
    "----"
   ]
  },
  {
   "cell_type": "markdown",
   "id": "fbf0c70d",
   "metadata": {},
   "source": [
    "### Content of this notebook: \n",
    "\n",
    "### Step 5) Data Handling\n",
    "   - This step involves the necessary preprocessing steps to prepare the data for input into the LSTM models. It includes:\n",
    "\n",
    "     - **Proper Data Handling:** Ensuring that all missing values are dealt with and the dataset is clean and ready for analysis.\n",
    "     - **Train-Test Split:** The data is divided into training and testing sets. The training set will be used to train the models, while the testing set will be used to evaluate the models' performance.\n",
    "     - **Scaling (Min-Max):**  Scaling the features to a range [0, 1] using MinMaxScaler to ensure that the LSTM model, which is sensitive to the scale of the data, can perform optimally.\n",
    "     - **Reshaping to 3D as LSTM Input Requires:** Since LSTMs expect 3D input in the form of [samples, timesteps, features], the data is reshaped accordingly to meet these requirements.\n",
    "     - **Defining Lookback Length:** The lookback length determines how many previous time steps are used to predict the next value. It is a crucial parameter in sequence data.\n",
    "     - **Sequence Data Generation Using Time Series Generator:** The TimeseriesGenerator is used to generate sequences of data along with their corresponding labels, which the LSTM models will use for training.\n",
    "\n",
    "### Step 6) Model Building & Hyperparameter Optimization\n",
    "  - This step outlines the process of building various deep learning models to predict SPY ETF trends and optimizing their performance.\n",
    "\n",
    "     - **Model Building:**\n",
    "         - Several models are constructed, including:\n",
    "            - **Base LSTM:** A simple LSTM model with a single LSTM layer.\n",
    "            - **LSTM with 2 layers:** This model includes two LSTM layers stacked together.\n",
    "            - **LSTM with 5 layers:** A deeper model with five LSTM layers.\n",
    "            - **GRU:** A model using Gated Recurrent Units (GRU), which is an alternative to LSTM.\n",
    "            - **LSTM combined with CNN:** A hybrid model that combines LSTM layers with Convolutional Neural Network (CNN) layers.\n",
    "\n",
    "     - **Hyperparameter Tuning:**\n",
    "        - For each model, hyperparameters like the number of units in LSTM/GRU layers, dropout rates, learning rates, and CNN filter sizes are optimized using **RandomSearch.**\n",
    "           - **Early Stopping:** This is used to prevent the model from overfitting by stopping the training process once the performance on the validation set stops improving.\n",
    "           - **TensorBoard Integration:** TensorBoard is integrated to visualize the training process, including the loss and accuracy over epochs.\n",
    "           \n",
    "           \n",
    "### Step 7) Model Evaluation\n",
    "    \n",
    "**Evaluation Metrics and Trading Strategy Backtesting**\n",
    "\n",
    "   - After building and optimizing the LSTM models, we evaluate the performance of the model with Evaluatioon Metrics and by simulating a trading strategy based on the LSTM model’s signals. This is done by backtesting the strategy on the test period from April 2023 to June 2024.\n",
    "\n",
    "\n",
    "- **7.1) Evaluation Metrics:**\n",
    "  - Before implementing the trading strategy backtest, we evaluated the LSTM models' performance using various classification metrics. These included:\n",
    "\n",
    "    - **Accuracy:** Measures the percentage of correct predictions made by the model.\n",
    "    - **F1 Score:** Provides a balance between precision and recall, offering a single metric to evaluate the model’s overall performance.\n",
    "    - **Precision:** Indicates the ratio of correctly predicted positive observations to the total predicted positives.\n",
    "    - **Recall:** Reflects the ratio of correctly predicted positive observations to all observations in the actual class.\n",
    "    - **AUC and ROC:** Used to measure the model’s ability to distinguish between classes.\n",
    "    - **Confusion Matrix:** Provides insight into the true positive, true negative, false positive, and false negative predictions.\n",
    "    - **Balanced Accuracy:** Adjusts accuracy for any imbalanced classes, ensuring a more reliable evaluation.\n",
    "- **These metrics were crucial in selecting the best model, which was then used for backtesting the trading strategy.**\n",
    "\n",
    "### Please note that Complete Trading Strategy and Backtest part of the project is in Notebook-3 (CQF-DL-Trading-Backtest) ipynb\n",
    "\n"
   ]
  },
  {
   "cell_type": "markdown",
   "id": "9b603b24",
   "metadata": {},
   "source": [
    "---"
   ]
  },
  {
   "cell_type": "markdown",
   "id": "5b4fd49e",
   "metadata": {},
   "source": [
    "### Importing Required Libraries"
   ]
  },
  {
   "cell_type": "code",
   "execution_count": 1,
   "id": "229325dc",
   "metadata": {},
   "outputs": [
    {
     "name": "stdout",
     "output_type": "stream",
     "text": [
      "TensorFlow version is 2.17.0\n"
     ]
    }
   ],
   "source": [
    "# Import TensorFlow and Keras\n",
    "import tensorflow as tf\n",
    "# Check TensorFlow version\n",
    "print(\"TensorFlow version is\", tf.version.VERSION)\n",
    "\n",
    "# Suppress TensorFlow warnings\n",
    "import logging\n",
    "logging.getLogger('tensorflow').setLevel(logging.CRITICAL)\n",
    "\n"
   ]
  },
  {
   "cell_type": "code",
   "execution_count": 118,
   "id": "01992590",
   "metadata": {},
   "outputs": [],
   "source": [
    "import warnings\n",
    "warnings.filterwarnings(\"ignore\")\n",
    "\n",
    "# Base libraries\n",
    "import os\n",
    "import random\n",
    "import numpy as np\n",
    "import pandas as pd\n",
    "import datetime\n",
    "from pathlib import Path\n",
    "import pydot\n",
    "import datetime as dt\n",
    "\n",
    "\n",
    "# Scikit-learn modules\n",
    "from sklearn.preprocessing import MinMaxScaler\n",
    "from sklearn.model_selection import train_test_split\n",
    "from sklearn.metrics import mean_squared_error, r2_score\n",
    "from sklearn.utils import class_weight\n",
    "\n",
    "# TensorFlow and Keras modules\n",
    "import tensorflow as tf\n",
    "from tensorflow.keras.models import Sequential, Model\n",
    "from tensorflow.keras.layers import Input, Conv1D, MaxPooling1D, LSTM, Dense, Dropout, Flatten, GRU\n",
    "from tensorflow.keras.utils import plot_model\n",
    "from tensorflow.keras.utils import plot_model\n",
    "from tensorflow.keras.optimizers import Adam, RMSprop\n",
    "from tensorflow.keras.preprocessing.sequence import TimeseriesGenerator\n",
    "from tensorflow.keras.callbacks import EarlyStopping, ModelCheckpoint, TensorBoard\n",
    "from tensorflow.keras.metrics import Metric, BinaryAccuracy, Precision, Recall, AUC, TruePositives, TrueNegatives, FalsePositives, FalseNegatives\n",
    "\n",
    "\n",
    "# Plotting & outputs\n",
    "import matplotlib.pyplot as plt\n",
    "plt.style.use('seaborn-v0_8')\n",
    "from pprint import pprint\n",
    "\n",
    "# Keras Tuner for hyperparameter optimization\n",
    "import keras_tuner as kt\n",
    "\n",
    "# QuantStats for backtesting report\n",
    "import quantstats as qs\n",
    "\n",
    "# Alphavantage for fetching data\n",
    "from alpha_vantage.timeseries import TimeSeries"
   ]
  },
  {
   "cell_type": "markdown",
   "id": "199cf1b8",
   "metadata": {},
   "source": [
    "#### Loading TensorBoard Extension\n",
    "\n",
    "- **TensorBoard Integration:** TensorBoard is a powerful visualization tool designed to help in monitoring and debugging deep learning models during training. By loading this extension, you can launch TensorBoard directly within the notebook, allowing you to visualize metrics such as loss, accuracy, and other relevant statistics in real-time as your models train.\n",
    "\n",
    "- **Real-Time Monitoring:** This integration provides a convenient way to track model performance, monitor the effects of hyperparameter tuning, and detect issues like overfitting during the training process. By visualizing metrics in real time, you can make informed decisions about when to stop training or when to adjust parameters."
   ]
  },
  {
   "cell_type": "code",
   "execution_count": 3,
   "id": "5fa7e084",
   "metadata": {},
   "outputs": [],
   "source": [
    "# Load the TensorBoard notebook extension\n",
    "%load_ext tensorboard"
   ]
  },
  {
   "cell_type": "markdown",
   "id": "fb21b0c3",
   "metadata": {},
   "source": [
    "### Step 5) Data Handling\n",
    "- This step involves the necessary preprocessing steps to prepare the data for input into the LSTM models"
   ]
  },
  {
   "cell_type": "markdown",
   "id": "c8372e65",
   "metadata": {},
   "source": [
    "- **5.1) Loading the Dataset:** Loading the dataset SPY_Final_Features_Dataset.csv into a pandas DataFrame named df.      This dataset contains the final set of 24 features that were selected after performing feature engineering and selection."
   ]
  },
  {
   "cell_type": "code",
   "execution_count": 4,
   "id": "7cb646c7",
   "metadata": {},
   "outputs": [
    {
     "data": {
      "text/html": [
       "<div>\n",
       "<style scoped>\n",
       "    .dataframe tbody tr th:only-of-type {\n",
       "        vertical-align: middle;\n",
       "    }\n",
       "\n",
       "    .dataframe tbody tr th {\n",
       "        vertical-align: top;\n",
       "    }\n",
       "\n",
       "    .dataframe thead th {\n",
       "        text-align: right;\n",
       "    }\n",
       "</style>\n",
       "<table border=\"1\" class=\"dataframe\">\n",
       "  <thead>\n",
       "    <tr style=\"text-align: right;\">\n",
       "      <th></th>\n",
       "      <th>date</th>\n",
       "      <th>daily_return</th>\n",
       "      <th>yield_spread</th>\n",
       "      <th>VXX_daily_return</th>\n",
       "      <th>UUP_daily_return</th>\n",
       "      <th>volume_tech</th>\n",
       "      <th>ADOSC_3_10</th>\n",
       "      <th>ADX_14</th>\n",
       "      <th>OBV</th>\n",
       "      <th>AOBV_SR_2</th>\n",
       "      <th>...</th>\n",
       "      <th>PDIST</th>\n",
       "      <th>PIVOTS_TRAD_D_P</th>\n",
       "      <th>PIVOTS_TRAD_D_R3</th>\n",
       "      <th>PSL_12</th>\n",
       "      <th>PVOL</th>\n",
       "      <th>PVT</th>\n",
       "      <th>SLOPE_1</th>\n",
       "      <th>SMCtp_14_50_20_5</th>\n",
       "      <th>STDEV_30</th>\n",
       "      <th>Target</th>\n",
       "    </tr>\n",
       "  </thead>\n",
       "  <tbody>\n",
       "    <tr>\n",
       "      <th>0</th>\n",
       "      <td>2017-07-05</td>\n",
       "      <td>0.002312</td>\n",
       "      <td>0.92</td>\n",
       "      <td>0.000775</td>\n",
       "      <td>0.000402</td>\n",
       "      <td>54427600.0</td>\n",
       "      <td>0.000000e+00</td>\n",
       "      <td>0.000000</td>\n",
       "      <td>5.442760e+07</td>\n",
       "      <td>0.0</td>\n",
       "      <td>...</td>\n",
       "      <td>0.020000</td>\n",
       "      <td>0.020000</td>\n",
       "      <td>0.020000</td>\n",
       "      <td>100.000000</td>\n",
       "      <td>1.321339e+10</td>\n",
       "      <td>3.855400e+00</td>\n",
       "      <td>0.000000</td>\n",
       "      <td>-7.203386</td>\n",
       "      <td>0.000000</td>\n",
       "      <td>1.0</td>\n",
       "    </tr>\n",
       "    <tr>\n",
       "      <th>1</th>\n",
       "      <td>2017-07-06</td>\n",
       "      <td>-0.009144</td>\n",
       "      <td>0.97</td>\n",
       "      <td>0.051123</td>\n",
       "      <td>-0.004416</td>\n",
       "      <td>65400800.0</td>\n",
       "      <td>0.000000e+00</td>\n",
       "      <td>0.000000</td>\n",
       "      <td>-1.097320e+07</td>\n",
       "      <td>0.0</td>\n",
       "      <td>...</td>\n",
       "      <td>2.920015</td>\n",
       "      <td>242.493332</td>\n",
       "      <td>245.113328</td>\n",
       "      <td>99.085554</td>\n",
       "      <td>1.573216e+10</td>\n",
       "      <td>-5.980551e+07</td>\n",
       "      <td>-2.220001</td>\n",
       "      <td>-7.203386</td>\n",
       "      <td>1.360001</td>\n",
       "      <td>0.0</td>\n",
       "    </tr>\n",
       "    <tr>\n",
       "      <th>2</th>\n",
       "      <td>2017-07-07</td>\n",
       "      <td>0.006485</td>\n",
       "      <td>0.99</td>\n",
       "      <td>-0.036109</td>\n",
       "      <td>0.001613</td>\n",
       "      <td>56062000.0</td>\n",
       "      <td>0.000000e+00</td>\n",
       "      <td>0.000000</td>\n",
       "      <td>4.508880e+07</td>\n",
       "      <td>0.0</td>\n",
       "      <td>...</td>\n",
       "      <td>3.200012</td>\n",
       "      <td>240.973333</td>\n",
       "      <td>244.353339</td>\n",
       "      <td>100.000000</td>\n",
       "      <td>1.357317e+10</td>\n",
       "      <td>-2.344858e+07</td>\n",
       "      <td>1.559998</td>\n",
       "      <td>-7.203386</td>\n",
       "      <td>0.250000</td>\n",
       "      <td>1.0</td>\n",
       "    </tr>\n",
       "    <tr>\n",
       "      <th>3</th>\n",
       "      <td>2017-07-10</td>\n",
       "      <td>0.001074</td>\n",
       "      <td>0.98</td>\n",
       "      <td>-0.024465</td>\n",
       "      <td>0.000403</td>\n",
       "      <td>36663274.0</td>\n",
       "      <td>0.000000e+00</td>\n",
       "      <td>0.000000</td>\n",
       "      <td>8.175207e+07</td>\n",
       "      <td>0.0</td>\n",
       "      <td>...</td>\n",
       "      <td>1.820001</td>\n",
       "      <td>241.649999</td>\n",
       "      <td>245.090001</td>\n",
       "      <td>100.000000</td>\n",
       "      <td>8.886078e+09</td>\n",
       "      <td>-1.951135e+07</td>\n",
       "      <td>0.259999</td>\n",
       "      <td>-7.203386</td>\n",
       "      <td>1.200002</td>\n",
       "      <td>0.0</td>\n",
       "    </tr>\n",
       "    <tr>\n",
       "      <th>4</th>\n",
       "      <td>2017-07-11</td>\n",
       "      <td>-0.000743</td>\n",
       "      <td>1.00</td>\n",
       "      <td>-0.003918</td>\n",
       "      <td>-0.003622</td>\n",
       "      <td>50290920.0</td>\n",
       "      <td>2.419980e+02</td>\n",
       "      <td>241.998002</td>\n",
       "      <td>3.146115e+07</td>\n",
       "      <td>0.0</td>\n",
       "      <td>...</td>\n",
       "      <td>3.580000</td>\n",
       "      <td>242.310000</td>\n",
       "      <td>244.390000</td>\n",
       "      <td>99.925733</td>\n",
       "      <td>1.217996e+10</td>\n",
       "      <td>-2.324629e+07</td>\n",
       "      <td>-0.180000</td>\n",
       "      <td>-7.203386</td>\n",
       "      <td>0.910000</td>\n",
       "      <td>0.0</td>\n",
       "    </tr>\n",
       "    <tr>\n",
       "      <th>...</th>\n",
       "      <td>...</td>\n",
       "      <td>...</td>\n",
       "      <td>...</td>\n",
       "      <td>...</td>\n",
       "      <td>...</td>\n",
       "      <td>...</td>\n",
       "      <td>...</td>\n",
       "      <td>...</td>\n",
       "      <td>...</td>\n",
       "      <td>...</td>\n",
       "      <td>...</td>\n",
       "      <td>...</td>\n",
       "      <td>...</td>\n",
       "      <td>...</td>\n",
       "      <td>...</td>\n",
       "      <td>...</td>\n",
       "      <td>...</td>\n",
       "      <td>...</td>\n",
       "      <td>...</td>\n",
       "      <td>...</td>\n",
       "      <td>...</td>\n",
       "    </tr>\n",
       "    <tr>\n",
       "      <th>1741</th>\n",
       "      <td>2024-06-24</td>\n",
       "      <td>-0.003251</td>\n",
       "      <td>-0.46</td>\n",
       "      <td>-0.007972</td>\n",
       "      <td>-0.003436</td>\n",
       "      <td>45528654.0</td>\n",
       "      <td>3.742017e+07</td>\n",
       "      <td>26.137312</td>\n",
       "      <td>1.641817e+09</td>\n",
       "      <td>1.0</td>\n",
       "      <td>...</td>\n",
       "      <td>7.250000</td>\n",
       "      <td>544.393333</td>\n",
       "      <td>549.653333</td>\n",
       "      <td>58.333333</td>\n",
       "      <td>2.471022e+10</td>\n",
       "      <td>-1.149704e+10</td>\n",
       "      <td>-1.770000</td>\n",
       "      <td>-7.034976</td>\n",
       "      <td>7.967939</td>\n",
       "      <td>0.0</td>\n",
       "    </tr>\n",
       "    <tr>\n",
       "      <th>1742</th>\n",
       "      <td>2024-06-25</td>\n",
       "      <td>0.003851</td>\n",
       "      <td>-0.42</td>\n",
       "      <td>-0.017857</td>\n",
       "      <td>0.001034</td>\n",
       "      <td>38273346.0</td>\n",
       "      <td>3.392215e+07</td>\n",
       "      <td>26.493766</td>\n",
       "      <td>1.680090e+09</td>\n",
       "      <td>1.0</td>\n",
       "      <td>...</td>\n",
       "      <td>5.930000</td>\n",
       "      <td>544.103333</td>\n",
       "      <td>552.763333</td>\n",
       "      <td>66.666667</td>\n",
       "      <td>2.085247e+10</td>\n",
       "      <td>-1.148231e+10</td>\n",
       "      <td>2.090000</td>\n",
       "      <td>-10.189487</td>\n",
       "      <td>7.897289</td>\n",
       "      <td>1.0</td>\n",
       "    </tr>\n",
       "    <tr>\n",
       "      <th>1743</th>\n",
       "      <td>2024-06-26</td>\n",
       "      <td>0.001248</td>\n",
       "      <td>-0.39</td>\n",
       "      <td>-0.010909</td>\n",
       "      <td>0.004823</td>\n",
       "      <td>38550637.0</td>\n",
       "      <td>3.609444e+07</td>\n",
       "      <td>27.023626</td>\n",
       "      <td>1.718641e+09</td>\n",
       "      <td>0.0</td>\n",
       "      <td>...</td>\n",
       "      <td>5.740000</td>\n",
       "      <td>544.156667</td>\n",
       "      <td>549.676667</td>\n",
       "      <td>75.000000</td>\n",
       "      <td>2.102976e+10</td>\n",
       "      <td>-1.147750e+10</td>\n",
       "      <td>0.680000</td>\n",
       "      <td>-20.033204</td>\n",
       "      <td>7.778476</td>\n",
       "      <td>0.0</td>\n",
       "    </tr>\n",
       "    <tr>\n",
       "      <th>1744</th>\n",
       "      <td>2024-06-27</td>\n",
       "      <td>0.001577</td>\n",
       "      <td>-0.41</td>\n",
       "      <td>-0.006434</td>\n",
       "      <td>-0.001371</td>\n",
       "      <td>35041480.0</td>\n",
       "      <td>3.925285e+07</td>\n",
       "      <td>27.653751</td>\n",
       "      <td>1.753682e+09</td>\n",
       "      <td>0.0</td>\n",
       "      <td>...</td>\n",
       "      <td>3.840000</td>\n",
       "      <td>544.926667</td>\n",
       "      <td>551.346667</td>\n",
       "      <td>75.000000</td>\n",
       "      <td>1.914561e+10</td>\n",
       "      <td>-1.147197e+10</td>\n",
       "      <td>0.860000</td>\n",
       "      <td>-25.013835</td>\n",
       "      <td>7.748247</td>\n",
       "      <td>0.0</td>\n",
       "    </tr>\n",
       "    <tr>\n",
       "      <th>1745</th>\n",
       "      <td>2024-06-28</td>\n",
       "      <td>-0.003935</td>\n",
       "      <td>-0.35</td>\n",
       "      <td>0.010176</td>\n",
       "      <td>0.000000</td>\n",
       "      <td>76144535.0</td>\n",
       "      <td>2.114413e+07</td>\n",
       "      <td>28.820181</td>\n",
       "      <td>1.677537e+09</td>\n",
       "      <td>0.0</td>\n",
       "      <td>...</td>\n",
       "      <td>12.510000</td>\n",
       "      <td>545.980000</td>\n",
       "      <td>550.680000</td>\n",
       "      <td>66.666667</td>\n",
       "      <td>4.143938e+10</td>\n",
       "      <td>-1.150193e+10</td>\n",
       "      <td>-2.150000</td>\n",
       "      <td>-39.769611</td>\n",
       "      <td>7.824571</td>\n",
       "      <td>0.0</td>\n",
       "    </tr>\n",
       "  </tbody>\n",
       "</table>\n",
       "<p>1746 rows × 26 columns</p>\n",
       "</div>"
      ],
      "text/plain": [
       "           date  daily_return  yield_spread  VXX_daily_return  \\\n",
       "0    2017-07-05      0.002312          0.92          0.000775   \n",
       "1    2017-07-06     -0.009144          0.97          0.051123   \n",
       "2    2017-07-07      0.006485          0.99         -0.036109   \n",
       "3    2017-07-10      0.001074          0.98         -0.024465   \n",
       "4    2017-07-11     -0.000743          1.00         -0.003918   \n",
       "...         ...           ...           ...               ...   \n",
       "1741 2024-06-24     -0.003251         -0.46         -0.007972   \n",
       "1742 2024-06-25      0.003851         -0.42         -0.017857   \n",
       "1743 2024-06-26      0.001248         -0.39         -0.010909   \n",
       "1744 2024-06-27      0.001577         -0.41         -0.006434   \n",
       "1745 2024-06-28     -0.003935         -0.35          0.010176   \n",
       "\n",
       "      UUP_daily_return  volume_tech    ADOSC_3_10      ADX_14           OBV  \\\n",
       "0             0.000402   54427600.0  0.000000e+00    0.000000  5.442760e+07   \n",
       "1            -0.004416   65400800.0  0.000000e+00    0.000000 -1.097320e+07   \n",
       "2             0.001613   56062000.0  0.000000e+00    0.000000  4.508880e+07   \n",
       "3             0.000403   36663274.0  0.000000e+00    0.000000  8.175207e+07   \n",
       "4            -0.003622   50290920.0  2.419980e+02  241.998002  3.146115e+07   \n",
       "...                ...          ...           ...         ...           ...   \n",
       "1741         -0.003436   45528654.0  3.742017e+07   26.137312  1.641817e+09   \n",
       "1742          0.001034   38273346.0  3.392215e+07   26.493766  1.680090e+09   \n",
       "1743          0.004823   38550637.0  3.609444e+07   27.023626  1.718641e+09   \n",
       "1744         -0.001371   35041480.0  3.925285e+07   27.653751  1.753682e+09   \n",
       "1745          0.000000   76144535.0  2.114413e+07   28.820181  1.677537e+09   \n",
       "\n",
       "      AOBV_SR_2  ...      PDIST  PIVOTS_TRAD_D_P  PIVOTS_TRAD_D_R3  \\\n",
       "0           0.0  ...   0.020000         0.020000          0.020000   \n",
       "1           0.0  ...   2.920015       242.493332        245.113328   \n",
       "2           0.0  ...   3.200012       240.973333        244.353339   \n",
       "3           0.0  ...   1.820001       241.649999        245.090001   \n",
       "4           0.0  ...   3.580000       242.310000        244.390000   \n",
       "...         ...  ...        ...              ...               ...   \n",
       "1741        1.0  ...   7.250000       544.393333        549.653333   \n",
       "1742        1.0  ...   5.930000       544.103333        552.763333   \n",
       "1743        0.0  ...   5.740000       544.156667        549.676667   \n",
       "1744        0.0  ...   3.840000       544.926667        551.346667   \n",
       "1745        0.0  ...  12.510000       545.980000        550.680000   \n",
       "\n",
       "          PSL_12          PVOL           PVT   SLOPE_1  SMCtp_14_50_20_5  \\\n",
       "0     100.000000  1.321339e+10  3.855400e+00  0.000000         -7.203386   \n",
       "1      99.085554  1.573216e+10 -5.980551e+07 -2.220001         -7.203386   \n",
       "2     100.000000  1.357317e+10 -2.344858e+07  1.559998         -7.203386   \n",
       "3     100.000000  8.886078e+09 -1.951135e+07  0.259999         -7.203386   \n",
       "4      99.925733  1.217996e+10 -2.324629e+07 -0.180000         -7.203386   \n",
       "...          ...           ...           ...       ...               ...   \n",
       "1741   58.333333  2.471022e+10 -1.149704e+10 -1.770000         -7.034976   \n",
       "1742   66.666667  2.085247e+10 -1.148231e+10  2.090000        -10.189487   \n",
       "1743   75.000000  2.102976e+10 -1.147750e+10  0.680000        -20.033204   \n",
       "1744   75.000000  1.914561e+10 -1.147197e+10  0.860000        -25.013835   \n",
       "1745   66.666667  4.143938e+10 -1.150193e+10 -2.150000        -39.769611   \n",
       "\n",
       "      STDEV_30  Target  \n",
       "0     0.000000     1.0  \n",
       "1     1.360001     0.0  \n",
       "2     0.250000     1.0  \n",
       "3     1.200002     0.0  \n",
       "4     0.910000     0.0  \n",
       "...        ...     ...  \n",
       "1741  7.967939     0.0  \n",
       "1742  7.897289     1.0  \n",
       "1743  7.778476     0.0  \n",
       "1744  7.748247     0.0  \n",
       "1745  7.824571     0.0  \n",
       "\n",
       "[1746 rows x 26 columns]"
      ]
     },
     "execution_count": 4,
     "metadata": {},
     "output_type": "execute_result"
    }
   ],
   "source": [
    "# Load the dataset\n",
    "df = pd.read_csv('SPY_Final_Features_Dataset.csv')\n",
    "\n",
    "# Convert 'date' column to datetime\n",
    "df['date'] = pd.to_datetime(df['date'])\n",
    "\n",
    "df"
   ]
  },
  {
   "cell_type": "code",
   "execution_count": 5,
   "id": "7df8c702",
   "metadata": {},
   "outputs": [
    {
     "data": {
      "text/plain": [
       "date                datetime64[ns]\n",
       "daily_return               float64\n",
       "yield_spread               float64\n",
       "VXX_daily_return           float64\n",
       "UUP_daily_return           float64\n",
       "volume_tech                float64\n",
       "ADOSC_3_10                 float64\n",
       "ADX_14                     float64\n",
       "OBV                        float64\n",
       "AOBV_SR_2                  float64\n",
       "BBP_5_2.0                  float64\n",
       "BOP                        float64\n",
       "CCI_14_0.015               float64\n",
       "DEC_1                      float64\n",
       "BULLP_13                   float64\n",
       "KVO_34_55_13               float64\n",
       "PDIST                      float64\n",
       "PIVOTS_TRAD_D_P            float64\n",
       "PIVOTS_TRAD_D_R3           float64\n",
       "PSL_12                     float64\n",
       "PVOL                       float64\n",
       "PVT                        float64\n",
       "SLOPE_1                    float64\n",
       "SMCtp_14_50_20_5           float64\n",
       "STDEV_30                   float64\n",
       "Target                     float64\n",
       "dtype: object"
      ]
     },
     "execution_count": 5,
     "metadata": {},
     "output_type": "execute_result"
    }
   ],
   "source": [
    "df.dtypes"
   ]
  },
  {
   "cell_type": "markdown",
   "id": "bcbb7792",
   "metadata": {},
   "source": [
    " - **Data Type Consistency:** Ensuring that all features are in float64 format guarantees that the data is ready for numerical computations, particularly important for machine learning algorithms that expect numerical input.\n",
    " - **Time-Series Operations:** The correct conversion of the 'date' column allows for more sophisticated time-based analyses, such as creating time lags, generating sequences for LSTM, and ensuring that the model training respects the temporal order of the data."
   ]
  },
  {
   "cell_type": "markdown",
   "id": "e3d4e695",
   "metadata": {},
   "source": [
    "#### 5.2) Setting the Target Variable\n",
    "\n",
    "-  the target variable is defined as whether the S\\&P 500 ETF (SPY) will experience a significant positive return based on a threshold of 0.20% in its daily return. If the daily return exceeds this threshold, the label is set to +1 (indicating a buy signal). Otherwise, it is set to 0. The target can be mathematically described as:\n",
    "\n",
    "$$\n",
    "y_t = \n",
    "\\begin{cases} \n",
    "+1, & \\text{if } r_t > 0.002 \\\\\n",
    "0, & \\text{otherwise}\n",
    "\\end{cases}\n",
    "$$\n",
    "\n",
    "- where \\( r_t \\) is the daily return of the SPY ETF on day \\( t \\), calculated as:\n",
    "\n",
    "$$\n",
    "r_t = \\frac{P_t - P_{t-1}}{P_{t-1}}\n",
    "$$\n",
    "\n",
    "- Here, $( P_t )$ is the closing price of SPY on day $( t )$, and $( P_{t-1}) $ is the closing price on the previous trading day.\n",
    "\n",
    "- The target variable $( y_t )$ is then used in the model to predict whether the SPY ETF's price will increase significantly based on the defined threshold."
   ]
  },
  {
   "cell_type": "code",
   "execution_count": 6,
   "id": "a9276274",
   "metadata": {},
   "outputs": [],
   "source": [
    "# Set the target variable\n",
    "y = df['Target'].values\n",
    "X = df.drop(columns=['Target', 'date']).values"
   ]
  },
  {
   "cell_type": "markdown",
   "id": "f007b07e",
   "metadata": {},
   "source": [
    "- **Defining Input and Output:** This step clearly separates the inputs (features) and the output (target variable), which is essential for training machine learning models. By excluding the 'date' column, which is not a feature used for prediction, and focusing on the numerical features, you ensure that the model is trained on the correct data.\n",
    "\n",
    "- **Model Training Preparation:** With X containing the features and y containing the target variable, the data is now ready to be split into training and testing sets, scaled, and reshaped as needed for the LSTM models. This separation is crucial for the model to learn the relationship between the input features and the target variable."
   ]
  },
  {
   "cell_type": "markdown",
   "id": "1e56c772",
   "metadata": {},
   "source": [
    "#### 5.3) Train-Test Split\n",
    "\n",
    " -  The dataset is split into training and testing sets. Here, X_train and y_train represent the features and target variable for the training set, while X_test and y_test represent the same for the testing set. The split is done with 80% of the data allocated to training and 20% to testing."
   ]
  },
  {
   "cell_type": "code",
   "execution_count": 7,
   "id": "9cf6101c",
   "metadata": {},
   "outputs": [],
   "source": [
    "#Train-Test Split\n",
    "X_train, X_test, y_train, y_test = train_test_split(X, y, test_size=0.2, shuffle=False)"
   ]
  },
  {
   "cell_type": "markdown",
   "id": "baaadf62",
   "metadata": {},
   "source": [
    " - **Maintaining Temporal Order:** In time-series forecasting, it is essential to maintain the chronological order of the data to ensure that the model learns from past data to predict future events. By setting **shuffle=False**, the split respects the time-based sequence, making the model's predictions more reliable."
   ]
  },
  {
   "cell_type": "markdown",
   "id": "996ec0aa",
   "metadata": {},
   "source": [
    "#### 5.4) Handling Class Imbalance using Weights Calculations\n",
    "\n",
    "   - In classification problems, especially in financial data, class imbalance is a common issue where one class (e.g., uptrend) significantly outnumbers the other (e.g., downtrend). This imbalance can cause the model to be biased towards the majority class, leading to poor performance in predicting the minority class.\n",
    "   - This function calculates the weights for each class to balance the dataset. The balanced mode automatically adjusts the weights inversely proportional to the class frequencies in the input data.\n",
    "   "
   ]
  },
  {
   "cell_type": "code",
   "execution_count": 8,
   "id": "14c2cd65",
   "metadata": {},
   "outputs": [
    {
     "name": "stdout",
     "output_type": "stream",
     "text": [
      "Class frequencies: [786 610]\n",
      "Weighted balance: 698.0, 698.0\n"
     ]
    }
   ],
   "source": [
    "#Handle Class Imbalance\n",
    "y_int = y_train.astype(int)\n",
    "class_weights = class_weight.compute_class_weight('balanced', classes=np.unique(y_int), y=y_int)\n",
    "class_weight_dict = {i: class_weights[i] for i in range(len(class_weights))}\n",
    "\n",
    "# Verify the weighted balance\n",
    "c = np.bincount(y_int)\n",
    "print(f\"Class frequencies: {c}\")\n",
    "print(f\"Weighted balance: {class_weight_dict[0] * c[0]}, {class_weight_dict[1] * c[1]}\")\n"
   ]
  },
  {
   "cell_type": "markdown",
   "id": "cc2b79cc",
   "metadata": {},
   "source": [
    " - Handling class imbalance effectively leads to a model that performs better across all classes, particularly in cases where the minority class is critical (e.g., predicting rare market downturns). This balanced approach helps prevent the model from becoming skewed and improves its ability to generalize to unseen data."
   ]
  },
  {
   "cell_type": "markdown",
   "id": "103dc6c6",
   "metadata": {},
   "source": [
    "#### 5.5) Scaling the features\n",
    "\n",
    "  **Scaling Method (MinMaxScaler):**\n",
    "  \n",
    "   - The MinMaxScaler scales the features to a specified range, typically [0, 1]. It transforms each feature individually such that it is within this range, which is particularly important for models like LSTM that are sensitive to the scale of input data.\n",
    "      \n",
    "   - **Chosen After EDA Observation:**\n",
    "       - The decision to use MinMaxScaler was made after conducting Exploratory Data Analysis (EDA), where it was observed that the features have different scales and ranges. In particular, some features may have had wide ranges, while others were more narrowly distributed.\n",
    "       - MinMax scaling is effective in this context because it preserves the relationships between data points by scaling all features to the same range, without distorting the underlying data distribution."
   ]
  },
  {
   "cell_type": "code",
   "execution_count": 9,
   "id": "7c12911e",
   "metadata": {},
   "outputs": [
    {
     "name": "stdout",
     "output_type": "stream",
     "text": [
      "Scaled Training Data: (1396, 24), Scaled Test Data: (350, 24)\n"
     ]
    }
   ],
   "source": [
    "#Scale the Features\n",
    "scaler = MinMaxScaler()\n",
    "\n",
    "# Fit on the training data and transform it\n",
    "X_train_scaled = scaler.fit_transform(X_train)\n",
    "\n",
    "# Transform the test data using the scaler fitted on the training data\n",
    "X_test_scaled = scaler.transform(X_test)\n",
    "\n",
    "# Verify the scaled data\n",
    "print(f\"Scaled Training Data: {X_train_scaled.shape}, Scaled Test Data: {X_test_scaled.shape}\")\n"
   ]
  },
  {
   "cell_type": "markdown",
   "id": "011b5b27",
   "metadata": {},
   "source": [
    " - **Consistent and Balanced Input:** By scaling the features using MinMaxScaler, the input data is now in a consistent range, improving the performance and stability of the LSTM model during training. This step is crucial for ensuring that the model can effectively learn from the data without being influenced by the scale differences between features."
   ]
  },
  {
   "cell_type": "markdown",
   "id": "7c02649a",
   "metadata": {},
   "source": [
    "#### 5.6) Defining Lookback Length and Adjusting Data Lengths for Alignment\n",
    "\n",
    " - **Lookback Period (lookback = 21):**\n",
    "     - The lookback period defines the number of previous time steps the model will use to predict the next time step. In this case, a 21-day lookback is chosen, meaning the model will use the past 21 days of data to predict whether the SPY ETF will experience a **daily uptrend.**\n",
    "- **Market Cycle Consideration:**\n",
    "     - Monthly Cycle: 21 days correspond to approximately one trading month, capturing short-term market cycles that often influence SPY ETF trends.\n",
    "- **Pattern Recognition:**\n",
    "    - This period helps the model identify patterns within a monthly cycle, such as earnings reports and economic data releases.\n",
    "- **Balancing Data Availability and Information:**\n",
    "    - Sufficient Historical Context: 21 days provide enough historical data to detect meaningful trends without introducing too much lag or noise.\n",
    "    - Information Density: It offers a balanced view, allowing the model to learn from recent data without being overwhelmed by older, potentially less relevant information."
   ]
  },
  {
   "cell_type": "code",
   "execution_count": 10,
   "id": "56b7d937",
   "metadata": {},
   "outputs": [],
   "source": [
    "# Define the Sequence Length (lookback period)\n",
    "lookback = 21\n",
    "\n",
    "# Adjust Data Lengths to Ensure Alignment\n",
    "min_samples_train = min(X_train_scaled.shape[0] - lookback + 1, y_train.shape[0])\n",
    "min_samples_test = min(X_test_scaled.shape[0] - lookback + 1, y_test.shape[0])\n",
    "\n",
    "X_train_scaled = X_train_scaled[:min_samples_train + lookback - 1]\n",
    "y_train = y_train[:min_samples_train]\n",
    "\n",
    "X_test_scaled = X_test_scaled[:min_samples_test + lookback - 1]\n",
    "y_test = y_test[:min_samples_test]\n",
    "\n",
    "# Ensure both X and y have the same length\n",
    "if X_train_scaled.shape[0] > y_train.shape[0]:\n",
    "    X_train_scaled = X_train_scaled[-y_train.shape[0]:]\n",
    "elif y_train.shape[0] > X_train_scaled.shape[0]:\n",
    "    y_train = y_train[-X_train_scaled.shape[0]:]\n",
    "\n",
    "if X_test_scaled.shape[0] > y_test.shape[0]:\n",
    "    X_test_scaled = X_test_scaled[-y_test.shape[0]:]\n",
    "elif y_test.shape[0] > X_test_scaled.shape[0]:\n",
    "    y_test = y_test[-X_test_scaled.shape[0]:]"
   ]
  },
  {
   "cell_type": "markdown",
   "id": "c01a6a94",
   "metadata": {},
   "source": [
    "- **Ensuring Alignment:**\n",
    "   - After defining the lookback period, the code adjusts the lengths of the scaled training and testing data to ensure they align correctly with the target variables. \n",
    "   - This involves trimming the sequences so that the input features (X_train_scaled, X_test_scaled) and corresponding labels (y_train, y_test) are properly aligned, allowing the model to be trained and evaluated without any mismatch between the inputs and outputs."
   ]
  },
  {
   "cell_type": "markdown",
   "id": "43f85a79",
   "metadata": {},
   "source": [
    "#### 5.7) Generate Sequences Using TimeseriesGenerator\n",
    "\n",
    " - **Sequence Generation:** In this step, we're using the TimeseriesGenerator class from Keras to generate sequences of data from the scaled training and test sets. This is essential for training the LSTM model, which expects input data in the form of sequences.\n",
    " - **Parameters:**\n",
    "    - Length: The lookback period (21 days) defines the length of the sequence.\n",
    "    - Batch Size: Set a batch size of 32, meaning the data will be processed in batches of 32 sequences at a time during training."
   ]
  },
  {
   "cell_type": "code",
   "execution_count": 11,
   "id": "93cb5d37",
   "metadata": {},
   "outputs": [
    {
     "name": "stdout",
     "output_type": "stream",
     "text": [
      "Generated sequence 0 - X shape: (32, 21, 24), y shape: (32,)\n",
      "Generated sequence 1 - X shape: (32, 21, 24), y shape: (32,)\n",
      "Generated sequence 2 - X shape: (32, 21, 24), y shape: (32,)\n",
      "Generated sequence 3 - X shape: (32, 21, 24), y shape: (32,)\n",
      "Generated sequence 4 - X shape: (32, 21, 24), y shape: (32,)\n",
      "Generated sequence 5 - X shape: (32, 21, 24), y shape: (32,)\n",
      "Generated sequence 0 - X shape: (32, 21, 24), y shape: (32,)\n",
      "Generated sequence 1 - X shape: (32, 21, 24), y shape: (32,)\n",
      "Generated sequence 2 - X shape: (32, 21, 24), y shape: (32,)\n",
      "Generated sequence 3 - X shape: (32, 21, 24), y shape: (32,)\n",
      "Generated sequence 4 - X shape: (32, 21, 24), y shape: (32,)\n",
      "Generated sequence 5 - X shape: (32, 21, 24), y shape: (32,)\n",
      "Generated sequence 6 - X shape: (32, 21, 24), y shape: (32,)\n",
      "Generated sequence 7 - X shape: (32, 21, 24), y shape: (32,)\n",
      "Generated sequence 8 - X shape: (32, 21, 24), y shape: (32,)\n",
      "Generated sequence 9 - X shape: (21, 21, 24), y shape: (21,)\n"
     ]
    }
   ],
   "source": [
    "# Step 6: Generate Sequences Using TimeseriesGenerator\n",
    "train_generator = TimeseriesGenerator(X_train_scaled, y_train, length=lookback, batch_size=32)\n",
    "test_generator = TimeseriesGenerator(X_test_scaled, y_test, length=lookback, batch_size=32)\n",
    "\n",
    "\n",
    "# Confirm the dimensions of the generated data\n",
    "for i in range(len(train_generator)):\n",
    "    X, y = train_generator[i]\n",
    "    print(f\"Generated sequence {i} - X shape: {X.shape}, y shape: {y.shape}\")\n",
    "    if i == 5:\n",
    "        break\n",
    "\n",
    "for i in range(len(test_generator)):\n",
    "    try:\n",
    "        X, y = test_generator[i]\n",
    "        print(f\"Generated sequence {i} - X shape: {X.shape}, y shape: {y.shape}\")\n",
    "    except KeyError as e:\n",
    "        print(f\"Error at sequence {i}: {e}\")"
   ]
  },
  {
   "cell_type": "markdown",
   "id": "d22543e7",
   "metadata": {},
   "source": [
    "- **Output Verification:**\n",
    "   - The code prints out the shapes of the generated sequences for both the training and test datasets to confirm that the sequences are being generated correctly. Each sequence has a shape of (32, 21, 24), where:\n",
    "      - 32: Number of sequences in a batch (batch size).\n",
    "      - 21: Number of time steps (lookback period).\n",
    "      - 24: Number of features in each sequence.\n",
    "- This step ensures that the input data is correctly formatted into sequences that the LSTM model can use for training and evaluation."
   ]
  },
  {
   "cell_type": "markdown",
   "id": "31b1d07d",
   "metadata": {},
   "source": [
    "---"
   ]
  },
  {
   "cell_type": "markdown",
   "id": "ca042f9a",
   "metadata": {},
   "source": [
    "### Step 6) Model Building & Hyperparameter Optimization"
   ]
  },
  {
   "cell_type": "markdown",
   "id": "f05aaba6",
   "metadata": {},
   "source": [
    "- The goal of this step is to build and optimize an LSTM model to predict the daily uptrend of the SPY ETF. We will design the architecture, configure the hyperparameters, and optimize the model using a random search technique"
   ]
  },
  {
   "cell_type": "markdown",
   "id": "80818836",
   "metadata": {},
   "source": [
    "### Model 1) Base Model - LSTM Single Layer\n",
    "\n",
    "**Architecture Overview:**\n",
    "\n",
    " - The LSTM (Long Short-Term Memory) network is a type of recurrent neural network (RNN) that is well-suited for time series prediction due to its ability to remember long-term dependencies. For this base model, we are using a single-layer LSTM, which serves as the foundation for more complex models we might develop later.\n",
    "\n",
    "**How the Single-Layer LSTM Works:**\n",
    "\n",
    " - **1) Input Data Flow:**\n",
    "      - The input to the LSTM layer is a sequence of data points (features) over a specified lookback period (21 days in our case). Each sequence consists of multiple features, where each feature represents a different aspect of the SPY ETF’s historical data (e.g., daily return, volume, technical indicators).\n",
    "     - The input shape for the LSTM layer is (lookback, number_of_features). For our model, this means 21 time steps with the features that have been selected after feature engineering.\n",
    " - **2) LSTM Layer:**\n",
    "     - The LSTM layer processes this sequence data, step by step, maintaining a hidden state that captures information about past data points. This hidden state is crucial because it allows the LSTM to \"remember\" important patterns or trends over time, which helps in making accurate predictions.\n",
    "     - The LSTM cells contain gates that control the flow of information:\n",
    "        - Input Gate decides what information from the current input should be added to the cell state.\n",
    "        - Forget Gate determines what information should be discarded from the cell state.\n",
    "        - Output Gate controls what information should be outputted from the current cell state.\n",
    "   - The output of the LSTM layer is a vector that encapsulates the learned patterns from the 21-day input sequence.\n",
    "- **3) Dropout Layer:**\n",
    "   - After the LSTM layer, we add a Dropout layer to prevent overfitting. The Dropout layer randomly sets a fraction of the input units to zero during training, which forces the model to learn more robust features that generalize better to unseen data.\n",
    " - **4) Output Layer:**\n",
    "  - Finally, a Dense layer with a sigmoid activation function is added. This layer outputs a single probability value between 0 and 1, indicating the likelihood of an uptrend (1) or no uptrend (0) for the next day.\n",
    "\n",
    "- **5) Model Compilation:**\n",
    "   - The model is compiled with the Adam optimizer, a popular choice for training neural networks because it adapts the learning rate during training, making it effective in most cases. \n",
    "   - The loss function is binary cross-entropy, which is appropriate for binary classification tasks like ours.        - Additionally, accuracy, precision, and recall metrics are used to evaluate the model’s performance during training."
   ]
  },
  {
   "cell_type": "code",
   "execution_count": 88,
   "id": "a199ae7d",
   "metadata": {},
   "outputs": [],
   "source": [
    "# Step 1: Build the Model with Hyperparameter Tuning\n",
    "def build_model(hp):\n",
    "    tf.keras.backend.clear_session()\n",
    "    \n",
    "    # Instantiate the model\n",
    "    model = Sequential()\n",
    "    \n",
    "    # Tune the number of units for the single LSTM layer\n",
    "    hp_units = hp.Int('units', min_value=4, max_value=32, step=4)\n",
    "    \n",
    "    # Tune the dropout rate\n",
    "    hp_dropout = hp.Float('dropout_rate', min_value=0.0, max_value=0.5, step=0.1)\n",
    "    \n",
    "    # Tune the learning rate for the optimizer\n",
    "    hp_learning_rate = hp.Choice('learning_rate', values=[1e-2, 1e-3, 1e-4])\n",
    "    \n",
    "    # Add the single LSTM layer\n",
    "    model.add(LSTM(units=hp_units, input_shape=(lookback, X_train_scaled.shape[1]), \n",
    "                   activation='relu', return_sequences=False))\n",
    "    \n",
    "    # Add Dropout layer\n",
    "    model.add(Dropout(hp_dropout))\n",
    "    \n",
    "    # Add output layer\n",
    "    model.add(Dense(1, activation='sigmoid'))\n",
    "    \n",
    "    # Compile the model\n",
    "    model.compile(optimizer=Adam(learning_rate=hp_learning_rate, epsilon=1e-08, decay=0.0),\n",
    "                  loss='binary_crossentropy',\n",
    "                  metrics=['accuracy', tf.keras.metrics.Precision(), tf.keras.metrics.Recall()])\n",
    "    \n",
    "    return model"
   ]
  },
  {
   "cell_type": "markdown",
   "id": "54cdc7f5",
   "metadata": {},
   "source": [
    "**Detailed Code Breakdown**\n",
    "\n",
    "  - **Clear Session:**\n",
    "     - tf.keras.backend.clear_session() is used to clear the previous models and layers from memory. This ensures that each time we build a model, we start fresh without any remnants of previous models, which is particularly important when tuning hyperparameters.\n",
    " - **Instantiate the Model:**\n",
    "    - model = Sequential() initializes a Sequential model, which means we can stack layers in a linear fashion.\n",
    " - **Tune the LSTM Layer:**\n",
    "    - hp_units = hp.Int('units', min_value=4, max_value=32, step=4) tunes the number of units (neurons) in the LSTM layer. This is critical because the number of units determines the model's capacity to learn complex patterns. We explore different numbers of units between 4 and 32 to find the optimal size.\n",
    "    - model.add(LSTM(units=hp_units, input_shape=(lookback, X_train_scaled.shape[1]), activation='relu', return_sequences=False)) adds the LSTM layer with the specified number of units. The input shape is determined by the lookback period and the number of features. activation='relu' is used to introduce non-linearity, which helps the model learn more complex patterns.\n",
    "- **Tune the Dropout Layer:**\n",
    "    - hp_dropout = hp.Float('dropout_rate', min_value=0.0, max_value=0.5, step=0.1) tunes the dropout rate, which is the fraction of input units to drop to prevent overfitting. A higher dropout rate can reduce overfitting but might also lead to underfitting if too much information is lost.\n",
    "    - model.add(Dropout(hp_dropout)) adds the Dropout layer to the model.\n",
    "- **Output Layer:**\n",
    "   - model.add(Dense(1, activation='sigmoid')) adds the final Dense layer with a sigmoid activation function. This layer outputs a probability that the next day's trend is an uptrend (1) or not (0).\n",
    "- **Tune the Learning Rate:**\n",
    "   - hp_learning_rate = hp.Choice('learning_rate', values=[1e-2, 1e-3, 1e-4]) tunes the learning rate of the Adam optimizer, which is crucial for balancing the speed of learning and the stability of the model.\n",
    "- **Compile the Model:**\n",
    "   - The model is compiled using the Adam optimizer with the tuned learning rate. The loss function is set to binary cross-entropy, suitable for binary classification tasks. Accuracy, precision, and recall are the metrics used to evaluate the model during training and testing.\n"
   ]
  },
  {
   "cell_type": "markdown",
   "id": "b0684e99",
   "metadata": {},
   "source": [
    "---"
   ]
  },
  {
   "cell_type": "markdown",
   "id": "fc2dc9b3",
   "metadata": {},
   "source": [
    "### Hyperparameter Tuning: \n",
    "\n",
    "  - In machine learning, hyperparameters are the parameters that are not learned from the data but are set before the learning process begins. These include parameters like the number of layers in a neural network, the number of units in each layer, learning rates, batch sizes, etc. Hyperparameter tuning is the process of finding the best combination of these parameters to optimize the model's performance on unseen data.\n",
    "\n",
    "  - Tuning these hyperparameters manually can be time-consuming and inefficient, as it often involves trial and error. This is where automated hyperparameter tuning techniques like Random Search come in, allowing us to explore a vast hyperparameter space more effectively.\n",
    "\n",
    "### Random Search:\n",
    "\n",
    " - Random Search is an approach for hyperparameter optimization that randomly samples the hyperparameter space rather than searching through all possible combinations (like Grid Search). The key idea is to explore more combinations in less time, hoping that some of the randomly selected combinations will perform well.\n",
    "\n",
    " - **How Random Search Works:**\n",
    "\n",
    " - **Define Hyperparameter Space:**\n",
    "    - Before starting, you need to define the range or set of values that each hyperparameter can take. For instance, the number of units in an LSTM layer might range from 4 to 32, the dropout rate might range from 0 to 0.5, and the learning rate might take values like 1e-2, 1e-3, or 1e-4.\n",
    " - **Random Sampling:**\n",
    "   - The Random Search algorithm then randomly samples a set of hyperparameters from this defined space. Unlike Grid Search, which evaluates all possible combinations, Random Search only evaluates a subset. The sampling process is entirely random, which allows the search to explore the hyperparameter space more diversely.\n",
    "- **Model Evaluation:**\n",
    "  - For each sampled set of hyperparameters, a model is built and trained on the training data. The model is then evaluated on validation data to estimate its performance. The primary metric for evaluation in our case is the validation loss (val_loss), but other metrics like accuracy, precision, or recall can also be used depending on the objective.\n",
    "- **Repeat Trials:**\n",
    "  - This process is repeated for a specified number of trials. Each trial represents a different combination of hyperparameters. After completing all the trials, the set of hyperparameters that resulted in the best performance (lowest validation loss) is selected.\n",
    "- **Optimal Model Selection:**\n",
    "  - The best-performing model, based on the evaluation metric, is then selected as the final model, and its hyperparameters are used for training on the full dataset or for further fine-tuning."
   ]
  },
  {
   "cell_type": "code",
   "execution_count": 89,
   "id": "8a832a5b",
   "metadata": {},
   "outputs": [],
   "source": [
    "# Step 2: Setup RandomSearch Tuner\n",
    "tuner = kt.RandomSearch(\n",
    "    build_model,\n",
    "    objective='val_loss',  # Use loss as the primary metric\n",
    "    max_trials=50,  # Maximum number of trials\n",
    "    directory='./keras',\n",
    "    project_name='rs_base_lstm',  # Change this to distinguish between trials\n",
    "    overwrite=True\n",
    ")"
   ]
  },
  {
   "cell_type": "markdown",
   "id": "0f676f03",
   "metadata": {},
   "source": [
    "- **Detailed Breakdown:**\n",
    "\n",
    " - **kt.RandomSearch:**\n",
    "     - This initializes the Random Search tuner from Keras Tuner (kt). The tuner is responsible for running the hyperparameter tuning process.\n",
    " - **build_model:**\n",
    "    - The function build_model (which we defined earlier) is passed to the tuner. This function constructs the model according to the hyperparameters sampled by the tuner.\n",
    "- **Objective:**\n",
    "   - The objective='val_loss' indicates that the tuner should optimize for the validation loss. This means that the tuner will attempt to find the set of hyperparameters that minimize the loss on the validation dataset, making the model generalize better to unseen data.\n",
    "- **max_trials=50:**\n",
    "  - The max_trials parameter specifies the maximum number of different hyperparameter combinations the tuner will evaluate. In this case, the tuner will try 50 different combinations. Each trial corresponds to training a model with a different set of hyperparameters.\n",
    "- **directory='./keras':**\n",
    "  - The directory parameter specifies where to save the results of each trial. This allows the tuner to resume tuning or access the results later.\n",
    "- **project_name='rs_base_lstm':**\n",
    "  - The project_name is used to distinguish between different tuning projects. This is helpful if you are tuning multiple models or experimenting with different objectives.\n",
    "- **overwrite=True:**\n",
    "  - The overwrite parameter, when set to True, ensures that previous tuning results are overwritten if they exist. This is useful if you want to restart the tuning process from scratch.\n",
    "\n",
    "- **Impact of Random Search on Model Performance:**\n",
    "\n",
    "   - By using Random Search for hyperparameter tuning, we can efficiently explore a wide range of hyperparameter combinations, potentially discovering high-performing models that might have been missed with manual tuning or more rigid approaches like Grid Search. The randomness allows for a diverse exploration of the hyperparameter space, increasing the chances of finding an optimal or near-optimal solution for our LSTM model."
   ]
  },
  {
   "cell_type": "markdown",
   "id": "1f74ec87",
   "metadata": {},
   "source": [
    "#### Setting Up Logging for Model Training with TensorBoard\n",
    "- Defining a unique log directory for each model ensures that the training logs for different models do not overwrite each other. This organization is critical when experimenting with different models or hyperparameter configurations. It allows you to easily review and compare the performance of each model in TensorBoard, facilitating a more informed selection of the best-performing model."
   ]
  },
  {
   "cell_type": "code",
   "execution_count": 90,
   "id": "9cc7fcd9",
   "metadata": {},
   "outputs": [],
   "source": [
    "# Define a unique log directory for each model\n",
    "model_number = 1  # Update this for each LSTM model\n",
    "log_dir = f\"./logs/lstm_model_{model_number}\""
   ]
  },
  {
   "cell_type": "markdown",
   "id": "52d35ccb",
   "metadata": {},
   "source": [
    "#### Setting Up Callbacks for Early Stopping and TensorBoard\n",
    "\n",
    "- Callbacks in TensorFlow/Keras are powerful tools that can help you manage the training process by taking specific actions at different points during training. "
   ]
  },
  {
   "cell_type": "code",
   "execution_count": 91,
   "id": "3ac0dd1e",
   "metadata": {},
   "outputs": [],
   "source": [
    "# Step 3: Setup Callbacks for Early Stopping and TensorBoard\n",
    "early_stopping = EarlyStopping(monitor='val_loss', patience=5, mode='min', verbose=1)"
   ]
  },
  {
   "cell_type": "markdown",
   "id": "890c4f01",
   "metadata": {},
   "source": [
    "- **EarlyStopping Callback:**\n",
    "  - monitor='val_loss':\n",
    "    - Specifies that the validation loss is the metric to be monitored. This means the early stopping will trigger if the validation loss stops improving.\n",
    "  - patience=5:\n",
    "    - Sets the number of epochs with no improvement after which training will be stopped. In this case, if the validation loss does not decrease for 5 consecutive epochs, training will stop.\n",
    "  - mode='min':\n",
    "    - Indicates that the callback should stop training when the validation loss has stopped decreasing (min mode). This is the correct mode when monitoring a loss, as you want to minimize it.\n",
    "  - verbose=1:\n",
    "    - Controls the verbosity of the output. Setting it to 1 means that the callback will print a message when training stops early.\n",
    "\n",
    "**Impact:**\n",
    "\n",
    " - The Early Stopping callback helps to ensure that the model does not overfit and that the training process is efficient by halting early if no further improvement is seen.\n",
    " - This is particularly useful when training deep learning models, where overfitting is a common concern. By setting up Early Stopping, you can automatically revert to the best model encountered during training, ensuring optimal performance on the validation set."
   ]
  },
  {
   "cell_type": "code",
   "execution_count": 92,
   "id": "e2cdbb8d",
   "metadata": {},
   "outputs": [],
   "source": [
    "# TensorBoard callback with the unique log directory\n",
    "tensorboard_callback = TensorBoard(log_dir=log_dir, histogram_freq=1)"
   ]
  },
  {
   "cell_type": "markdown",
   "id": "52507ac1",
   "metadata": {},
   "source": [
    "#### TensorBoard Callback:\n",
    "   - Purpose: TensorBoard callback is used to visualize metrics such as loss and accuracy, compare different models, and track the training progress in real-time.\n",
    "   - How it Works: TensorBoard records logs during training, and these logs can be visualized to see how the model's performance is evolving over time. By setting up a log directory (as mentioned earlier), you can store these logs and later load them into TensorBoard for analysis."
   ]
  },
  {
   "cell_type": "code",
   "execution_count": 93,
   "id": "e730bb45",
   "metadata": {},
   "outputs": [],
   "source": [
    "# Include the callbacks in the model training\n",
    "callbacks = [early_stopping, tensorboard_callback]"
   ]
  },
  {
   "cell_type": "markdown",
   "id": "256fb400",
   "metadata": {},
   "source": [
    "#### Performing Hyperparameter Search with Random Search Tuner\n",
    "\n",
    "- **tuner.search():**\n",
    "  - **train_generator:**\n",
    "    - The training data generator created earlier that provides batches of input sequences and their corresponding targets during training.\n",
    "  - **epochs=100:**\n",
    "    - Specifies that each model configuration will be trained for up to 100 epochs. However, due to Early Stopping, the training might halt before 100 epochs if no improvement is observed in the validation loss.\n",
    "  - **validation_data=test_generator:**\n",
    "     - Provides the validation data generator to the tuner, which is used to evaluate the model's performance on unseen data after each epoch.\n",
    "  - **class_weight=class_weight_dict:**\n",
    "     - Incorporates class weights to handle class imbalance, ensuring that the model does not become biased towards the more frequent class.\n",
    "   - **callbacks=[early_stopping, tensorboard_callback]:**\n",
    "      - The callbacks include Early Stopping to prevent overfitting and TensorBoard for tracking the training process"
   ]
  },
  {
   "cell_type": "code",
   "execution_count": 94,
   "id": "f7f67912",
   "metadata": {},
   "outputs": [
    {
     "name": "stdout",
     "output_type": "stream",
     "text": [
      "Trial 50 Complete [00h 00m 22s]\n",
      "val_loss: 0.6897996068000793\n",
      "\n",
      "Best val_loss So Far: 0.24344857037067413\n",
      "Total elapsed time: 00h 15m 48s\n"
     ]
    }
   ],
   "source": [
    "# Step 4: Perform the Hyperparameter Search\n",
    "tuner.search(train_generator, epochs=100, validation_data=test_generator,\n",
    "             class_weight=class_weight_dict,\n",
    "             callbacks=[early_stopping, tensorboard_callback])"
   ]
  },
  {
   "cell_type": "markdown",
   "id": "2c0044f8",
   "metadata": {},
   "source": [
    "- **Best val_loss So Far:** 0.24344857037067413:\n",
    "    - The best validation loss achieved so far across all trials is approximately 0.2434. This indicates the most optimal hyperparameter combination found by the tuner.\n",
    "- **Total elapsed time: 00h 15m 48s:**\n",
    "    - The total time taken to complete all the trials so far is 15 minutes and 48 seconds."
   ]
  },
  {
   "cell_type": "markdown",
   "id": "259efa5b",
   "metadata": {},
   "source": [
    "#### Retrieving the Best Hyperparameters\n",
    "\n",
    " - After the hyperparameter search is complete, the next step is to retrieve the best set of hyperparameters that yielded the lowest validation loss. This allows us to build the final model using these optimized settings, which should result in the best possible performance on unseen data."
   ]
  },
  {
   "cell_type": "code",
   "execution_count": 95,
   "id": "029d8d09",
   "metadata": {},
   "outputs": [
    {
     "name": "stdout",
     "output_type": "stream",
     "text": [
      "{'units': 28, 'dropout_rate': 0.30000000000000004, 'learning_rate': 0.001}\n"
     ]
    }
   ],
   "source": [
    "# Step 5: Retrieve the Best Hyperparameters\n",
    "best_hbp = tuner.get_best_hyperparameters()[0]\n",
    "print(best_hbp.values)"
   ]
  },
  {
   "cell_type": "markdown",
   "id": "d3909c71",
   "metadata": {},
   "source": [
    "**Output:**\n",
    "\n",
    "  - {'units': 28, 'dropout_rate': 0.30000000000000004, 'learning_rate': 0.001}:\n",
    "  - **units: 28** - The best number of units (neurons) in the LSTM layer was found to be 28. This value dictates the complexity of the LSTM layer and influences how well the model can capture patterns in the time series data.\n",
    "  - **dropout_rate: 0.3** - The optimal dropout rate was determined to be 0.3. Dropout is a regularization technique used to prevent overfitting by randomly setting a fraction of the input units to zero during training. A dropout rate of 0.3 indicates that 30% of the units are dropped out.\n",
    "  - **learning_rate: 0.001** - The best learning rate for the optimizer was found to be 0.001. This rate controls how much to adjust the model's weights with respect to the loss gradient. A smaller learning rate typically results in more stable and gradual learning.\n",
    "  \n",
    " - Retrieving and applying the best hyperparameters is a crucial step in ensuring that the final model is both optimized and robust. With these values, the model is likely to achieve the best balance between bias and variance, making it more reliable when making predictions on unseen data. These optimized hyperparameters will be used to build the final LSTM model in the next steps, ensuring that it operates at its highest potential based on the training and validation data provided\n"
   ]
  },
  {
   "cell_type": "code",
   "execution_count": 96,
   "id": "ad9d932d",
   "metadata": {},
   "outputs": [
    {
     "name": "stdout",
     "output_type": "stream",
     "text": [
      "Results summary\n",
      "Results in ./keras/rs_base_lstm\n",
      "Showing 10 best trials\n",
      "Objective(name=\"val_loss\", direction=\"min\")\n",
      "\n",
      "Trial 46 summary\n",
      "Hyperparameters:\n",
      "units: 28\n",
      "dropout_rate: 0.30000000000000004\n",
      "learning_rate: 0.001\n",
      "Score: 0.24344857037067413\n",
      "\n",
      "Trial 04 summary\n",
      "Hyperparameters:\n",
      "units: 32\n",
      "dropout_rate: 0.30000000000000004\n",
      "learning_rate: 0.001\n",
      "Score: 0.2531904876232147\n",
      "\n",
      "Trial 42 summary\n",
      "Hyperparameters:\n",
      "units: 8\n",
      "dropout_rate: 0.0\n",
      "learning_rate: 0.001\n",
      "Score: 0.2600080966949463\n",
      "\n",
      "Trial 37 summary\n",
      "Hyperparameters:\n",
      "units: 16\n",
      "dropout_rate: 0.2\n",
      "learning_rate: 0.001\n",
      "Score: 0.271786093711853\n",
      "\n",
      "Trial 43 summary\n",
      "Hyperparameters:\n",
      "units: 24\n",
      "dropout_rate: 0.1\n",
      "learning_rate: 0.001\n",
      "Score: 0.28684625029563904\n",
      "\n",
      "Trial 33 summary\n",
      "Hyperparameters:\n",
      "units: 20\n",
      "dropout_rate: 0.30000000000000004\n",
      "learning_rate: 0.001\n",
      "Score: 0.312380313873291\n",
      "\n",
      "Trial 24 summary\n",
      "Hyperparameters:\n",
      "units: 28\n",
      "dropout_rate: 0.1\n",
      "learning_rate: 0.001\n",
      "Score: 0.33491018414497375\n",
      "\n",
      "Trial 05 summary\n",
      "Hyperparameters:\n",
      "units: 8\n",
      "dropout_rate: 0.1\n",
      "learning_rate: 0.001\n",
      "Score: 0.6401737332344055\n",
      "\n",
      "Trial 30 summary\n",
      "Hyperparameters:\n",
      "units: 24\n",
      "dropout_rate: 0.1\n",
      "learning_rate: 0.0001\n",
      "Score: 0.6625583171844482\n",
      "\n",
      "Trial 23 summary\n",
      "Hyperparameters:\n",
      "units: 8\n",
      "dropout_rate: 0.1\n",
      "learning_rate: 0.0001\n",
      "Score: 0.674884557723999\n"
     ]
    }
   ],
   "source": [
    "# Display tuning results summary\n",
    "tuner.results_summary()"
   ]
  },
  {
   "cell_type": "markdown",
   "id": "5084d3e3",
   "metadata": {},
   "source": [
    "#### Evaluating the Best Base Model\n",
    "   - Once the best hyperparameters are identified and the best model is trained, the next crucial step is to evaluate this model on the test data. The goal is to assess its performance using various metrics, including accuracy, precision, recall, and F1 score, which together provide a comprehensive understanding of the model's predictive capabilities."
   ]
  },
  {
   "cell_type": "code",
   "execution_count": 97,
   "id": "e83d7856",
   "metadata": {},
   "outputs": [
    {
     "name": "stdout",
     "output_type": "stream",
     "text": [
      "\u001b[1m10/10\u001b[0m \u001b[32m━━━━━━━━━━━━━━━━━━━━\u001b[0m\u001b[37m\u001b[0m \u001b[1m0s\u001b[0m 1ms/step - accuracy: 0.9002 - loss: 0.2390 - precision: 0.8044 - recall: 0.9978  \n",
      "Accuracy: 0.8932\n",
      "Precision: 0.7962\n",
      "Recall: 0.9921\n",
      "F1 Score: 0.8834\n"
     ]
    }
   ],
   "source": [
    "# Retrieve the best model\n",
    "best_model = tuner.get_best_models(num_models=1)[0]\n",
    "\n",
    "# Evaluate the model on the test data\n",
    "loss, accuracy, precision, recall = best_model.evaluate(test_generator)\n",
    "\n",
    "# Calculate F1 Score\n",
    "f1_score = 2 * (precision * recall) / (precision + recall)\n",
    "\n",
    "print(f\"Accuracy: {accuracy:.4f}\")\n",
    "print(f\"Precision: {precision:.4f}\")\n",
    "print(f\"Recall: {recall:.4f}\")\n",
    "print(f\"F1 Score: {f1_score:.4f}\")"
   ]
  },
  {
   "cell_type": "markdown",
   "id": "cbd8d4a1",
   "metadata": {},
   "source": [
    "**Output Interpretation:**\n",
    "\n",
    "- **Accuracy: 0.8932:** This indicates that approximately 89.32% of the predictions made by the model on the test data were correct.\n",
    "- **Precision: 0.7962:** This means that out of all the positive predictions made by the model, 79.62% were actually correct.\n",
    "- **Recall: 0.9921:** This high recall value shows that the model correctly identified 99.21% of all actual positive cases in the test data.\n",
    "- **F1 Score: 0.8834:** The F1 score, balancing precision and recall, reflects an overall strong performance of the model, especially in dealing with any class imbalances.\n",
    "\n",
    "**Impact:**\n",
    " - The combination of these metrics shows that the model performs well on the test data, especially in terms of recall, meaning it is highly effective at identifying positive cases. The precision and F1 score are also high, indicating a balanced and effective model. This evaluation confirms that the hyperparameter tuning and model selection process resulted in a model that is likely to perform robustly in real-world scenarios."
   ]
  },
  {
   "cell_type": "markdown",
   "id": "427696dc",
   "metadata": {},
   "source": [
    "#### Model Summary:\n",
    " - It provides an overview of the architecture of the LSTM model that was built and optimized during the training process. "
   ]
  },
  {
   "cell_type": "code",
   "execution_count": 98,
   "id": "8dab920b",
   "metadata": {},
   "outputs": [
    {
     "data": {
      "text/html": [
       "<pre style=\"white-space:pre;overflow-x:auto;line-height:normal;font-family:Menlo,'DejaVu Sans Mono',consolas,'Courier New',monospace\"><span style=\"font-weight: bold\">Model: \"sequential\"</span>\n",
       "</pre>\n"
      ],
      "text/plain": [
       "\u001b[1mModel: \"sequential\"\u001b[0m\n"
      ]
     },
     "metadata": {},
     "output_type": "display_data"
    },
    {
     "data": {
      "text/html": [
       "<pre style=\"white-space:pre;overflow-x:auto;line-height:normal;font-family:Menlo,'DejaVu Sans Mono',consolas,'Courier New',monospace\">┏━━━━━━━━━━━━━━━━━━━━━━━━━━━━━━━━━┳━━━━━━━━━━━━━━━━━━━━━━━━┳━━━━━━━━━━━━━━━┓\n",
       "┃<span style=\"font-weight: bold\"> Layer (type)                    </span>┃<span style=\"font-weight: bold\"> Output Shape           </span>┃<span style=\"font-weight: bold\">       Param # </span>┃\n",
       "┡━━━━━━━━━━━━━━━━━━━━━━━━━━━━━━━━━╇━━━━━━━━━━━━━━━━━━━━━━━━╇━━━━━━━━━━━━━━━┩\n",
       "│ lstm (<span style=\"color: #0087ff; text-decoration-color: #0087ff\">LSTM</span>)                     │ (<span style=\"color: #00d7ff; text-decoration-color: #00d7ff\">None</span>, <span style=\"color: #00af00; text-decoration-color: #00af00\">28</span>)             │         <span style=\"color: #00af00; text-decoration-color: #00af00\">5,936</span> │\n",
       "├─────────────────────────────────┼────────────────────────┼───────────────┤\n",
       "│ dropout (<span style=\"color: #0087ff; text-decoration-color: #0087ff\">Dropout</span>)               │ (<span style=\"color: #00d7ff; text-decoration-color: #00d7ff\">None</span>, <span style=\"color: #00af00; text-decoration-color: #00af00\">28</span>)             │             <span style=\"color: #00af00; text-decoration-color: #00af00\">0</span> │\n",
       "├─────────────────────────────────┼────────────────────────┼───────────────┤\n",
       "│ dense (<span style=\"color: #0087ff; text-decoration-color: #0087ff\">Dense</span>)                   │ (<span style=\"color: #00d7ff; text-decoration-color: #00d7ff\">None</span>, <span style=\"color: #00af00; text-decoration-color: #00af00\">1</span>)              │            <span style=\"color: #00af00; text-decoration-color: #00af00\">29</span> │\n",
       "└─────────────────────────────────┴────────────────────────┴───────────────┘\n",
       "</pre>\n"
      ],
      "text/plain": [
       "┏━━━━━━━━━━━━━━━━━━━━━━━━━━━━━━━━━┳━━━━━━━━━━━━━━━━━━━━━━━━┳━━━━━━━━━━━━━━━┓\n",
       "┃\u001b[1m \u001b[0m\u001b[1mLayer (type)                   \u001b[0m\u001b[1m \u001b[0m┃\u001b[1m \u001b[0m\u001b[1mOutput Shape          \u001b[0m\u001b[1m \u001b[0m┃\u001b[1m \u001b[0m\u001b[1m      Param #\u001b[0m\u001b[1m \u001b[0m┃\n",
       "┡━━━━━━━━━━━━━━━━━━━━━━━━━━━━━━━━━╇━━━━━━━━━━━━━━━━━━━━━━━━╇━━━━━━━━━━━━━━━┩\n",
       "│ lstm (\u001b[38;5;33mLSTM\u001b[0m)                     │ (\u001b[38;5;45mNone\u001b[0m, \u001b[38;5;34m28\u001b[0m)             │         \u001b[38;5;34m5,936\u001b[0m │\n",
       "├─────────────────────────────────┼────────────────────────┼───────────────┤\n",
       "│ dropout (\u001b[38;5;33mDropout\u001b[0m)               │ (\u001b[38;5;45mNone\u001b[0m, \u001b[38;5;34m28\u001b[0m)             │             \u001b[38;5;34m0\u001b[0m │\n",
       "├─────────────────────────────────┼────────────────────────┼───────────────┤\n",
       "│ dense (\u001b[38;5;33mDense\u001b[0m)                   │ (\u001b[38;5;45mNone\u001b[0m, \u001b[38;5;34m1\u001b[0m)              │            \u001b[38;5;34m29\u001b[0m │\n",
       "└─────────────────────────────────┴────────────────────────┴───────────────┘\n"
      ]
     },
     "metadata": {},
     "output_type": "display_data"
    },
    {
     "data": {
      "text/html": [
       "<pre style=\"white-space:pre;overflow-x:auto;line-height:normal;font-family:Menlo,'DejaVu Sans Mono',consolas,'Courier New',monospace\"><span style=\"font-weight: bold\"> Total params: </span><span style=\"color: #00af00; text-decoration-color: #00af00\">5,965</span> (23.30 KB)\n",
       "</pre>\n"
      ],
      "text/plain": [
       "\u001b[1m Total params: \u001b[0m\u001b[38;5;34m5,965\u001b[0m (23.30 KB)\n"
      ]
     },
     "metadata": {},
     "output_type": "display_data"
    },
    {
     "data": {
      "text/html": [
       "<pre style=\"white-space:pre;overflow-x:auto;line-height:normal;font-family:Menlo,'DejaVu Sans Mono',consolas,'Courier New',monospace\"><span style=\"font-weight: bold\"> Trainable params: </span><span style=\"color: #00af00; text-decoration-color: #00af00\">5,965</span> (23.30 KB)\n",
       "</pre>\n"
      ],
      "text/plain": [
       "\u001b[1m Trainable params: \u001b[0m\u001b[38;5;34m5,965\u001b[0m (23.30 KB)\n"
      ]
     },
     "metadata": {},
     "output_type": "display_data"
    },
    {
     "data": {
      "text/html": [
       "<pre style=\"white-space:pre;overflow-x:auto;line-height:normal;font-family:Menlo,'DejaVu Sans Mono',consolas,'Courier New',monospace\"><span style=\"font-weight: bold\"> Non-trainable params: </span><span style=\"color: #00af00; text-decoration-color: #00af00\">0</span> (0.00 B)\n",
       "</pre>\n"
      ],
      "text/plain": [
       "\u001b[1m Non-trainable params: \u001b[0m\u001b[38;5;34m0\u001b[0m (0.00 B)\n"
      ]
     },
     "metadata": {},
     "output_type": "display_data"
    }
   ],
   "source": [
    "best_model.summary()"
   ]
  },
  {
   "cell_type": "markdown",
   "id": "d9f35489",
   "metadata": {},
   "source": [
    "- **This Best Base LSTM Model consists of three key layers:**\n",
    "\n",
    "  - **LSTM Layer:**\n",
    "    - 28 units: Captures temporal dependencies in the data, crucial for predicting SPY ETF trends.\n",
    "    - 5,936 parameters: Represents the trainable weights and biases in the LSTM layer.\n",
    "  - **Dropout Layer:**\n",
    "    - Regularization: Prevents overfitting by randomly dropping units during training.\n",
    "    - No trainable parameters: It simply helps the model generalize better.\n",
    "  - **Dense Layer:**\n",
    "    - Single output: Produces the final prediction as a probability using a sigmoid activation function, ideal for binary classification.\n",
    "- Total Parameters: 5,965, indicating a lightweight yet effective model for trend prediction."
   ]
  },
  {
   "cell_type": "code",
   "execution_count": 99,
   "id": "4a37fe18",
   "metadata": {},
   "outputs": [
    {
     "data": {
      "image/png": "[encoded data removed]",
      "text/plain": [
       "<Figure size 800x550 with 1 Axes>"
      ]
     },
     "metadata": {},
     "output_type": "display_data"
    }
   ],
   "source": [
    "# Get all trials\n",
    "trials = tuner.oracle.get_best_trials(num_trials=50)\n",
    "\n",
    "# Extract accuracy scores\n",
    "accuracies = [trial.metrics.get_best_value('val_loss') for trial in trials]\n",
    "\n",
    "# Plot\n",
    "plt.plot(range(1, len(accuracies) + 1), accuracies, marker='o')\n",
    "plt.xlabel('Trial')\n",
    "plt.ylabel('Validation Loss')\n",
    "plt.title('Validation Loss Over Trials')\n",
    "plt.show()\n"
   ]
  },
  {
   "cell_type": "markdown",
   "id": "2649f4d8",
   "metadata": {},
   "source": [
    "#### Validation Loss Over Trials\n",
    "- This graph displays the validation loss of the model across 50 trials during the hyperparameter tuning process. The primary observations are:\n",
    "\n",
    "   - Initial Decrease: The validation loss decreases significantly during the early trials, indicating that the model is improving as the tuning process selects better hyperparameters.\n",
    "   - Plateau: After approximately the 10th trial, the validation loss plateaus around 0.3. This suggests that the model has reached a point where further tuning provides minimal improvements, indicating convergence to an optimal set of hyperparameters.\n",
    "  - Final Increase: A slight increase in validation loss towards the end may indicate that some hyperparameter combinations in the later trials were less effective, reaffirming the stability of the earlier optimal parameters.\n",
    "- This pattern suggests that the tuning process successfully identified a robust set of hyperparameters that minimized validation loss effectively."
   ]
  },
  {
   "cell_type": "markdown",
   "id": "a8fc7355",
   "metadata": {},
   "source": [
    "### Generating Predictions of Best Base Model and Comparison with Actual Values\n",
    "  - In this step, we generate predictions using the best-performing base model and compare these predictions with the actual target values from the test data:\n",
    "\n",
    "**Generating Predictions:**\n",
    " - The model's predictions are generated on the test data.\n",
    " - The output of the model is in probabilities, which are then converted to binary values (0 or 1) using a threshold of 0.5.\n",
    "**Comparison with Actual Values:**\n",
    " - The actual values from the test data are extracted and aligned with the predictions.\n",
    " - A DataFrame (comparison_df) is created to compare the model's predictions with the actual values side by side.\n"
   ]
  },
  {
   "cell_type": "code",
   "execution_count": 141,
   "id": "c909fe78",
   "metadata": {},
   "outputs": [
    {
     "name": "stdout",
     "output_type": "stream",
     "text": [
      "\u001b[1m10/10\u001b[0m \u001b[32m━━━━━━━━━━━━━━━━━━━━\u001b[0m\u001b[37m\u001b[0m \u001b[1m0s\u001b[0m 3ms/step  \n",
      "     Predicted  Actual\n",
      "0            0     0.0\n",
      "1            0     0.0\n",
      "2            0     0.0\n",
      "3            0     0.0\n",
      "4            1     1.0\n",
      "..         ...     ...\n",
      "304          0     0.0\n",
      "305          1     1.0\n",
      "306          1     0.0\n",
      "307          0     0.0\n",
      "308          0     0.0\n",
      "\n",
      "[309 rows x 2 columns]\n"
     ]
    }
   ],
   "source": [
    "# Generate predictions using the test data\n",
    "predictions = best_model.predict(test_generator)\n",
    "predictions = (predictions > 0.5).astype(int)  # Convert probabilities to binary 0 or 1\n",
    "\n",
    "# Actual values from the test data\n",
    "actual = y_test[-len(predictions):]  # Ensure the length matches the predictions\n",
    "\n",
    "# Combine predictions and actual values into a DataFrame\n",
    "comparison_df = pd.DataFrame({\n",
    "    'Predicted': predictions.flatten(),\n",
    "    'Actual': actual\n",
    "})\n",
    "\n",
    "# Display the first few rows of the comparison DataFrame\n",
    "print(comparison_df)"
   ]
  },
  {
   "cell_type": "markdown",
   "id": "cd2ad25a",
   "metadata": {},
   "source": [
    "- **Output Display:**\n",
    "  - The first few rows of the comparison DataFrame are displayed, showing how the model's predictions match the actual outcomes.\n",
    "  - The output demonstrates that the model has accurately predicted several instances, as shown by the alignment of predicted and actual values. This provides an initial view of the model's performance before detailed evaluation.\n",
    "\n"
   ]
  },
  {
   "cell_type": "code",
   "execution_count": 101,
   "id": "229c7e75",
   "metadata": {},
   "outputs": [],
   "source": [
    "# Save the best model\n",
    "best_model.save(\"best_base_lstm_model.keras\")"
   ]
  },
  {
   "cell_type": "markdown",
   "id": "53dbd7fe",
   "metadata": {},
   "source": [
    "- the best model is saved for future use or further analysis."
   ]
  },
  {
   "cell_type": "code",
   "execution_count": 143,
   "id": "e7acb98c",
   "metadata": {},
   "outputs": [],
   "source": [
    "# Launch TensorBoard\n",
    "%tensorboard --logdir=./logs/lstm_model_1"
   ]
  },
  {
   "cell_type": "markdown",
   "id": "fc40680d",
   "metadata": {},
   "source": [
    "---"
   ]
  },
  {
   "cell_type": "markdown",
   "id": "36e1a974",
   "metadata": {},
   "source": [
    "### Model-2)  LSTM with 2 Layers\n",
    "\n",
    "**Architecture Overview:**\n",
    "\n",
    "  - The LSTM-2 Layer model introduces an additional layer of LSTM neurons compared to the base single-layer LSTM model. \n",
    "  - The architecture is designed to capture more complex patterns and dependencies in the sequential data by allowing information to flow through multiple layers before making a prediction.\n",
    "\n",
    "\n",
    "\n",
    "- **Differences from the Base Model (Single Layer):**\n",
    "\n",
    "   - **Deeper Network:**\n",
    "     - The introduction of a second LSTM layer increases the model's depth, enabling it to learn more abstract and high-level features from the data.\n",
    "     - In contrast to the single-layer LSTM, which only has one set of LSTM units processing the input data, the two-layer model processes the data twice through separate LSTM layers before making a prediction.\n",
    "  - **Return Sequences:**\n",
    "    - The first LSTM layer in this model has return_sequences=True, which means that the output of each time step is fed into the next LSTM layer. This setting is crucial for stacking multiple LSTM layers, as it ensures that the full sequence is passed through each layer.\n",
    "  - **Dropout Regularization:**\n",
    "    - Dropout layers are added after each LSTM layer to prevent overfitting by randomly setting a fraction of input units to 0 during training. This enhances the model's generalization ability."
   ]
  },
  {
   "cell_type": "code",
   "execution_count": 30,
   "id": "c9bea730",
   "metadata": {},
   "outputs": [],
   "source": [
    "# Step 1: Build the Model with Hyperparameter Tuning\n",
    "def build_model(hp):\n",
    "    tf.keras.backend.clear_session()\n",
    "    \n",
    "    # Instantiate the model\n",
    "    model = Sequential()\n",
    "    \n",
    "    # Tune the number of units for the first LSTM layer\n",
    "    hp_units1 = hp.Int('units1', min_value=4, max_value=32, step=4)\n",
    "    \n",
    "    # Tune the dropout rate for the first LSTM layer\n",
    "    hp_dropout1 = hp.Float('dropout_rate1', min_value=0.0, max_value=0.5, step=0.1)\n",
    "    \n",
    "    # Add the first LSTM layer\n",
    "    model.add(LSTM(units=hp_units1, input_shape=(lookback, X_train_scaled.shape[1]), \n",
    "                   activation='relu', return_sequences=True))\n",
    "    \n",
    "    # Add Dropout after the first LSTM layer\n",
    "    model.add(Dropout(hp_dropout1))\n",
    "    \n",
    "    # Tune the number of units for the second LSTM layer\n",
    "    hp_units2 = hp.Int('units2', min_value=4, max_value=32, step=4)\n",
    "    \n",
    "    # Tune the dropout rate for the second LSTM layer\n",
    "    hp_dropout2 = hp.Float('dropout_rate2', min_value=0.0, max_value=0.5, step=0.1)\n",
    "    \n",
    "    # Add the second LSTM layer\n",
    "    model.add(LSTM(units=hp_units2, activation='relu', return_sequences=False))\n",
    "    \n",
    "    # Add Dropout after the second LSTM layer\n",
    "    model.add(Dropout(hp_dropout2))\n",
    "    \n",
    "    # Add output layer\n",
    "    model.add(Dense(1, activation='sigmoid'))\n",
    "    \n",
    "    # Compile the model\n",
    "    model.compile(optimizer=Adam(learning_rate=hp.Choice('learning_rate', values=[1e-2, 1e-3, 1e-4]), \n",
    "                                 epsilon=1e-08, decay=0.0),\n",
    "                  loss='binary_crossentropy',\n",
    "                  metrics=['accuracy', tf.keras.metrics.Precision(), tf.keras.metrics.Recall()])\n",
    "    \n",
    "    return model"
   ]
  },
  {
   "cell_type": "markdown",
   "id": "392b16bc",
   "metadata": {},
   "source": [
    "**Explanation:**\n",
    "\n",
    " - **Layer 1 - First LSTM:**\n",
    "    - **units1:** This parameter defines the number of LSTM units (neurons) in the first layer. The hp.Int function is used to tune this value during hyperparameter optimization, with possible values ranging from 4 to 32 in steps of 4.\n",
    "   - **return_sequences=True:** This ensures that the output of each time step is passed as input to the next LSTM layer.\n",
    "- **Layer 2 - First Dropout:**\n",
    "  - **dropout_rate1:** A tunable dropout rate is applied after the first LSTM layer to prevent overfitting.\n",
    "- **Layer 3 - Second LSTM:**\n",
    "  - **units2:** Defines the number of units in the second LSTM layer, similar to the first, but with its own tunable parameters.\n",
    "  - **return_sequences=False:** This is set to False as it is the final LSTM layer, and we only need the output of the last time step.\n",
    "- **Layer 4 - Second Dropout:**\n",
    "  - **dropout_rate2:** Similar to the first dropout layer but applied after the second LSTM layer.\n",
    "  - **Output Layer:**\n",
    "    - A dense layer with a single output and a sigmoid activation function is used to predict the probability of the target class.\n",
    "\n",
    "- **Compilation:**\n",
    "  - The model is compiled with the Adam optimizer, binary cross-entropy loss, and accuracy, precision, and recall as the evaluation metrics.\n",
    "\n",
    "- This architecture is more sophisticated than the base model, potentially offering better performance on complex datasets due to its increased depth and ability to capture more nuanced relationships in the data."
   ]
  },
  {
   "cell_type": "markdown",
   "id": "39603828",
   "metadata": {},
   "source": [
    "#### RandomSearch Tuner for the LSTM 2-Layer Model"
   ]
  },
  {
   "cell_type": "code",
   "execution_count": 32,
   "id": "a15db7c7",
   "metadata": {},
   "outputs": [],
   "source": [
    "# Step 2: Setup RandomSearch Tuner\n",
    "tuner = kt.RandomSearch(\n",
    "    build_model,\n",
    "    objective='val_loss',  # Use loss as the primary metric\n",
    "    max_trials=50,  # Maximum number of trials\n",
    "    directory='./keras',\n",
    "    project_name='rs_2layer_lstm',  # Change this to distinguish between trials\n",
    "    overwrite=True\n",
    ")"
   ]
  },
  {
   "cell_type": "markdown",
   "id": "2bb225be",
   "metadata": {},
   "source": [
    "#### Callbacks for Early Stopping and TensorBoard for LSTM 2-layer Model"
   ]
  },
  {
   "cell_type": "code",
   "execution_count": 33,
   "id": "ac9a48b5",
   "metadata": {},
   "outputs": [],
   "source": [
    "# Step 3: Setup Callbacks for Early Stopping and TensorBoard\n",
    "log_dir = \"./logs/2_layer_lstm\"\n",
    "tensorboard_callback = TensorBoard(log_dir=log_dir, histogram_freq=1)\n",
    "early_stopping = EarlyStopping(monitor='val_loss', patience=5, mode='min', verbose=1)\n",
    "\n",
    "# Include the callbacks in the model training\n",
    "callbacks = [early_stopping, tensorboard_callback]"
   ]
  },
  {
   "cell_type": "markdown",
   "id": "4b8f0883",
   "metadata": {},
   "source": [
    "#### Perform the Hyperparameter Search for LSTM 2-Layer Model\n",
    "  - In this step, the hyperparameter tuning process is executed using the tuner.search() function. The search is performed over 50 trials, evaluating the model on the validation data to find the best hyperparameter configuration."
   ]
  },
  {
   "cell_type": "code",
   "execution_count": 34,
   "id": "e2f4e158",
   "metadata": {},
   "outputs": [
    {
     "name": "stdout",
     "output_type": "stream",
     "text": [
      "Trial 50 Complete [00h 00m 05s]\n",
      "val_loss: 0.6762955784797668\n",
      "\n",
      "Best val_loss So Far: 0.31076815724372864\n",
      "Total elapsed time: 00h 05m 47s\n"
     ]
    }
   ],
   "source": [
    "# Step 4: Perform the Hyperparameter Search\n",
    "tuner.search(train_generator, epochs=100, validation_data=test_generator,\n",
    "             class_weight=class_weight_dict,\n",
    "             callbacks=callbacks)"
   ]
  },
  {
   "cell_type": "markdown",
   "id": "2f3abb46",
   "metadata": {},
   "source": [
    "**Results:**\n",
    " \n",
    " - The best validation loss (val_loss) achieved during the search process was 0.31076815724372864, demonstrating the model's ability to generalize well on unseen data.\n",
    "The total time taken for the entire hyperparameter search was just under 6 minutes, indicating an efficient tuning process."
   ]
  },
  {
   "cell_type": "markdown",
   "id": "60d2af05",
   "metadata": {},
   "source": [
    "#### Retrieve the Best Hyperparameters for Model-2"
   ]
  },
  {
   "cell_type": "code",
   "execution_count": 35,
   "id": "9c2553f0",
   "metadata": {},
   "outputs": [
    {
     "name": "stdout",
     "output_type": "stream",
     "text": [
      "{'units1': 20, 'dropout_rate1': 0.0, 'units2': 20, 'dropout_rate2': 0.2, 'learning_rate': 0.001}\n"
     ]
    }
   ],
   "source": [
    "# Step 5: Retrieve the Best Hyperparameters\n",
    "best_hbp = tuner.get_best_hyperparameters()[0]\n",
    "print(best_hbp.values)"
   ]
  },
  {
   "cell_type": "markdown",
   "id": "37f9627a",
   "metadata": {},
   "source": [
    "**Best Hyperparameters Retrieved:**\n",
    " - Units in First LSTM Layer (units1): 20\n",
    " - Dropout Rate After First LSTM Layer (dropout_rate1): 0.0 (no dropout applied)\n",
    " - Units in Second LSTM Layer (units2): 20\n",
    " - Dropout Rate After Second LSTM Layer (dropout_rate2): 0.2 (20% dropout applied)\n",
    " - Learning Rate: 0.001"
   ]
  },
  {
   "cell_type": "code",
   "execution_count": 36,
   "id": "441e747c",
   "metadata": {},
   "outputs": [
    {
     "name": "stdout",
     "output_type": "stream",
     "text": [
      "Results summary\n",
      "Results in ./keras/rs_2layer_lstm\n",
      "Showing 10 best trials\n",
      "Objective(name=\"val_loss\", direction=\"min\")\n",
      "\n",
      "Trial 32 summary\n",
      "Hyperparameters:\n",
      "units1: 20\n",
      "dropout_rate1: 0.0\n",
      "units2: 20\n",
      "dropout_rate2: 0.2\n",
      "learning_rate: 0.001\n",
      "Score: 0.31076815724372864\n",
      "\n",
      "Trial 21 summary\n",
      "Hyperparameters:\n",
      "units1: 32\n",
      "dropout_rate1: 0.0\n",
      "units2: 12\n",
      "dropout_rate2: 0.4\n",
      "learning_rate: 0.001\n",
      "Score: 0.3256916403770447\n",
      "\n",
      "Trial 10 summary\n",
      "Hyperparameters:\n",
      "units1: 20\n",
      "dropout_rate1: 0.4\n",
      "units2: 20\n",
      "dropout_rate2: 0.1\n",
      "learning_rate: 0.001\n",
      "Score: 0.32647982239723206\n",
      "\n",
      "Trial 15 summary\n",
      "Hyperparameters:\n",
      "units1: 32\n",
      "dropout_rate1: 0.2\n",
      "units2: 24\n",
      "dropout_rate2: 0.1\n",
      "learning_rate: 0.001\n",
      "Score: 0.32763558626174927\n",
      "\n",
      "Trial 06 summary\n",
      "Hyperparameters:\n",
      "units1: 16\n",
      "dropout_rate1: 0.2\n",
      "units2: 24\n",
      "dropout_rate2: 0.0\n",
      "learning_rate: 0.001\n",
      "Score: 0.3336203992366791\n",
      "\n",
      "Trial 04 summary\n",
      "Hyperparameters:\n",
      "units1: 4\n",
      "dropout_rate1: 0.2\n",
      "units2: 24\n",
      "dropout_rate2: 0.2\n",
      "learning_rate: 0.001\n",
      "Score: 0.5586530566215515\n",
      "\n",
      "Trial 22 summary\n",
      "Hyperparameters:\n",
      "units1: 4\n",
      "dropout_rate1: 0.2\n",
      "units2: 24\n",
      "dropout_rate2: 0.4\n",
      "learning_rate: 0.001\n",
      "Score: 0.6171936988830566\n",
      "\n",
      "Trial 17 summary\n",
      "Hyperparameters:\n",
      "units1: 8\n",
      "dropout_rate1: 0.4\n",
      "units2: 32\n",
      "dropout_rate2: 0.0\n",
      "learning_rate: 0.001\n",
      "Score: 0.6316127181053162\n",
      "\n",
      "Trial 20 summary\n",
      "Hyperparameters:\n",
      "units1: 16\n",
      "dropout_rate1: 0.0\n",
      "units2: 12\n",
      "dropout_rate2: 0.4\n",
      "learning_rate: 0.001\n",
      "Score: 0.6384034156799316\n",
      "\n",
      "Trial 43 summary\n",
      "Hyperparameters:\n",
      "units1: 20\n",
      "dropout_rate1: 0.0\n",
      "units2: 28\n",
      "dropout_rate2: 0.4\n",
      "learning_rate: 0.001\n",
      "Score: 0.6450580954551697\n"
     ]
    }
   ],
   "source": [
    "# Display tuning results summary\n",
    "tuner.results_summary()"
   ]
  },
  {
   "cell_type": "markdown",
   "id": "c66761aa",
   "metadata": {},
   "source": [
    "#### Evaluate the Best LSTM 2-Layer Model on Train and Test Data"
   ]
  },
  {
   "cell_type": "code",
   "execution_count": 37,
   "id": "b1900322",
   "metadata": {},
   "outputs": [
    {
     "name": "stdout",
     "output_type": "stream",
     "text": [
      "\u001b[1m10/10\u001b[0m \u001b[32m━━━━━━━━━━━━━━━━━━━━\u001b[0m\u001b[37m\u001b[0m \u001b[1m0s\u001b[0m 2ms/step - accuracy: 0.8637 - loss: 0.3115 - precision: 0.7711 - recall: 0.9471  \n",
      "\u001b[1m10/10\u001b[0m \u001b[32m━━━━━━━━━━━━━━━━━━━━\u001b[0m\u001b[37m\u001b[0m \u001b[1m0s\u001b[0m 4ms/step - accuracy: 0.8637 - loss: 0.3115 - precision: 0.7711 - recall: 0.9471 \n",
      "Accuracy: 0.8608\n",
      "Precision: 0.7610\n",
      "Recall: 0.9603\n",
      "F1 Score: 0.8491\n"
     ]
    }
   ],
   "source": [
    "# Step 6: Evaluate the Best LSTM 2-Layer Model\n",
    "best_model = tuner.get_best_models(num_models=1)[0]\n",
    "best_model.evaluate(test_generator)\n",
    "\n",
    "# Evaluate the model on the test data\n",
    "loss, accuracy, precision, recall = best_model.evaluate(test_generator)\n",
    "\n",
    "# Calculate F1 Score\n",
    "f1_score = 2 * (precision * recall) / (precision + recall)\n",
    "\n",
    "print(f\"Accuracy: {accuracy:.4f}\")\n",
    "print(f\"Precision: {precision:.4f}\")\n",
    "print(f\"Recall: {recall:.4f}\")\n",
    "print(f\"F1 Score: {f1_score:.4f}\")"
   ]
  },
  {
   "cell_type": "markdown",
   "id": "16fc6e29",
   "metadata": {},
   "source": [
    "**Results on Test data:**\n",
    "   - **Accuracy:** The model achieved an accuracy of 0.8608 on the test data, meaning approximately 86% of predictions were correct.\n",
    "  - **Precision:** Precision is 0.7610, indicating that when the model predicted an uptrend (class 1), about 76% of those predictions were correct.\n",
    " - **Recall:** The recall is 0.9603, which shows that the model was able to identify 96% of all actual uptrends (class 1) correctly.\n",
    " - **F1 Score:** The F1 score, which is the harmonic mean of precision and recall, is 0.8491. This score represents a balance between precision and recall, showing that the model has a good balance of correctly predicting both classes with reasonable precision and recall."
   ]
  },
  {
   "cell_type": "markdown",
   "id": "582bc65e",
   "metadata": {},
   "source": [
    "#### Summary of the Best LSTM 2-Layer Model"
   ]
  },
  {
   "cell_type": "code",
   "execution_count": 38,
   "id": "4950ea07",
   "metadata": {},
   "outputs": [
    {
     "data": {
      "text/html": [
       "<pre style=\"white-space:pre;overflow-x:auto;line-height:normal;font-family:Menlo,'DejaVu Sans Mono',consolas,'Courier New',monospace\"><span style=\"font-weight: bold\">Model: \"sequential\"</span>\n",
       "</pre>\n"
      ],
      "text/plain": [
       "\u001b[1mModel: \"sequential\"\u001b[0m\n"
      ]
     },
     "metadata": {},
     "output_type": "display_data"
    },
    {
     "data": {
      "text/html": [
       "<pre style=\"white-space:pre;overflow-x:auto;line-height:normal;font-family:Menlo,'DejaVu Sans Mono',consolas,'Courier New',monospace\">┏━━━━━━━━━━━━━━━━━━━━━━━━━━━━━━━━━┳━━━━━━━━━━━━━━━━━━━━━━━━┳━━━━━━━━━━━━━━━┓\n",
       "┃<span style=\"font-weight: bold\"> Layer (type)                    </span>┃<span style=\"font-weight: bold\"> Output Shape           </span>┃<span style=\"font-weight: bold\">       Param # </span>┃\n",
       "┡━━━━━━━━━━━━━━━━━━━━━━━━━━━━━━━━━╇━━━━━━━━━━━━━━━━━━━━━━━━╇━━━━━━━━━━━━━━━┩\n",
       "│ lstm (<span style=\"color: #0087ff; text-decoration-color: #0087ff\">LSTM</span>)                     │ (<span style=\"color: #00d7ff; text-decoration-color: #00d7ff\">None</span>, <span style=\"color: #00af00; text-decoration-color: #00af00\">21</span>, <span style=\"color: #00af00; text-decoration-color: #00af00\">20</span>)         │         <span style=\"color: #00af00; text-decoration-color: #00af00\">3,600</span> │\n",
       "├─────────────────────────────────┼────────────────────────┼───────────────┤\n",
       "│ dropout (<span style=\"color: #0087ff; text-decoration-color: #0087ff\">Dropout</span>)               │ (<span style=\"color: #00d7ff; text-decoration-color: #00d7ff\">None</span>, <span style=\"color: #00af00; text-decoration-color: #00af00\">21</span>, <span style=\"color: #00af00; text-decoration-color: #00af00\">20</span>)         │             <span style=\"color: #00af00; text-decoration-color: #00af00\">0</span> │\n",
       "├─────────────────────────────────┼────────────────────────┼───────────────┤\n",
       "│ lstm_1 (<span style=\"color: #0087ff; text-decoration-color: #0087ff\">LSTM</span>)                   │ (<span style=\"color: #00d7ff; text-decoration-color: #00d7ff\">None</span>, <span style=\"color: #00af00; text-decoration-color: #00af00\">20</span>)             │         <span style=\"color: #00af00; text-decoration-color: #00af00\">3,280</span> │\n",
       "├─────────────────────────────────┼────────────────────────┼───────────────┤\n",
       "│ dropout_1 (<span style=\"color: #0087ff; text-decoration-color: #0087ff\">Dropout</span>)             │ (<span style=\"color: #00d7ff; text-decoration-color: #00d7ff\">None</span>, <span style=\"color: #00af00; text-decoration-color: #00af00\">20</span>)             │             <span style=\"color: #00af00; text-decoration-color: #00af00\">0</span> │\n",
       "├─────────────────────────────────┼────────────────────────┼───────────────┤\n",
       "│ dense (<span style=\"color: #0087ff; text-decoration-color: #0087ff\">Dense</span>)                   │ (<span style=\"color: #00d7ff; text-decoration-color: #00d7ff\">None</span>, <span style=\"color: #00af00; text-decoration-color: #00af00\">1</span>)              │            <span style=\"color: #00af00; text-decoration-color: #00af00\">21</span> │\n",
       "└─────────────────────────────────┴────────────────────────┴───────────────┘\n",
       "</pre>\n"
      ],
      "text/plain": [
       "┏━━━━━━━━━━━━━━━━━━━━━━━━━━━━━━━━━┳━━━━━━━━━━━━━━━━━━━━━━━━┳━━━━━━━━━━━━━━━┓\n",
       "┃\u001b[1m \u001b[0m\u001b[1mLayer (type)                   \u001b[0m\u001b[1m \u001b[0m┃\u001b[1m \u001b[0m\u001b[1mOutput Shape          \u001b[0m\u001b[1m \u001b[0m┃\u001b[1m \u001b[0m\u001b[1m      Param #\u001b[0m\u001b[1m \u001b[0m┃\n",
       "┡━━━━━━━━━━━━━━━━━━━━━━━━━━━━━━━━━╇━━━━━━━━━━━━━━━━━━━━━━━━╇━━━━━━━━━━━━━━━┩\n",
       "│ lstm (\u001b[38;5;33mLSTM\u001b[0m)                     │ (\u001b[38;5;45mNone\u001b[0m, \u001b[38;5;34m21\u001b[0m, \u001b[38;5;34m20\u001b[0m)         │         \u001b[38;5;34m3,600\u001b[0m │\n",
       "├─────────────────────────────────┼────────────────────────┼───────────────┤\n",
       "│ dropout (\u001b[38;5;33mDropout\u001b[0m)               │ (\u001b[38;5;45mNone\u001b[0m, \u001b[38;5;34m21\u001b[0m, \u001b[38;5;34m20\u001b[0m)         │             \u001b[38;5;34m0\u001b[0m │\n",
       "├─────────────────────────────────┼────────────────────────┼───────────────┤\n",
       "│ lstm_1 (\u001b[38;5;33mLSTM\u001b[0m)                   │ (\u001b[38;5;45mNone\u001b[0m, \u001b[38;5;34m20\u001b[0m)             │         \u001b[38;5;34m3,280\u001b[0m │\n",
       "├─────────────────────────────────┼────────────────────────┼───────────────┤\n",
       "│ dropout_1 (\u001b[38;5;33mDropout\u001b[0m)             │ (\u001b[38;5;45mNone\u001b[0m, \u001b[38;5;34m20\u001b[0m)             │             \u001b[38;5;34m0\u001b[0m │\n",
       "├─────────────────────────────────┼────────────────────────┼───────────────┤\n",
       "│ dense (\u001b[38;5;33mDense\u001b[0m)                   │ (\u001b[38;5;45mNone\u001b[0m, \u001b[38;5;34m1\u001b[0m)              │            \u001b[38;5;34m21\u001b[0m │\n",
       "└─────────────────────────────────┴────────────────────────┴───────────────┘\n"
      ]
     },
     "metadata": {},
     "output_type": "display_data"
    },
    {
     "data": {
      "text/html": [
       "<pre style=\"white-space:pre;overflow-x:auto;line-height:normal;font-family:Menlo,'DejaVu Sans Mono',consolas,'Courier New',monospace\"><span style=\"font-weight: bold\"> Total params: </span><span style=\"color: #00af00; text-decoration-color: #00af00\">6,901</span> (26.96 KB)\n",
       "</pre>\n"
      ],
      "text/plain": [
       "\u001b[1m Total params: \u001b[0m\u001b[38;5;34m6,901\u001b[0m (26.96 KB)\n"
      ]
     },
     "metadata": {},
     "output_type": "display_data"
    },
    {
     "data": {
      "text/html": [
       "<pre style=\"white-space:pre;overflow-x:auto;line-height:normal;font-family:Menlo,'DejaVu Sans Mono',consolas,'Courier New',monospace\"><span style=\"font-weight: bold\"> Trainable params: </span><span style=\"color: #00af00; text-decoration-color: #00af00\">6,901</span> (26.96 KB)\n",
       "</pre>\n"
      ],
      "text/plain": [
       "\u001b[1m Trainable params: \u001b[0m\u001b[38;5;34m6,901\u001b[0m (26.96 KB)\n"
      ]
     },
     "metadata": {},
     "output_type": "display_data"
    },
    {
     "data": {
      "text/html": [
       "<pre style=\"white-space:pre;overflow-x:auto;line-height:normal;font-family:Menlo,'DejaVu Sans Mono',consolas,'Courier New',monospace\"><span style=\"font-weight: bold\"> Non-trainable params: </span><span style=\"color: #00af00; text-decoration-color: #00af00\">0</span> (0.00 B)\n",
       "</pre>\n"
      ],
      "text/plain": [
       "\u001b[1m Non-trainable params: \u001b[0m\u001b[38;5;34m0\u001b[0m (0.00 B)\n"
      ]
     },
     "metadata": {},
     "output_type": "display_data"
    }
   ],
   "source": [
    "best_model.summary()"
   ]
  },
  {
   "cell_type": "markdown",
   "id": "b7a43fd1",
   "metadata": {},
   "source": [
    "- Summary of the Best LSTM 2-Layer Model\n",
    "  - The model summary shows the architecture of the best 2-layer LSTM model obtained through hyperparameter tuning. Here’s a brief explanation of each layer:\n",
    "\n",
    "- First LSTM Layer:\n",
    "  - This layer has 20 units (neurons) as determined by the hyperparameter tuning.\n",
    "  - The input shape is (21, 20), indicating that the model uses 21 time steps (lookback period) with 20 features per step.\n",
    "  - The return_sequences=True parameter ensures that the output of this LSTM layer is passed as a sequence to the next LSTM layer.\n",
    "- First Dropout Layer:\n",
    "  - A dropout layer is added after the first LSTM layer to prevent overfitting by randomly setting a fraction of input units to 0 during training.\n",
    "  - In this case, the dropout rate is 0, indicating that no dropout is applied for this layer.\n",
    "- Second LSTM Layer:\n",
    "  - This layer also has 20 units. However, unlike the first LSTM layer, return_sequences=False, meaning it only outputs the final hidden state to the next layer.\n",
    "  - This layer further processes the sequence data, summarizing it to a single output.\n",
    "- Second Dropout Layer:\n",
    "  - Another dropout layer is added after the second LSTM layer with a dropout rate of 0.2, meaning 20% of the units are randomly dropped during training.\n",
    "- Dense Output Layer:\n",
    "  - The final layer is a Dense layer with a single unit, using the sigmoid activation function to output a probability between 0 and 1, representing the model's prediction for the target class.\n",
    "\n",
    "- Total Parameters:\n",
    "\n",
    "  - The model has 6,901 trainable parameters, which the model learns during training to make accurate predictions.\n",
    "- This architecture allows the model to capture complex temporal patterns and dependencies in the input data, contributing to its improved performance over a single-layer LSTM model."
   ]
  },
  {
   "cell_type": "code",
   "execution_count": 40,
   "id": "55ed48ef",
   "metadata": {},
   "outputs": [
    {
     "name": "stdout",
     "output_type": "stream",
     "text": [
      "\u001b[1m10/10\u001b[0m \u001b[32m━━━━━━━━━━━━━━━━━━━━\u001b[0m\u001b[37m\u001b[0m \u001b[1m0s\u001b[0m 14ms/step\n",
      "    Predicted  Actual\n",
      "0           0     0.0\n",
      "1           0     0.0\n",
      "2           0     0.0\n",
      "3           0     0.0\n",
      "4           1     1.0\n",
      "5           0     0.0\n",
      "6           1     1.0\n",
      "7           0     0.0\n",
      "8           1     1.0\n",
      "9           1     1.0\n",
      "10          0     0.0\n",
      "11          1     1.0\n",
      "12          1     1.0\n",
      "13          1     0.0\n",
      "14          0     0.0\n",
      "15          1     1.0\n",
      "16          1     1.0\n",
      "17          1     1.0\n",
      "18          0     1.0\n",
      "19          0     0.0\n"
     ]
    }
   ],
   "source": [
    "# Generate predictions using the test data\n",
    "predictions = best_model.predict(test_generator)\n",
    "predictions = (predictions > 0.5).astype(int)  # Convert probabilities to binary 0 or 1\n",
    "\n",
    "# Actual values from the test data\n",
    "actual = y_test[-len(predictions):]  # Ensure the length matches the predictions\n",
    "\n",
    "# Combine predictions and actual values into a DataFrame\n",
    "comparison_df = pd.DataFrame({\n",
    "    'Predicted': predictions.flatten(),\n",
    "    'Actual': actual\n",
    "})\n",
    "\n",
    "# Display the first few rows of the comparison DataFrame\n",
    "print(comparison_df.head(20))"
   ]
  },
  {
   "cell_type": "code",
   "execution_count": 41,
   "id": "324a1258",
   "metadata": {},
   "outputs": [],
   "source": [
    "#  Save the best model\n",
    "best_model.save(\"best_2_layer_lstm_model.keras\")"
   ]
  },
  {
   "cell_type": "markdown",
   "id": "7ef440c2",
   "metadata": {},
   "source": [
    "- Best LSTM 2 layer saved for future use"
   ]
  },
  {
   "cell_type": "code",
   "execution_count": 157,
   "id": "d916dede",
   "metadata": {},
   "outputs": [],
   "source": [
    "# Launch TensorBoard\n",
    "%tensorboard --logdir=./logs/2_layer_lstm"
   ]
  },
  {
   "cell_type": "markdown",
   "id": "01e69740",
   "metadata": {},
   "source": [
    "---"
   ]
  },
  {
   "cell_type": "markdown",
   "id": "3beab46b",
   "metadata": {},
   "source": [
    "### Model-3) LSTM 5-Layers \n",
    "\n",
    "**Architecture**\n",
    "\n",
    " - The 5-layer LSTM model is a more complex architecture designed to capture deeper and more intricate patterns in time series data. Here's how it works:\n",
    "\n",
    "- **Layer Structure:** \n",
    "  - The model consists of five LSTM layers stacked sequentially. Each layer processes the time-series data step by step, allowing the model to capture both short-term and long-term dependencies.\n",
    "- **Data Flow:** \n",
    "  - The input data flows through each LSTM layer, with each layer's output serving as the input for the next layer.   - The return_sequences parameter is set to True for the first four LSTM layers, which means that each layer outputs a full sequence of data for the next layer to process. The fifth LSTM layer, which is the final one, outputs only the last time step, which is then fed into the dense output layer.\n",
    "- **Dropout:**\n",
    "  - Between each LSTM layer, a dropout layer is added to prevent overfitting by randomly setting a fraction of input units to zero at each update during training time. The dropout rate is a tunable hyperparameter.\n",
    "- **Output Layer:**\n",
    "  - The final dense layer uses a sigmoid activation function to output a single probability value, which represents the likelihood of the SPY ETF having an upward trend for the next day.\n",
    "- **Purpose:**\n",
    "   - This deeper network allows the model to learn more complex patterns in the data, which might not be captured by simpler models like a single-layer LSTM or a two-layer LSTM."
   ]
  },
  {
   "cell_type": "code",
   "execution_count": null,
   "id": "cf3a0409",
   "metadata": {},
   "outputs": [],
   "source": [
    "# Step 1: Build the 5-Layer LSTM Model with Hyperparameter Tuning\n",
    "def build_model(hp):\n",
    "    tf.keras.backend.clear_session()\n",
    "    \n",
    "    model = Sequential()\n",
    "    \n",
    "    # First LSTM Layer\n",
    "    hp_units1 = hp.Int('units1', min_value=4, max_value=64, step=4)\n",
    "    hp_dropout1 = hp.Float('dropout_rate1', min_value=0.0, max_value=0.5, step=0.1)\n",
    "    model.add(LSTM(units=hp_units1, input_shape=(lookback, X_train_scaled.shape[1]), activation='relu', return_sequences=True))\n",
    "    model.add(Dropout(hp_dropout1))\n",
    "    \n",
    "    # Second to Fifth LSTM Layers\n",
    "    for i in range(2, 6):\n",
    "        hp_units = hp.Int(f'units{i}', min_value=4, max_value=64, step=4)\n",
    "        hp_dropout = hp.Float(f'dropout_rate{i}', min_value=0.0, max_value=0.5, step=0.1)\n",
    "        model.add(LSTM(units=hp_units, activation='relu', return_sequences=True if i < 5 else False))\n",
    "        model.add(Dropout(hp_dropout))\n",
    "    \n",
    "    # Output Layer\n",
    "    model.add(Dense(1, activation='sigmoid'))\n",
    "    \n",
    "    # Compile the Model\n",
    "    model.compile(optimizer=Adam(learning_rate=hp.Choice('learning_rate', values=[1e-2, 1e-3, 1e-4]), epsilon=1e-08, decay=0.0),\n",
    "                  loss='binary_crossentropy',\n",
    "                  metrics=['accuracy', tf.keras.metrics.Precision(), tf.keras.metrics.Recall()])\n",
    "    \n",
    "    return model"
   ]
  },
  {
   "cell_type": "markdown",
   "id": "dd13463d",
   "metadata": {},
   "source": [
    "**Explanation**\n",
    "  - **Sequential Model:**\n",
    "    - This line initializes a sequential model where layers are added in a linear stack.\n",
    " - **First LSTM Layer:**\n",
    "    - The number of units and dropout rate for the first LSTM layer are tuned using hyperparameters. This layer is responsible for capturing initial patterns in the time-series data.\n",
    "- **Second to Fifth LSTM Layers:**\n",
    "  - A loop is used to add the remaining four LSTM layers, each with tunable units and dropout rates. These layers help the model to learn deeper and more complex features.\n",
    "- **Output Layer:**\n",
    "  - The final dense layer produces the binary classification output, predicting whether the SPY ETF will trend upwards.\n",
    "- **Compilation:** \n",
    "  - The model is compiled using the Adam optimizer, with a binary cross-entropy loss function, and it tracks accuracy, precision, and recall as metrics. Hyperparameters for learning rate are also tuned during training.\n",
    "\n",
    "- This architecture allows the model to leverage the depth of the LSTM layers to better understand complex patterns in the time series data, potentially leading to more accurate predictions"
   ]
  },
  {
   "cell_type": "markdown",
   "id": "a0a73036",
   "metadata": {},
   "source": [
    "#### RandomSearch Tuner for LSTM 5 layers Model"
   ]
  },
  {
   "cell_type": "code",
   "execution_count": 44,
   "id": "21e9ecaa",
   "metadata": {},
   "outputs": [],
   "source": [
    "# Step 2: Setup RandomSearch Tuner\n",
    "tuner = kt.RandomSearch(\n",
    "    build_model,\n",
    "    objective='val_loss',  # Use loss as the primary metric\n",
    "    max_trials=50,  # Maximum number of trials\n",
    "    directory='./keras',\n",
    "    project_name='rs_5layer_lstm',  #to distinguish between trials\n",
    "    overwrite=True\n",
    ")"
   ]
  },
  {
   "cell_type": "markdown",
   "id": "7686b0d2",
   "metadata": {},
   "source": [
    "#### Callbacks for Early Stopping and Tensorboard"
   ]
  },
  {
   "cell_type": "code",
   "execution_count": 45,
   "id": "52351616",
   "metadata": {},
   "outputs": [],
   "source": [
    "# Setup Callbacks for Early Stopping and TensorBoard\n",
    "log_dir = \"./logs/5_layer_lstm\"\n",
    "tensorboard_callback = TensorBoard(log_dir=log_dir, histogram_freq=1)\n",
    "early_stopping = EarlyStopping(monitor='val_loss', patience=5, mode='min', verbose=1)\n",
    "\n",
    "callbacks = [early_stopping, tensorboard_callback]"
   ]
  },
  {
   "cell_type": "markdown",
   "id": "49c894af",
   "metadata": {},
   "source": [
    "#### Hyperparameter Search with RandomSearch Tuner"
   ]
  },
  {
   "cell_type": "code",
   "execution_count": 46,
   "id": "7c454dd7",
   "metadata": {},
   "outputs": [
    {
     "name": "stdout",
     "output_type": "stream",
     "text": [
      "Trial 50 Complete [00h 00m 17s]\n",
      "val_loss: 0.6621342301368713\n",
      "\n",
      "Best val_loss So Far: 0.2610277831554413\n",
      "Total elapsed time: 00h 17m 02s\n"
     ]
    }
   ],
   "source": [
    "# Step 3: Perform the Hyperparameter Search\n",
    "tuner.search(train_generator, epochs=100, validation_data=test_generator, class_weight=class_weight_dict, callbacks=callbacks)"
   ]
  },
  {
   "cell_type": "markdown",
   "id": "3a0b4f80",
   "metadata": {},
   "source": [
    "**Results:**\n",
    "  - Best Validation Loss: The best val_loss achieved so far is 0.2610, indicating how well the model generalizes to the validation data.\n",
    " - Total Time: The total elapsed time for completing all 50 trials is approximately 17 minutes and 2 seconds, showcasing the efficiency of the hyperparameter tuning process.\n",
    "- This step is crucial in optimizing the model's performance by finding the best set of hyperparameters, which directly impacts the model's ability to predict the SPY ETF's trend with high accuracy."
   ]
  },
  {
   "cell_type": "code",
   "execution_count": 47,
   "id": "6c84092a",
   "metadata": {},
   "outputs": [
    {
     "name": "stdout",
     "output_type": "stream",
     "text": [
      "{'units1': 64, 'dropout_rate1': 0.30000000000000004, 'units2': 48, 'dropout_rate2': 0.0, 'units3': 32, 'dropout_rate3': 0.2, 'units4': 8, 'dropout_rate4': 0.0, 'units5': 48, 'dropout_rate5': 0.30000000000000004, 'learning_rate': 0.001}\n"
     ]
    }
   ],
   "source": [
    "# Step 4: Retrieve the Best Hyperparameters\n",
    "best_hbp = tuner.get_best_hyperparameters()[0]\n",
    "print(best_hbp.values)"
   ]
  },
  {
   "cell_type": "markdown",
   "id": "6137bf6d",
   "metadata": {},
   "source": [
    "- The hyperparameter tuning process identified the following optimal set of hyperparameters for the 5-layer LSTM model:\n",
    "\n",
    "- First LSTM Layer:\n",
    "  - Units: 64\n",
    "  - Dropout Rate: 0.3\n",
    "- Second LSTM Layer:\n",
    "  - Units: 48\n",
    "  - Dropout Rate: 0.0\n",
    "- Third LSTM Layer:\n",
    "  - Units: 32\n",
    "  - Dropout Rate: 0.2\n",
    "- Fourth LSTM Layer:\n",
    "  - Units: 8\n",
    "  - Dropout Rate: 0.0\n",
    "- Fifth LSTM Layer:\n",
    "  - Units: 48\n",
    "  - Dropout Rate: 0.3\n",
    "- Learning Rate: 0.001\n"
   ]
  },
  {
   "cell_type": "code",
   "execution_count": 48,
   "id": "24b52a90",
   "metadata": {
    "scrolled": false
   },
   "outputs": [
    {
     "name": "stdout",
     "output_type": "stream",
     "text": [
      "Results summary\n",
      "Results in ./keras/rs_5layer_lstm\n",
      "Showing 10 best trials\n",
      "Objective(name=\"val_loss\", direction=\"min\")\n",
      "\n",
      "Trial 29 summary\n",
      "Hyperparameters:\n",
      "units1: 64\n",
      "dropout_rate1: 0.30000000000000004\n",
      "units2: 48\n",
      "dropout_rate2: 0.0\n",
      "units3: 32\n",
      "dropout_rate3: 0.2\n",
      "units4: 8\n",
      "dropout_rate4: 0.0\n",
      "units5: 48\n",
      "dropout_rate5: 0.30000000000000004\n",
      "learning_rate: 0.001\n",
      "Score: 0.2610277831554413\n",
      "\n",
      "Trial 38 summary\n",
      "Hyperparameters:\n",
      "units1: 52\n",
      "dropout_rate1: 0.4\n",
      "units2: 4\n",
      "dropout_rate2: 0.2\n",
      "units3: 16\n",
      "dropout_rate3: 0.2\n",
      "units4: 48\n",
      "dropout_rate4: 0.1\n",
      "units5: 16\n",
      "dropout_rate5: 0.30000000000000004\n",
      "learning_rate: 0.001\n",
      "Score: 0.2615254819393158\n",
      "\n",
      "Trial 13 summary\n",
      "Hyperparameters:\n",
      "units1: 12\n",
      "dropout_rate1: 0.1\n",
      "units2: 64\n",
      "dropout_rate2: 0.4\n",
      "units3: 4\n",
      "dropout_rate3: 0.4\n",
      "units4: 24\n",
      "dropout_rate4: 0.30000000000000004\n",
      "units5: 20\n",
      "dropout_rate5: 0.1\n",
      "learning_rate: 0.001\n",
      "Score: 0.34811753034591675\n",
      "\n",
      "Trial 12 summary\n",
      "Hyperparameters:\n",
      "units1: 64\n",
      "dropout_rate1: 0.0\n",
      "units2: 16\n",
      "dropout_rate2: 0.4\n",
      "units3: 24\n",
      "dropout_rate3: 0.1\n",
      "units4: 28\n",
      "dropout_rate4: 0.1\n",
      "units5: 64\n",
      "dropout_rate5: 0.4\n",
      "learning_rate: 0.0001\n",
      "Score: 0.37016424536705017\n",
      "\n",
      "Trial 45 summary\n",
      "Hyperparameters:\n",
      "units1: 48\n",
      "dropout_rate1: 0.0\n",
      "units2: 40\n",
      "dropout_rate2: 0.1\n",
      "units3: 56\n",
      "dropout_rate3: 0.1\n",
      "units4: 32\n",
      "dropout_rate4: 0.30000000000000004\n",
      "units5: 48\n",
      "dropout_rate5: 0.30000000000000004\n",
      "learning_rate: 0.0001\n",
      "Score: 0.37389668822288513\n",
      "\n",
      "Trial 41 summary\n",
      "Hyperparameters:\n",
      "units1: 32\n",
      "dropout_rate1: 0.0\n",
      "units2: 32\n",
      "dropout_rate2: 0.2\n",
      "units3: 36\n",
      "dropout_rate3: 0.2\n",
      "units4: 28\n",
      "dropout_rate4: 0.1\n",
      "units5: 4\n",
      "dropout_rate5: 0.2\n",
      "learning_rate: 0.0001\n",
      "Score: 0.4038466811180115\n",
      "\n",
      "Trial 14 summary\n",
      "Hyperparameters:\n",
      "units1: 48\n",
      "dropout_rate1: 0.2\n",
      "units2: 32\n",
      "dropout_rate2: 0.1\n",
      "units3: 44\n",
      "dropout_rate3: 0.2\n",
      "units4: 12\n",
      "dropout_rate4: 0.0\n",
      "units5: 24\n",
      "dropout_rate5: 0.30000000000000004\n",
      "learning_rate: 0.0001\n",
      "Score: 0.46905869245529175\n",
      "\n",
      "Trial 32 summary\n",
      "Hyperparameters:\n",
      "units1: 52\n",
      "dropout_rate1: 0.2\n",
      "units2: 36\n",
      "dropout_rate2: 0.30000000000000004\n",
      "units3: 52\n",
      "dropout_rate3: 0.2\n",
      "units4: 48\n",
      "dropout_rate4: 0.4\n",
      "units5: 12\n",
      "dropout_rate5: 0.4\n",
      "learning_rate: 0.0001\n",
      "Score: 0.5439107418060303\n",
      "\n",
      "Trial 00 summary\n",
      "Hyperparameters:\n",
      "units1: 28\n",
      "dropout_rate1: 0.1\n",
      "units2: 12\n",
      "dropout_rate2: 0.4\n",
      "units3: 20\n",
      "dropout_rate3: 0.4\n",
      "units4: 20\n",
      "dropout_rate4: 0.1\n",
      "units5: 20\n",
      "dropout_rate5: 0.1\n",
      "learning_rate: 0.0001\n",
      "Score: 0.5603837370872498\n",
      "\n",
      "Trial 28 summary\n",
      "Hyperparameters:\n",
      "units1: 40\n",
      "dropout_rate1: 0.2\n",
      "units2: 52\n",
      "dropout_rate2: 0.0\n",
      "units3: 12\n",
      "dropout_rate3: 0.0\n",
      "units4: 28\n",
      "dropout_rate4: 0.2\n",
      "units5: 24\n",
      "dropout_rate5: 0.4\n",
      "learning_rate: 0.0001\n",
      "Score: 0.5993320345878601\n"
     ]
    }
   ],
   "source": [
    "# Display tuning results summary\n",
    "tuner.results_summary()"
   ]
  },
  {
   "cell_type": "markdown",
   "id": "43c5f38b",
   "metadata": {},
   "source": [
    "#### Evaluate the Best 5-Layer LSTM Model"
   ]
  },
  {
   "cell_type": "code",
   "execution_count": 49,
   "id": "51105e63",
   "metadata": {},
   "outputs": [
    {
     "name": "stdout",
     "output_type": "stream",
     "text": [
      "\u001b[1m10/10\u001b[0m \u001b[32m━━━━━━━━━━━━━━━━━━━━\u001b[0m\u001b[37m\u001b[0m \u001b[1m1s\u001b[0m 6ms/step - accuracy: 0.8654 - loss: 0.2609 - precision: 0.7526 - recall: 0.9978  \n",
      "\u001b[1m10/10\u001b[0m \u001b[32m━━━━━━━━━━━━━━━━━━━━\u001b[0m\u001b[37m\u001b[0m \u001b[1m0s\u001b[0m 6ms/step - accuracy: 0.8654 - loss: 0.2609 - precision: 0.7526 - recall: 0.9978\n",
      "Accuracy: 0.8673\n",
      "Precision: 0.7576\n",
      "Recall: 0.9921\n",
      "F1 Score: 0.8591\n"
     ]
    }
   ],
   "source": [
    "# Evaluate the Best Model\n",
    "best_model = tuner.get_best_models(num_models=1)[0]\n",
    "best_model.evaluate(test_generator)\n",
    "\n",
    "# Evaluate the model on the test data\n",
    "loss, accuracy, precision, recall = best_model.evaluate(test_generator)\n",
    "\n",
    "# Calculate F1 Score\n",
    "f1_score = 2 * (precision * recall) / (precision + recall)\n",
    "\n",
    "print(f\"Accuracy: {accuracy:.4f}\")\n",
    "print(f\"Precision: {precision:.4f}\")\n",
    "print(f\"Recall: {recall:.4f}\")\n",
    "print(f\"F1 Score: {f1_score:.4f}\")"
   ]
  },
  {
   "cell_type": "markdown",
   "id": "9411dfe2",
   "metadata": {},
   "source": [
    "**Evaluation of the Best 5-Layer LSTM Model**\n",
    "\n",
    " - **Accuracy: 0.8673**\n",
    "   - Accuracy indicates the proportion of correct predictions made by the model out of all predictions. With an accuracy of approximately 86.7%, the model correctly predicts the direction of the SPY ETF's trend most of the time. \n",
    " - **Precision: 0.7576**\n",
    "   - Precision measures the accuracy of the positive predictions made by the model. Specifically, it tells us the percentage of predictions that were actually positive (uptrend) out of all predictions that the model classified as positive. A precision of 75.8% indicates that when the model predicts an uptrend, it's correct about 75.8% of the time. While this is strong, there is some room for improvement to reduce false positives.\n",
    " - **Recall: 0.9921**\n",
    "   - Recall, also known as sensitivity or true positive rate, measures the model's ability to correctly identify all actual positives (uptrends). With a recall of 99.2%, the model is highly effective at capturing nearly all of the true uptrends in the data. This high recall is crucial for financial models where missing an uptrend could lead to lost opportunities.\n",
    "- **F1 Score: 0.8591**\n",
    "   - The F1 Score is the harmonic mean of precision and recall, providing a single metric that balances both. With an F1 score of 85.9%, the model achieves a good balance between precision and recall, making it reliable for predicting uptrends in the SPY ETF. "
   ]
  },
  {
   "cell_type": "markdown",
   "id": "393b44b3",
   "metadata": {},
   "source": [
    "#### Model Summary of Best 5-layer LSTM model"
   ]
  },
  {
   "cell_type": "code",
   "execution_count": 50,
   "id": "01c6ab6e",
   "metadata": {},
   "outputs": [
    {
     "data": {
      "text/html": [
       "<pre style=\"white-space:pre;overflow-x:auto;line-height:normal;font-family:Menlo,'DejaVu Sans Mono',consolas,'Courier New',monospace\"><span style=\"font-weight: bold\">Model: \"sequential\"</span>\n",
       "</pre>\n"
      ],
      "text/plain": [
       "\u001b[1mModel: \"sequential\"\u001b[0m\n"
      ]
     },
     "metadata": {},
     "output_type": "display_data"
    },
    {
     "data": {
      "text/html": [
       "<pre style=\"white-space:pre;overflow-x:auto;line-height:normal;font-family:Menlo,'DejaVu Sans Mono',consolas,'Courier New',monospace\">┏━━━━━━━━━━━━━━━━━━━━━━━━━━━━━━━━━┳━━━━━━━━━━━━━━━━━━━━━━━━┳━━━━━━━━━━━━━━━┓\n",
       "┃<span style=\"font-weight: bold\"> Layer (type)                    </span>┃<span style=\"font-weight: bold\"> Output Shape           </span>┃<span style=\"font-weight: bold\">       Param # </span>┃\n",
       "┡━━━━━━━━━━━━━━━━━━━━━━━━━━━━━━━━━╇━━━━━━━━━━━━━━━━━━━━━━━━╇━━━━━━━━━━━━━━━┩\n",
       "│ lstm (<span style=\"color: #0087ff; text-decoration-color: #0087ff\">LSTM</span>)                     │ (<span style=\"color: #00d7ff; text-decoration-color: #00d7ff\">None</span>, <span style=\"color: #00af00; text-decoration-color: #00af00\">21</span>, <span style=\"color: #00af00; text-decoration-color: #00af00\">64</span>)         │        <span style=\"color: #00af00; text-decoration-color: #00af00\">22,784</span> │\n",
       "├─────────────────────────────────┼────────────────────────┼───────────────┤\n",
       "│ dropout (<span style=\"color: #0087ff; text-decoration-color: #0087ff\">Dropout</span>)               │ (<span style=\"color: #00d7ff; text-decoration-color: #00d7ff\">None</span>, <span style=\"color: #00af00; text-decoration-color: #00af00\">21</span>, <span style=\"color: #00af00; text-decoration-color: #00af00\">64</span>)         │             <span style=\"color: #00af00; text-decoration-color: #00af00\">0</span> │\n",
       "├─────────────────────────────────┼────────────────────────┼───────────────┤\n",
       "│ lstm_1 (<span style=\"color: #0087ff; text-decoration-color: #0087ff\">LSTM</span>)                   │ (<span style=\"color: #00d7ff; text-decoration-color: #00d7ff\">None</span>, <span style=\"color: #00af00; text-decoration-color: #00af00\">21</span>, <span style=\"color: #00af00; text-decoration-color: #00af00\">48</span>)         │        <span style=\"color: #00af00; text-decoration-color: #00af00\">21,696</span> │\n",
       "├─────────────────────────────────┼────────────────────────┼───────────────┤\n",
       "│ dropout_1 (<span style=\"color: #0087ff; text-decoration-color: #0087ff\">Dropout</span>)             │ (<span style=\"color: #00d7ff; text-decoration-color: #00d7ff\">None</span>, <span style=\"color: #00af00; text-decoration-color: #00af00\">21</span>, <span style=\"color: #00af00; text-decoration-color: #00af00\">48</span>)         │             <span style=\"color: #00af00; text-decoration-color: #00af00\">0</span> │\n",
       "├─────────────────────────────────┼────────────────────────┼───────────────┤\n",
       "│ lstm_2 (<span style=\"color: #0087ff; text-decoration-color: #0087ff\">LSTM</span>)                   │ (<span style=\"color: #00d7ff; text-decoration-color: #00d7ff\">None</span>, <span style=\"color: #00af00; text-decoration-color: #00af00\">21</span>, <span style=\"color: #00af00; text-decoration-color: #00af00\">32</span>)         │        <span style=\"color: #00af00; text-decoration-color: #00af00\">10,368</span> │\n",
       "├─────────────────────────────────┼────────────────────────┼───────────────┤\n",
       "│ dropout_2 (<span style=\"color: #0087ff; text-decoration-color: #0087ff\">Dropout</span>)             │ (<span style=\"color: #00d7ff; text-decoration-color: #00d7ff\">None</span>, <span style=\"color: #00af00; text-decoration-color: #00af00\">21</span>, <span style=\"color: #00af00; text-decoration-color: #00af00\">32</span>)         │             <span style=\"color: #00af00; text-decoration-color: #00af00\">0</span> │\n",
       "├─────────────────────────────────┼────────────────────────┼───────────────┤\n",
       "│ lstm_3 (<span style=\"color: #0087ff; text-decoration-color: #0087ff\">LSTM</span>)                   │ (<span style=\"color: #00d7ff; text-decoration-color: #00d7ff\">None</span>, <span style=\"color: #00af00; text-decoration-color: #00af00\">21</span>, <span style=\"color: #00af00; text-decoration-color: #00af00\">8</span>)          │         <span style=\"color: #00af00; text-decoration-color: #00af00\">1,312</span> │\n",
       "├─────────────────────────────────┼────────────────────────┼───────────────┤\n",
       "│ dropout_3 (<span style=\"color: #0087ff; text-decoration-color: #0087ff\">Dropout</span>)             │ (<span style=\"color: #00d7ff; text-decoration-color: #00d7ff\">None</span>, <span style=\"color: #00af00; text-decoration-color: #00af00\">21</span>, <span style=\"color: #00af00; text-decoration-color: #00af00\">8</span>)          │             <span style=\"color: #00af00; text-decoration-color: #00af00\">0</span> │\n",
       "├─────────────────────────────────┼────────────────────────┼───────────────┤\n",
       "│ lstm_4 (<span style=\"color: #0087ff; text-decoration-color: #0087ff\">LSTM</span>)                   │ (<span style=\"color: #00d7ff; text-decoration-color: #00d7ff\">None</span>, <span style=\"color: #00af00; text-decoration-color: #00af00\">48</span>)             │        <span style=\"color: #00af00; text-decoration-color: #00af00\">10,944</span> │\n",
       "├─────────────────────────────────┼────────────────────────┼───────────────┤\n",
       "│ dropout_4 (<span style=\"color: #0087ff; text-decoration-color: #0087ff\">Dropout</span>)             │ (<span style=\"color: #00d7ff; text-decoration-color: #00d7ff\">None</span>, <span style=\"color: #00af00; text-decoration-color: #00af00\">48</span>)             │             <span style=\"color: #00af00; text-decoration-color: #00af00\">0</span> │\n",
       "├─────────────────────────────────┼────────────────────────┼───────────────┤\n",
       "│ dense (<span style=\"color: #0087ff; text-decoration-color: #0087ff\">Dense</span>)                   │ (<span style=\"color: #00d7ff; text-decoration-color: #00d7ff\">None</span>, <span style=\"color: #00af00; text-decoration-color: #00af00\">1</span>)              │            <span style=\"color: #00af00; text-decoration-color: #00af00\">49</span> │\n",
       "└─────────────────────────────────┴────────────────────────┴───────────────┘\n",
       "</pre>\n"
      ],
      "text/plain": [
       "┏━━━━━━━━━━━━━━━━━━━━━━━━━━━━━━━━━┳━━━━━━━━━━━━━━━━━━━━━━━━┳━━━━━━━━━━━━━━━┓\n",
       "┃\u001b[1m \u001b[0m\u001b[1mLayer (type)                   \u001b[0m\u001b[1m \u001b[0m┃\u001b[1m \u001b[0m\u001b[1mOutput Shape          \u001b[0m\u001b[1m \u001b[0m┃\u001b[1m \u001b[0m\u001b[1m      Param #\u001b[0m\u001b[1m \u001b[0m┃\n",
       "┡━━━━━━━━━━━━━━━━━━━━━━━━━━━━━━━━━╇━━━━━━━━━━━━━━━━━━━━━━━━╇━━━━━━━━━━━━━━━┩\n",
       "│ lstm (\u001b[38;5;33mLSTM\u001b[0m)                     │ (\u001b[38;5;45mNone\u001b[0m, \u001b[38;5;34m21\u001b[0m, \u001b[38;5;34m64\u001b[0m)         │        \u001b[38;5;34m22,784\u001b[0m │\n",
       "├─────────────────────────────────┼────────────────────────┼───────────────┤\n",
       "│ dropout (\u001b[38;5;33mDropout\u001b[0m)               │ (\u001b[38;5;45mNone\u001b[0m, \u001b[38;5;34m21\u001b[0m, \u001b[38;5;34m64\u001b[0m)         │             \u001b[38;5;34m0\u001b[0m │\n",
       "├─────────────────────────────────┼────────────────────────┼───────────────┤\n",
       "│ lstm_1 (\u001b[38;5;33mLSTM\u001b[0m)                   │ (\u001b[38;5;45mNone\u001b[0m, \u001b[38;5;34m21\u001b[0m, \u001b[38;5;34m48\u001b[0m)         │        \u001b[38;5;34m21,696\u001b[0m │\n",
       "├─────────────────────────────────┼────────────────────────┼───────────────┤\n",
       "│ dropout_1 (\u001b[38;5;33mDropout\u001b[0m)             │ (\u001b[38;5;45mNone\u001b[0m, \u001b[38;5;34m21\u001b[0m, \u001b[38;5;34m48\u001b[0m)         │             \u001b[38;5;34m0\u001b[0m │\n",
       "├─────────────────────────────────┼────────────────────────┼───────────────┤\n",
       "│ lstm_2 (\u001b[38;5;33mLSTM\u001b[0m)                   │ (\u001b[38;5;45mNone\u001b[0m, \u001b[38;5;34m21\u001b[0m, \u001b[38;5;34m32\u001b[0m)         │        \u001b[38;5;34m10,368\u001b[0m │\n",
       "├─────────────────────────────────┼────────────────────────┼───────────────┤\n",
       "│ dropout_2 (\u001b[38;5;33mDropout\u001b[0m)             │ (\u001b[38;5;45mNone\u001b[0m, \u001b[38;5;34m21\u001b[0m, \u001b[38;5;34m32\u001b[0m)         │             \u001b[38;5;34m0\u001b[0m │\n",
       "├─────────────────────────────────┼────────────────────────┼───────────────┤\n",
       "│ lstm_3 (\u001b[38;5;33mLSTM\u001b[0m)                   │ (\u001b[38;5;45mNone\u001b[0m, \u001b[38;5;34m21\u001b[0m, \u001b[38;5;34m8\u001b[0m)          │         \u001b[38;5;34m1,312\u001b[0m │\n",
       "├─────────────────────────────────┼────────────────────────┼───────────────┤\n",
       "│ dropout_3 (\u001b[38;5;33mDropout\u001b[0m)             │ (\u001b[38;5;45mNone\u001b[0m, \u001b[38;5;34m21\u001b[0m, \u001b[38;5;34m8\u001b[0m)          │             \u001b[38;5;34m0\u001b[0m │\n",
       "├─────────────────────────────────┼────────────────────────┼───────────────┤\n",
       "│ lstm_4 (\u001b[38;5;33mLSTM\u001b[0m)                   │ (\u001b[38;5;45mNone\u001b[0m, \u001b[38;5;34m48\u001b[0m)             │        \u001b[38;5;34m10,944\u001b[0m │\n",
       "├─────────────────────────────────┼────────────────────────┼───────────────┤\n",
       "│ dropout_4 (\u001b[38;5;33mDropout\u001b[0m)             │ (\u001b[38;5;45mNone\u001b[0m, \u001b[38;5;34m48\u001b[0m)             │             \u001b[38;5;34m0\u001b[0m │\n",
       "├─────────────────────────────────┼────────────────────────┼───────────────┤\n",
       "│ dense (\u001b[38;5;33mDense\u001b[0m)                   │ (\u001b[38;5;45mNone\u001b[0m, \u001b[38;5;34m1\u001b[0m)              │            \u001b[38;5;34m49\u001b[0m │\n",
       "└─────────────────────────────────┴────────────────────────┴───────────────┘\n"
      ]
     },
     "metadata": {},
     "output_type": "display_data"
    },
    {
     "data": {
      "text/html": [
       "<pre style=\"white-space:pre;overflow-x:auto;line-height:normal;font-family:Menlo,'DejaVu Sans Mono',consolas,'Courier New',monospace\"><span style=\"font-weight: bold\"> Total params: </span><span style=\"color: #00af00; text-decoration-color: #00af00\">67,153</span> (262.32 KB)\n",
       "</pre>\n"
      ],
      "text/plain": [
       "\u001b[1m Total params: \u001b[0m\u001b[38;5;34m67,153\u001b[0m (262.32 KB)\n"
      ]
     },
     "metadata": {},
     "output_type": "display_data"
    },
    {
     "data": {
      "text/html": [
       "<pre style=\"white-space:pre;overflow-x:auto;line-height:normal;font-family:Menlo,'DejaVu Sans Mono',consolas,'Courier New',monospace\"><span style=\"font-weight: bold\"> Trainable params: </span><span style=\"color: #00af00; text-decoration-color: #00af00\">67,153</span> (262.32 KB)\n",
       "</pre>\n"
      ],
      "text/plain": [
       "\u001b[1m Trainable params: \u001b[0m\u001b[38;5;34m67,153\u001b[0m (262.32 KB)\n"
      ]
     },
     "metadata": {},
     "output_type": "display_data"
    },
    {
     "data": {
      "text/html": [
       "<pre style=\"white-space:pre;overflow-x:auto;line-height:normal;font-family:Menlo,'DejaVu Sans Mono',consolas,'Courier New',monospace\"><span style=\"font-weight: bold\"> Non-trainable params: </span><span style=\"color: #00af00; text-decoration-color: #00af00\">0</span> (0.00 B)\n",
       "</pre>\n"
      ],
      "text/plain": [
       "\u001b[1m Non-trainable params: \u001b[0m\u001b[38;5;34m0\u001b[0m (0.00 B)\n"
      ]
     },
     "metadata": {},
     "output_type": "display_data"
    }
   ],
   "source": [
    "best_model.summary()"
   ]
  },
  {
   "cell_type": "markdown",
   "id": "b0179440",
   "metadata": {},
   "source": [
    "- The model summary for the best 5-layer LSTM model provides an overview of the architecture, detailing each layer's type, output shape, and the number of parameters. Here’s a breakdown:\n",
    "\n",
    "- **LSTM Layers:**\n",
    "  - **First LSTM Layer:** The first layer has 64 units, which captures the most immediate and foundational patterns in the data. It has 22,784 trainable parameters, which include weights, biases, and the connections between time steps.\n",
    "  - **Second to Fifth LSTM Layers:** Each subsequent LSTM layer (with 48, 32, 8, and 48 units, respectively) adds complexity to the model, allowing it to learn deeper and more intricate patterns. The number of parameters decreases with each layer, indicating a reduction in the number of units and connections.\n",
    "- **Dropout Layers:**\n",
    "  - Dropout layers are placed after each LSTM layer to help prevent overfitting. These layers randomly drop a fraction of the units during training, ensuring the model generalizes better to unseen data.\n",
    "- **Dense Layer:**\n",
    "  - The final dense layer, with a single unit and sigmoid activation, produces the binary output (predicting the uptrend or no uptrend for the SPY ETF). This layer synthesizes all the information processed by the preceding LSTM layers.\n",
    "- **Total Parameters:**\n",
    "  - The model has a total of 67,153 parameters, all of which are trainable. These parameters are adjusted during training to minimize the loss function, improving the model's predictive performance.\n",
    "\n",
    "- In summary, the 5-layer LSTM model is more complex than the previous models, with multiple LSTM layers allowing it to capture various levels of temporal patterns. This complexity helps in making more accurate predictions, as indicated by the performance metrics.\n",
    "\n",
    "\n",
    "\n",
    "\n",
    "\n",
    "\n"
   ]
  },
  {
   "cell_type": "markdown",
   "id": "49a14076",
   "metadata": {},
   "source": [
    "#### Generating Prediction of Best 5-layer Model and compare with Actual"
   ]
  },
  {
   "cell_type": "code",
   "execution_count": 52,
   "id": "23344665",
   "metadata": {},
   "outputs": [
    {
     "name": "stdout",
     "output_type": "stream",
     "text": [
      "\u001b[1m10/10\u001b[0m \u001b[32m━━━━━━━━━━━━━━━━━━━━\u001b[0m\u001b[37m\u001b[0m \u001b[1m1s\u001b[0m 42ms/step\n",
      "    Predicted  Actual\n",
      "0           1     0.0\n",
      "1           0     0.0\n",
      "2           0     0.0\n",
      "3           0     0.0\n",
      "4           1     1.0\n",
      "5           0     0.0\n",
      "6           1     1.0\n",
      "7           0     0.0\n",
      "8           1     1.0\n",
      "9           1     1.0\n",
      "10          0     0.0\n",
      "11          1     1.0\n",
      "12          1     1.0\n",
      "13          1     0.0\n",
      "14          0     0.0\n",
      "15          1     1.0\n",
      "16          1     1.0\n",
      "17          1     1.0\n",
      "18          1     1.0\n",
      "19          0     0.0\n"
     ]
    }
   ],
   "source": [
    "# Generate predictions using the test data\n",
    "predictions = best_model.predict(test_generator)\n",
    "predictions = (predictions > 0.5).astype(int)  # Convert probabilities to binary 0 or 1\n",
    "\n",
    "# Actual values from the test data\n",
    "actual = y_test[-len(predictions):]  # Ensure the length matches the predictions\n",
    "\n",
    "# Combine predictions and actual values into a DataFrame\n",
    "comparison_df = pd.DataFrame({\n",
    "    'Predicted': predictions.flatten(),\n",
    "    'Actual': actual\n",
    "})\n",
    "\n",
    "# Display the first few rows of the comparison DataFrame\n",
    "print(comparison_df.head(20))"
   ]
  },
  {
   "cell_type": "code",
   "execution_count": null,
   "id": "40c181c3",
   "metadata": {},
   "outputs": [],
   "source": []
  },
  {
   "cell_type": "code",
   "execution_count": 56,
   "id": "739a0bfa",
   "metadata": {},
   "outputs": [],
   "source": [
    "# Save the best model\n",
    "best_model.save(\"best_5_layer_lstm_model.keras\")"
   ]
  },
  {
   "cell_type": "markdown",
   "id": "82e432de",
   "metadata": {},
   "source": [
    "- Best 5 layer LSTM model was saved for future use."
   ]
  },
  {
   "cell_type": "code",
   "execution_count": 156,
   "id": "0d029dbd",
   "metadata": {},
   "outputs": [],
   "source": [
    "#Launch TensorBoard\n",
    "%tensorboard --logdir=./logs/5_layer_lstm"
   ]
  },
  {
   "cell_type": "markdown",
   "id": "08603070",
   "metadata": {},
   "source": [
    "---"
   ]
  },
  {
   "cell_type": "markdown",
   "id": "e9b601fe",
   "metadata": {},
   "source": [
    "### Model-4) GRU Model \n",
    "\n",
    " - The Gated Recurrent Unit (GRU) is a type of recurrent neural network (RNN) that is often compared to the Long Short-Term Memory (LSTM) network. \n",
    " - GRUs are particularly known for their simplicity and effectiveness in capturing temporal dependencies in sequential data. \n",
    " - They have fewer parameters than LSTMs, which can make them faster to train while still retaining a strong capacity for learning long-term dependencies.\n",
    "\n",
    "**Architecture Overview:**\n",
    "\n",
    " - **Input:**\n",
    "   - The input to the GRU model is a sequence of data, specifically designed to handle time-series data like our SPY ETF dataset. \n",
    "   - The input shape for the GRU model is (lookback, number_of_features), where lookback represents the number of previous time steps (in our case, 21 days), and number_of_features corresponds to the number of features in the dataset.\n",
    "\n",
    " - **GRU Layers:**\n",
    "   - **Gated Mechanism:** The GRU architecture utilizes gating mechanisms (reset and update gates) that control the flow of information. \n",
    "     - This helps in deciding which information to retain from the previous time steps and which to discard. Unlike LSTM, GRU has a simpler structure with fewer gates, making it faster and more efficient.\n",
    "   - **Activation:** Typically, relu is used as the activation function in GRUs, which introduces non-linearity and allows the model to learn more complex patterns.\n",
    "- **Output Layer:**\n",
    "  - The final output layer is a dense layer with a single neuron and a sigmoid activation function, producing a binary classification (uptrend or no uptrend).\n",
    " \n",
    "- **Speciality of GRU Compared to LSTM:**\n",
    "\n",
    "  - **Efficiency:** GRUs generally have fewer parameters compared to LSTMs, which makes them faster to train and potentially less prone to overfitting on smaller datasets.\n",
    "  - **Simpler Architecture:** The GRU architecture is less complex than LSTM as it does not have separate forget, input, and output gates. Instead, it combines these into a single update gate, which reduces computational load.\n",
    "  - **Performance:** GRUs often perform as well as LSTMs on many tasks, especially when the sequence lengths are not too long. However, for very long sequences, LSTMs might have an advantage due to their more intricate gating mechanisms."
   ]
  },
  {
   "cell_type": "code",
   "execution_count": 61,
   "id": "5b620b97",
   "metadata": {},
   "outputs": [],
   "source": [
    "# Step 1: Build the GRU Model with Hyperparameter Tuning\n",
    "def build_model(hp):\n",
    "    tf.keras.backend.clear_session()\n",
    "    \n",
    "    # Instantiate the model\n",
    "    model = Sequential()\n",
    "    \n",
    "    # Tune the number of units for the first GRU layer\n",
    "    hp_units1 = hp.Int('units1', min_value=4, max_value=64, step=4)\n",
    "    # Tune the dropout rate for the first GRU layer\n",
    "    hp_dropout1 = hp.Float('dropout_rate1', min_value=0.0, max_value=0.5, step=0.1)\n",
    "    \n",
    "    # Add the first GRU layer\n",
    "    model.add(GRU(units=hp_units1, input_shape=(lookback, X_train_scaled.shape[1]), \n",
    "                  activation='relu', return_sequences=True))\n",
    "    # Add Dropout after the first GRU layer\n",
    "    model.add(Dropout(hp_dropout1))\n",
    "    \n",
    "    # Add a second GRU layer\n",
    "    hp_units2 = hp.Int('units2', min_value=4, max_value=64, step=4)\n",
    "    hp_dropout2 = hp.Float('dropout_rate2', min_value=0.0, max_value=0.5, step=0.1)\n",
    "    model.add(GRU(units=hp_units2, activation='relu', return_sequences=False))\n",
    "    model.add(Dropout(hp_dropout2))\n",
    "    \n",
    "    # Add output layer\n",
    "    model.add(Dense(1, activation='sigmoid'))\n",
    "    \n",
    "    # Compile the model\n",
    "    model.compile(optimizer=Adam(learning_rate=hp.Choice('learning_rate', values=[1e-2, 1e-3, 1e-4]), \n",
    "                                 epsilon=1e-08, decay=0.0),\n",
    "                  loss='binary_crossentropy',\n",
    "                  metrics=['accuracy', tf.keras.metrics.Precision(), tf.keras.metrics.Recall()])\n",
    "    \n",
    "    return model\n"
   ]
  },
  {
   "cell_type": "markdown",
   "id": "d622db1f",
   "metadata": {},
   "source": [
    "**Explanation of the Code:**\n",
    "\n",
    " - **GRU Layers:**\n",
    "   - Two GRU layers are added, each with tunable units and dropout rates. The first GRU layer returns sequences, allowing the second GRU layer to process the entire sequence.\n",
    " - **Dropout Layers:**\n",
    "   - Dropout is applied after each GRU layer to prevent overfitting by randomly dropping units during training.\n",
    " - **Output Layer:** The dense layer with a sigmoid activation function provides a binary classification output.\n",
    "   - Hyperparameter Tuning: The hyperparameters like the number of units in each GRU layer, dropout rates, and learning rates are tuned using the Keras Tuner to find the best configuration for the model.\n",
    "- This GRU model is specifically designed to capture the sequential dependencies in the SPY ETF data, and with the proper tuning, it can be a powerful tool for time-series prediction.\n",
    " - The simplicity of the GRU architecture allows it to be more efficient in terms of computational resources compared to LSTM, while still maintaining strong performance in capturing temporal patterns."
   ]
  },
  {
   "cell_type": "markdown",
   "id": "4c2cf8b5",
   "metadata": {},
   "source": [
    "#### RandomSearch Tuner for GRU Model"
   ]
  },
  {
   "cell_type": "code",
   "execution_count": 62,
   "id": "8aaef03d",
   "metadata": {},
   "outputs": [],
   "source": [
    "# Step 2: Setup RandomSearch Tuner\n",
    "tuner = kt.RandomSearch(\n",
    "    build_model,\n",
    "    objective='val_loss',  # Use loss as the primary metric\n",
    "    max_trials=50,  # Maximum number of trials\n",
    "    directory='./keras',\n",
    "    project_name='random_search_gru',  # Change this to distinguish between trials\n",
    "    overwrite=True\n",
    ")\n"
   ]
  },
  {
   "cell_type": "markdown",
   "id": "a536c7ce",
   "metadata": {},
   "source": [
    "#### Callbacks for GRU Model"
   ]
  },
  {
   "cell_type": "code",
   "execution_count": 63,
   "id": "056c95ce",
   "metadata": {},
   "outputs": [],
   "source": [
    "# Step 3: Setup Callbacks for Early Stopping and TensorBoard\n",
    "log_dir = \"./logs/gru_model\"\n",
    "tensorboard_callback = TensorBoard(log_dir=log_dir, histogram_freq=1)\n",
    "early_stopping = EarlyStopping(monitor='val_loss', patience=5, mode='min', verbose=1)\n",
    "\n",
    "# Include the callbacks in the model training\n",
    "callbacks = [early_stopping, tensorboard_callback]\n"
   ]
  },
  {
   "cell_type": "markdown",
   "id": "dde11fa2",
   "metadata": {},
   "source": [
    "#### Hyper Parameter Random Search for GRU Model\n",
    "- In this step, we perform the hyperparameter search for the GRU model using Keras Tuner's RandomSearch method. The goal is to identify the optimal combination of hyperparameters that minimize the validation loss on the test data.\n"
   ]
  },
  {
   "cell_type": "code",
   "execution_count": 64,
   "id": "2bd01368",
   "metadata": {},
   "outputs": [
    {
     "name": "stdout",
     "output_type": "stream",
     "text": [
      "Trial 50 Complete [00h 00m 31s]\n",
      "val_loss: 0.6874955296516418\n",
      "\n",
      "Best val_loss So Far: 0.20347130298614502\n",
      "Total elapsed time: 00h 25m 08s\n"
     ]
    }
   ],
   "source": [
    "# Step 4: Perform the Hyperparameter Search\n",
    "tuner.search(train_generator, epochs=100, validation_data=test_generator,\n",
    "             class_weight=class_weight_dict,\n",
    "             callbacks=callbacks)"
   ]
  },
  {
   "cell_type": "markdown",
   "id": "4505557d",
   "metadata": {},
   "source": [
    "#### Explanations: \n",
    "   - **Trial Process:**\n",
    "      - A total of 50 trials were conducted, with each trial testing a different combination of hyperparameters (such as the number of units in each GRU layer, dropout rates, and learning rates).\n",
    "      - Each trial involves training the GRU model on the training data (train_generator) and evaluating it on the validation data (test_generator).\n",
    "   - **Validation Loss:**\n",
    "     - The primary metric used to evaluate the performance of the model during tuning is val_loss, which represents the loss on the validation dataset.\n",
    "     - After 50 trials, the best validation loss achieved is 0.20347130298614502. This indicates that this specific combination of hyperparameters resulted in the most accurate predictions on the validation data.\n",
    "   - **Elapsed Time:**\n",
    "     - The entire tuning process took approximately 25 minutes and 8 seconds to complete all 50 trials."
   ]
  },
  {
   "cell_type": "markdown",
   "id": "9ea1b955",
   "metadata": {},
   "source": [
    "#### Retrieve the Best Hyperparameters for GRU Model"
   ]
  },
  {
   "cell_type": "code",
   "execution_count": 65,
   "id": "dd6cea69",
   "metadata": {},
   "outputs": [
    {
     "name": "stdout",
     "output_type": "stream",
     "text": [
      "{'units1': 24, 'dropout_rate1': 0.30000000000000004, 'units2': 36, 'dropout_rate2': 0.0, 'learning_rate': 0.001}\n"
     ]
    }
   ],
   "source": [
    "# Step 5: Retrieve the Best Hyperparameters\n",
    "best_hbp = tuner.get_best_hyperparameters()[0]\n",
    "print(best_hbp.values)"
   ]
  },
  {
   "cell_type": "markdown",
   "id": "797a1ddd",
   "metadata": {},
   "source": [
    "- **Best Hyperparameters:**\n",
    "   - units1: 24\n",
    "   - dropout_rate1: 0.3\n",
    "   - units2: 36\n",
    "   - dropout_rate2: 0.0\n",
    "   - learning_rate: 0.001\n",
    "- **Explanation:**\n",
    "   - units1 and units2: These define the number of units (neurons) in the first and second GRU layers, respectively. The model performed best with 24 units in the first layer and 36 units in the second layer.\n",
    "  - dropout_rate1 and dropout_rate2: Dropout is a regularization technique to prevent overfitting by randomly setting a fraction of input units to 0 at each update during training. The first GRU layer has a dropout rate of 0.3 (meaning 30% of the units are dropped), while the second layer does not apply dropout (0.0).\n",
    "  - learning_rate: The learning rate controls the step size in updating the model weights during training. A learning rate of 0.001 was found to be the most effective in minimizing the validation loss during the tuning process."
   ]
  },
  {
   "cell_type": "code",
   "execution_count": 66,
   "id": "c8005f1c",
   "metadata": {},
   "outputs": [
    {
     "name": "stdout",
     "output_type": "stream",
     "text": [
      "Results summary\n",
      "Results in ./keras/random_search_gru\n",
      "Showing 10 best trials\n",
      "Objective(name=\"val_loss\", direction=\"min\")\n",
      "\n",
      "Trial 15 summary\n",
      "Hyperparameters:\n",
      "units1: 24\n",
      "dropout_rate1: 0.30000000000000004\n",
      "units2: 36\n",
      "dropout_rate2: 0.0\n",
      "learning_rate: 0.001\n",
      "Score: 0.20347130298614502\n",
      "\n",
      "Trial 08 summary\n",
      "Hyperparameters:\n",
      "units1: 44\n",
      "dropout_rate1: 0.2\n",
      "units2: 16\n",
      "dropout_rate2: 0.1\n",
      "learning_rate: 0.001\n",
      "Score: 0.23656423389911652\n",
      "\n",
      "Trial 42 summary\n",
      "Hyperparameters:\n",
      "units1: 64\n",
      "dropout_rate1: 0.1\n",
      "units2: 64\n",
      "dropout_rate2: 0.2\n",
      "learning_rate: 0.001\n",
      "Score: 0.2381349354982376\n",
      "\n",
      "Trial 16 summary\n",
      "Hyperparameters:\n",
      "units1: 36\n",
      "dropout_rate1: 0.1\n",
      "units2: 36\n",
      "dropout_rate2: 0.0\n",
      "learning_rate: 0.001\n",
      "Score: 0.24368233978748322\n",
      "\n",
      "Trial 07 summary\n",
      "Hyperparameters:\n",
      "units1: 12\n",
      "dropout_rate1: 0.2\n",
      "units2: 60\n",
      "dropout_rate2: 0.0\n",
      "learning_rate: 0.01\n",
      "Score: 0.274105042219162\n",
      "\n",
      "Trial 12 summary\n",
      "Hyperparameters:\n",
      "units1: 44\n",
      "dropout_rate1: 0.1\n",
      "units2: 24\n",
      "dropout_rate2: 0.2\n",
      "learning_rate: 0.001\n",
      "Score: 0.2976452112197876\n",
      "\n",
      "Trial 24 summary\n",
      "Hyperparameters:\n",
      "units1: 24\n",
      "dropout_rate1: 0.2\n",
      "units2: 28\n",
      "dropout_rate2: 0.0\n",
      "learning_rate: 0.001\n",
      "Score: 0.31646713614463806\n",
      "\n",
      "Trial 22 summary\n",
      "Hyperparameters:\n",
      "units1: 52\n",
      "dropout_rate1: 0.30000000000000004\n",
      "units2: 16\n",
      "dropout_rate2: 0.2\n",
      "learning_rate: 0.001\n",
      "Score: 0.3193293511867523\n",
      "\n",
      "Trial 43 summary\n",
      "Hyperparameters:\n",
      "units1: 60\n",
      "dropout_rate1: 0.1\n",
      "units2: 24\n",
      "dropout_rate2: 0.0\n",
      "learning_rate: 0.001\n",
      "Score: 0.3283694386482239\n",
      "\n",
      "Trial 04 summary\n",
      "Hyperparameters:\n",
      "units1: 40\n",
      "dropout_rate1: 0.2\n",
      "units2: 32\n",
      "dropout_rate2: 0.1\n",
      "learning_rate: 0.0001\n",
      "Score: 0.4650031626224518\n"
     ]
    }
   ],
   "source": [
    "# Display tuning results summary\n",
    "tuner.results_summary()\n"
   ]
  },
  {
   "cell_type": "markdown",
   "id": "de127dd4",
   "metadata": {},
   "source": [
    "#### Evaluate the Best GRU Model"
   ]
  },
  {
   "cell_type": "code",
   "execution_count": 67,
   "id": "6d5d2e8a",
   "metadata": {},
   "outputs": [
    {
     "name": "stdout",
     "output_type": "stream",
     "text": [
      "\u001b[1m10/10\u001b[0m \u001b[32m━━━━━━━━━━━━━━━━━━━━\u001b[0m\u001b[37m\u001b[0m \u001b[1m0s\u001b[0m 2ms/step - accuracy: 0.8892 - loss: 0.1890 - precision: 0.8713 - recall: 0.8552  \n",
      "\u001b[1m10/10\u001b[0m \u001b[32m━━━━━━━━━━━━━━━━━━━━\u001b[0m\u001b[37m\u001b[0m \u001b[1m0s\u001b[0m 2ms/step - accuracy: 0.8892 - loss: 0.1890 - precision: 0.8713 - recall: 0.8552 \n",
      "Accuracy: 0.8900\n",
      "Precision: 0.8898\n",
      "Recall: 0.8333\n",
      "F1 Score: 0.8607\n"
     ]
    }
   ],
   "source": [
    "# Step 6: Evaluate the Best GRU Model\n",
    "best_model = tuner.get_best_models(num_models=1)[0]\n",
    "best_model.evaluate(test_generator)\n",
    "\n",
    "# Evaluate the model on the test data\n",
    "loss, accuracy, precision, recall = best_model.evaluate(test_generator)\n",
    "\n",
    "# Calculate F1 Score\n",
    "f1_score = 2 * (precision * recall) / (precision + recall)\n",
    "\n",
    "print(f\"Accuracy: {accuracy:.4f}\")\n",
    "print(f\"Precision: {precision:.4f}\")\n",
    "print(f\"Recall: {recall:.4f}\")\n",
    "print(f\"F1 Score: {f1_score:.4f}\")"
   ]
  },
  {
   "cell_type": "markdown",
   "id": "e3fe4750",
   "metadata": {},
   "source": [
    "**Output Metrics on Test Data:**\n",
    "\n",
    "- Accuracy: 0.8900\n",
    "- Precision: 0.8898\n",
    "- Recall: 0.8333\n",
    "- F1 Score: 0.8607\n",
    "\n",
    "- **Explanation:**\n",
    "  - Accuracy: The model correctly predicted the uptrend or downtrend 89.00% of the time. This indicates strong overall performance.\n",
    "  - Precision: Precision is the ratio of correctly predicted positive observations to the total predicted positives. A precision of 0.8898 means that about 89% of the times when the model predicted an uptrend, it was correct.\n",
    "  - Recall: Recall (or Sensitivity) is the ratio of correctly predicted positive observations to all observations in the actual class. A recall of 0.8333 means the model correctly identified about 83% of the actual uptrends.\n",
    "  - F1 Score: The F1 Score is the weighted average of Precision and Recall. The F1 Score of 0.8607 reflects the balance between precision and recall, indicating that the model performs well in identifying uptrends with a reasonable trade-off between false positives and false negatives."
   ]
  },
  {
   "cell_type": "markdown",
   "id": "a7d3e5a0",
   "metadata": {},
   "source": [
    "#### Summary of the best GRU Model"
   ]
  },
  {
   "cell_type": "code",
   "execution_count": 68,
   "id": "9030e705",
   "metadata": {},
   "outputs": [
    {
     "data": {
      "text/html": [
       "<pre style=\"white-space:pre;overflow-x:auto;line-height:normal;font-family:Menlo,'DejaVu Sans Mono',consolas,'Courier New',monospace\"><span style=\"font-weight: bold\">Model: \"sequential\"</span>\n",
       "</pre>\n"
      ],
      "text/plain": [
       "\u001b[1mModel: \"sequential\"\u001b[0m\n"
      ]
     },
     "metadata": {},
     "output_type": "display_data"
    },
    {
     "data": {
      "text/html": [
       "<pre style=\"white-space:pre;overflow-x:auto;line-height:normal;font-family:Menlo,'DejaVu Sans Mono',consolas,'Courier New',monospace\">┏━━━━━━━━━━━━━━━━━━━━━━━━━━━━━━━━━┳━━━━━━━━━━━━━━━━━━━━━━━━┳━━━━━━━━━━━━━━━┓\n",
       "┃<span style=\"font-weight: bold\"> Layer (type)                    </span>┃<span style=\"font-weight: bold\"> Output Shape           </span>┃<span style=\"font-weight: bold\">       Param # </span>┃\n",
       "┡━━━━━━━━━━━━━━━━━━━━━━━━━━━━━━━━━╇━━━━━━━━━━━━━━━━━━━━━━━━╇━━━━━━━━━━━━━━━┩\n",
       "│ gru (<span style=\"color: #0087ff; text-decoration-color: #0087ff\">GRU</span>)                       │ (<span style=\"color: #00d7ff; text-decoration-color: #00d7ff\">None</span>, <span style=\"color: #00af00; text-decoration-color: #00af00\">21</span>, <span style=\"color: #00af00; text-decoration-color: #00af00\">24</span>)         │         <span style=\"color: #00af00; text-decoration-color: #00af00\">3,600</span> │\n",
       "├─────────────────────────────────┼────────────────────────┼───────────────┤\n",
       "│ dropout (<span style=\"color: #0087ff; text-decoration-color: #0087ff\">Dropout</span>)               │ (<span style=\"color: #00d7ff; text-decoration-color: #00d7ff\">None</span>, <span style=\"color: #00af00; text-decoration-color: #00af00\">21</span>, <span style=\"color: #00af00; text-decoration-color: #00af00\">24</span>)         │             <span style=\"color: #00af00; text-decoration-color: #00af00\">0</span> │\n",
       "├─────────────────────────────────┼────────────────────────┼───────────────┤\n",
       "│ gru_1 (<span style=\"color: #0087ff; text-decoration-color: #0087ff\">GRU</span>)                     │ (<span style=\"color: #00d7ff; text-decoration-color: #00d7ff\">None</span>, <span style=\"color: #00af00; text-decoration-color: #00af00\">36</span>)             │         <span style=\"color: #00af00; text-decoration-color: #00af00\">6,696</span> │\n",
       "├─────────────────────────────────┼────────────────────────┼───────────────┤\n",
       "│ dropout_1 (<span style=\"color: #0087ff; text-decoration-color: #0087ff\">Dropout</span>)             │ (<span style=\"color: #00d7ff; text-decoration-color: #00d7ff\">None</span>, <span style=\"color: #00af00; text-decoration-color: #00af00\">36</span>)             │             <span style=\"color: #00af00; text-decoration-color: #00af00\">0</span> │\n",
       "├─────────────────────────────────┼────────────────────────┼───────────────┤\n",
       "│ dense (<span style=\"color: #0087ff; text-decoration-color: #0087ff\">Dense</span>)                   │ (<span style=\"color: #00d7ff; text-decoration-color: #00d7ff\">None</span>, <span style=\"color: #00af00; text-decoration-color: #00af00\">1</span>)              │            <span style=\"color: #00af00; text-decoration-color: #00af00\">37</span> │\n",
       "└─────────────────────────────────┴────────────────────────┴───────────────┘\n",
       "</pre>\n"
      ],
      "text/plain": [
       "┏━━━━━━━━━━━━━━━━━━━━━━━━━━━━━━━━━┳━━━━━━━━━━━━━━━━━━━━━━━━┳━━━━━━━━━━━━━━━┓\n",
       "┃\u001b[1m \u001b[0m\u001b[1mLayer (type)                   \u001b[0m\u001b[1m \u001b[0m┃\u001b[1m \u001b[0m\u001b[1mOutput Shape          \u001b[0m\u001b[1m \u001b[0m┃\u001b[1m \u001b[0m\u001b[1m      Param #\u001b[0m\u001b[1m \u001b[0m┃\n",
       "┡━━━━━━━━━━━━━━━━━━━━━━━━━━━━━━━━━╇━━━━━━━━━━━━━━━━━━━━━━━━╇━━━━━━━━━━━━━━━┩\n",
       "│ gru (\u001b[38;5;33mGRU\u001b[0m)                       │ (\u001b[38;5;45mNone\u001b[0m, \u001b[38;5;34m21\u001b[0m, \u001b[38;5;34m24\u001b[0m)         │         \u001b[38;5;34m3,600\u001b[0m │\n",
       "├─────────────────────────────────┼────────────────────────┼───────────────┤\n",
       "│ dropout (\u001b[38;5;33mDropout\u001b[0m)               │ (\u001b[38;5;45mNone\u001b[0m, \u001b[38;5;34m21\u001b[0m, \u001b[38;5;34m24\u001b[0m)         │             \u001b[38;5;34m0\u001b[0m │\n",
       "├─────────────────────────────────┼────────────────────────┼───────────────┤\n",
       "│ gru_1 (\u001b[38;5;33mGRU\u001b[0m)                     │ (\u001b[38;5;45mNone\u001b[0m, \u001b[38;5;34m36\u001b[0m)             │         \u001b[38;5;34m6,696\u001b[0m │\n",
       "├─────────────────────────────────┼────────────────────────┼───────────────┤\n",
       "│ dropout_1 (\u001b[38;5;33mDropout\u001b[0m)             │ (\u001b[38;5;45mNone\u001b[0m, \u001b[38;5;34m36\u001b[0m)             │             \u001b[38;5;34m0\u001b[0m │\n",
       "├─────────────────────────────────┼────────────────────────┼───────────────┤\n",
       "│ dense (\u001b[38;5;33mDense\u001b[0m)                   │ (\u001b[38;5;45mNone\u001b[0m, \u001b[38;5;34m1\u001b[0m)              │            \u001b[38;5;34m37\u001b[0m │\n",
       "└─────────────────────────────────┴────────────────────────┴───────────────┘\n"
      ]
     },
     "metadata": {},
     "output_type": "display_data"
    },
    {
     "data": {
      "text/html": [
       "<pre style=\"white-space:pre;overflow-x:auto;line-height:normal;font-family:Menlo,'DejaVu Sans Mono',consolas,'Courier New',monospace\"><span style=\"font-weight: bold\"> Total params: </span><span style=\"color: #00af00; text-decoration-color: #00af00\">10,333</span> (40.36 KB)\n",
       "</pre>\n"
      ],
      "text/plain": [
       "\u001b[1m Total params: \u001b[0m\u001b[38;5;34m10,333\u001b[0m (40.36 KB)\n"
      ]
     },
     "metadata": {},
     "output_type": "display_data"
    },
    {
     "data": {
      "text/html": [
       "<pre style=\"white-space:pre;overflow-x:auto;line-height:normal;font-family:Menlo,'DejaVu Sans Mono',consolas,'Courier New',monospace\"><span style=\"font-weight: bold\"> Trainable params: </span><span style=\"color: #00af00; text-decoration-color: #00af00\">10,333</span> (40.36 KB)\n",
       "</pre>\n"
      ],
      "text/plain": [
       "\u001b[1m Trainable params: \u001b[0m\u001b[38;5;34m10,333\u001b[0m (40.36 KB)\n"
      ]
     },
     "metadata": {},
     "output_type": "display_data"
    },
    {
     "data": {
      "text/html": [
       "<pre style=\"white-space:pre;overflow-x:auto;line-height:normal;font-family:Menlo,'DejaVu Sans Mono',consolas,'Courier New',monospace\"><span style=\"font-weight: bold\"> Non-trainable params: </span><span style=\"color: #00af00; text-decoration-color: #00af00\">0</span> (0.00 B)\n",
       "</pre>\n"
      ],
      "text/plain": [
       "\u001b[1m Non-trainable params: \u001b[0m\u001b[38;5;34m0\u001b[0m (0.00 B)\n"
      ]
     },
     "metadata": {},
     "output_type": "display_data"
    }
   ],
   "source": [
    "best_model.summary()"
   ]
  },
  {
   "cell_type": "markdown",
   "id": "ba68d7e7",
   "metadata": {},
   "source": [
    "\n",
    "- **GRU Layers:**\n",
    "   - The first GRU layer has 24 units with a dropout rate of 0.3. This layer processes the input sequence and passes the information to the next GRU layer.\n",
    "  - The second GRU layer has 36 units with no dropout. This layer processes the output of the first GRU layer to further refine the temporal patterns identified in the input sequence.\n",
    "- **Dropout Layers:**\n",
    "  - Dropout layers are placed after each GRU layer to prevent overfitting by randomly dropping a fraction of the units during training. The first dropout layer has a rate of 0.3, which means 30% of the units are dropped during each update.\n",
    "- **Dense Layer:**\n",
    "  - The model ends with a dense layer containing a single unit with a sigmoid activation function. This layer outputs a probability score that determines the predicted class (uptrend or downtrend).\n",
    "- **Model Complexity:**\n",
    "   - The total number of trainable parameters in this model is 10,333. This relatively low number of parameters indicates that the model is not overly complex, which can help in reducing overfitting while still capturing the essential patterns in the data.\n"
   ]
  },
  {
   "cell_type": "markdown",
   "id": "1822e125",
   "metadata": {},
   "source": [
    "#### Generating Prediction of Best GRU model and comparing with actual"
   ]
  },
  {
   "cell_type": "code",
   "execution_count": 70,
   "id": "b15fed66",
   "metadata": {},
   "outputs": [
    {
     "name": "stdout",
     "output_type": "stream",
     "text": [
      "\u001b[1m10/10\u001b[0m \u001b[32m━━━━━━━━━━━━━━━━━━━━\u001b[0m\u001b[37m\u001b[0m \u001b[1m0s\u001b[0m 18ms/step\n",
      "    Predicted  Actual\n",
      "0           1     0.0\n",
      "1           0     0.0\n",
      "2           0     0.0\n",
      "3           0     0.0\n",
      "4           1     1.0\n",
      "5           0     0.0\n",
      "6           1     1.0\n",
      "7           0     0.0\n",
      "8           1     1.0\n",
      "9           1     1.0\n",
      "10          0     0.0\n",
      "11          0     1.0\n",
      "12          1     1.0\n",
      "13          0     0.0\n",
      "14          0     0.0\n",
      "15          1     1.0\n",
      "16          0     1.0\n",
      "17          1     1.0\n",
      "18          1     1.0\n",
      "19          0     0.0\n"
     ]
    }
   ],
   "source": [
    "# Generate predictions using the test data\n",
    "predictions = best_model.predict(test_generator)\n",
    "predictions = (predictions > 0.5).astype(int)  # Convert probabilities to binary 0 or 1\n",
    "\n",
    "# Actual values from the test data\n",
    "actual = y_test[-len(predictions):]  # Ensure the length matches the predictions\n",
    "\n",
    "# Combine predictions and actual values into a DataFrame\n",
    "comparison_df = pd.DataFrame({\n",
    "    'Predicted': predictions.flatten(),\n",
    "    'Actual': actual\n",
    "})\n",
    "\n",
    "# Display the first few rows of the comparison DataFrame\n",
    "print(comparison_df.head(20))"
   ]
  },
  {
   "cell_type": "code",
   "execution_count": 71,
   "id": "d130a461",
   "metadata": {},
   "outputs": [],
   "source": [
    "#Save the best model\n",
    "best_model.save(\"best_gru_model.keras\")"
   ]
  },
  {
   "cell_type": "markdown",
   "id": "d66720a7",
   "metadata": {},
   "source": [
    "- Best GRU model saved for future use"
   ]
  },
  {
   "cell_type": "code",
   "execution_count": 155,
   "id": "d2f54eb6",
   "metadata": {},
   "outputs": [],
   "source": [
    "#Launch TensorBoard\n",
    "%tensorboard --logdir=./logs/gru_model"
   ]
  },
  {
   "cell_type": "markdown",
   "id": "3813cc07",
   "metadata": {},
   "source": [
    "---"
   ]
  },
  {
   "cell_type": "markdown",
   "id": "96d0fa7d",
   "metadata": {},
   "source": [
    "### Model-5) LSTM + CNN Hybrid (Conv1D) Model\n",
    "\n",
    "**Architecture Explanation:**\n",
    "\n",
    "  - The LSTM + CNN Hybrid model is designed to leverage the strengths of both Convolutional Neural Networks (CNNs) and Long Short-Term Memory (LSTM) networks. This hybrid model is particularly effective for time-series forecasting because it combines the ability of CNNs to capture local, spatial patterns with the power of LSTM networks to model temporal dependencies.\n",
    "  \n",
    "- **Transition to Functional API:**\n",
    "   - In this LSTM + CNN hybrid model, the Functional API is used instead of the Sequential API.\n",
    "   - The LSTM + CNN model is more complex than the previous models. The Conv1D layer processes the input data first, and its output is then passed to an LSTM layer. The Functional API is well-suited for handling this kind of data flow, where the output of one branch (the Conv1D layer) needs to be passed to another branch (the LSTM layer) before reaching the output layer.\n",
    "\n",
    "- **Components of the Architecture:**\n",
    "\n",
    "  - **Input Layer:**\n",
    "    - Shape: The input shape is (lookback, X_train_scaled.shape[1]). Here, lookback is the sequence length, representing the number of past time steps the model will look at, and X_train_scaled.shape[1] is the number of features in each time step.\n",
    "    - Purpose: This layer takes in sequences of data, each of which consists of multiple time steps and features, and passes it on to subsequent layers for processing.\n",
    "  - **CNN Layer (Conv1D + MaxPooling1D):**\n",
    "    - Conv1D Layer:\n",
    "      - Filters: Filters in a convolutional layer are essentially the feature detectors. The number of filters defines how many different patterns the layer will try to learn from the data.\n",
    "      - Kernel Size: The kernel size determines the width of the convolutional window. It specifies how many time steps will be considered simultaneously when the filter is sliding over the data.\n",
    "      - Activation Function: ReLU is used to introduce non-linearity, allowing the model to learn complex patterns.\n",
    "    - MaxPooling1D Layer:\n",
    "      - Pool Size: After convolution, max-pooling reduces the dimensionality of the output by selecting the maximum  value in a specific window, thereby focusing on the most significant features detected by the filters.\n",
    "      - Purpose: The CNN layer is used to extract high-level features from the input sequence. It looks for patterns within short subsequences of the input data, capturing local dependencies.\n",
    "\n",
    "  - **LSTM Layer:**\n",
    "    - Units: The number of LSTM units is tunable. These units represent the memory cells of the LSTM, which help in capturing and retaining information over time.\n",
    "    - Return Sequences: The return_sequences parameter is set to False, meaning the LSTM layer only returns the output for the last time step, which is then passed to the next layer.\n",
    "    - Activation Function: ReLU is again used to introduce non-linearity.\n",
    "    - Purpose: The LSTM layer processes the high-level features extracted by the CNN layer. It captures long-term dependencies in the data, enabling the model to understand how the sequence of events unfolds over time.\n",
    "  - **Dropout Layer:**\n",
    "     - Dropout Rate: Dropout is a regularization technique where a certain percentage of units are randomly dropped during training. This prevents the model from overfitting to the training data.\n",
    "     - Purpose: The dropout layer helps in generalizing the model by reducing overfitting, making it more robust to new, unseen data.\n",
    " - **Output Layer:**\n",
    "    - Dense Layer: The output layer is a fully connected layer with a single unit. It uses a sigmoid activation function to output a probability score between 0 and 1.\n",
    "    - Purpose: This layer generates the final prediction. Since the task is binary classification (predicting an uptrend or downtrend), the sigmoid function is ideal as it outputs a probability that the next time step will be an uptrend.\n",
    " - **Model Compilation:**\n",
    "    - Optimizer: The Adam optimizer is used for training, with a tunable learning rate.\n",
    "    - Loss Function: Binary cross-entropy is used as the loss function, suitable for binary classification tasks.\n",
    "- Metrics: The model’s performance is evaluated using accuracy, precision, and recall, which provide insights into how well the model is making predictions.\n"
   ]
  },
  {
   "cell_type": "code",
   "execution_count": 73,
   "id": "ada5b432",
   "metadata": {},
   "outputs": [],
   "source": [
    "# Step 1: Build the LSTM + CNN Model with Hyperparameter Tuning\n",
    "def build_model(hp):\n",
    "    tf.keras.backend.clear_session()\n",
    "    \n",
    "    # Input Layer\n",
    "    inputs = Input(shape=(lookback, X_train_scaled.shape[1]))\n",
    "    \n",
    "    # CNN Layer\n",
    "    hp_filters = hp.Int('filters', min_value=16, max_value=64, step=16)\n",
    "    hp_kernel_size = hp.Choice('kernel_size', values=[2, 3, 4])\n",
    "    hp_pool_size = hp.Choice('pool_size', values=[2, 3])\n",
    "    x = Conv1D(filters=hp_filters, kernel_size=hp_kernel_size, activation='relu')(inputs)\n",
    "    x = MaxPooling1D(pool_size=hp_pool_size)(x)\n",
    "    \n",
    "    # LSTM Layer\n",
    "    hp_units = hp.Int('units', min_value=4, max_value=32, step=4)\n",
    "    x = LSTM(units=hp_units, activation='relu', return_sequences=False)(x)\n",
    "    \n",
    "    # Dropout Layer\n",
    "    hp_dropout = hp.Float('dropout_rate', min_value=0.0, max_value=0.5, step=0.1)\n",
    "    x = Dropout(hp_dropout)(x)\n",
    "    \n",
    "    # Output Layer\n",
    "    outputs = Dense(1, activation='sigmoid')(x)\n",
    "    \n",
    "    # Define the model\n",
    "    model = Model(inputs=inputs, outputs=outputs)\n",
    "    \n",
    "    # Compile the model\n",
    "    model.compile(optimizer=Adam(learning_rate=hp.Choice('learning_rate', values=[1e-2, 1e-3, 1e-4]), \n",
    "                                 epsilon=1e-08, decay=0.0),\n",
    "                  loss='binary_crossentropy',\n",
    "                  metrics=['accuracy', tf.keras.metrics.Precision(), tf.keras.metrics.Recall()])\n",
    "    \n",
    "    return model"
   ]
  },
  {
   "cell_type": "markdown",
   "id": "91e4f0f7",
   "metadata": {},
   "source": [
    "#### Setup RandomSearch Tuner for LSTM + CNN Hybrid Model\n",
    "   - In this step, we set up the RandomSearch tuner from the Keras Tuner library, which will be used to find the best hyperparameters for the LSTM + CNN hybrid model."
   ]
  },
  {
   "cell_type": "code",
   "execution_count": 76,
   "id": "c1835724",
   "metadata": {},
   "outputs": [],
   "source": [
    "# Step 2: Setup RandomSearch Tuner\n",
    "tuner = kt.RandomSearch(\n",
    "    build_model,\n",
    "    objective='val_loss',  # loss as the primary metric\n",
    "    max_trials=50,  # Maximum number of trials\n",
    "    directory='./keras',\n",
    "    project_name='rs_lstm_cnn', \n",
    "    overwrite=True\n",
    ")"
   ]
  },
  {
   "cell_type": "markdown",
   "id": "97b574a2",
   "metadata": {},
   "source": [
    "#### Callbacks for LSTM + CNN Model"
   ]
  },
  {
   "cell_type": "code",
   "execution_count": 77,
   "id": "4e6a4966",
   "metadata": {},
   "outputs": [],
   "source": [
    "# Step 3: Setup Callbacks for Early Stopping and TensorBoard\n",
    "log_dir = \"./logs/lstm_cnn\"\n",
    "tensorboard_callback = TensorBoard(log_dir=log_dir, histogram_freq=1)\n",
    "early_stopping = EarlyStopping(monitor='val_loss', patience=5, mode='min', verbose=1)"
   ]
  },
  {
   "cell_type": "code",
   "execution_count": 78,
   "id": "d710b53f",
   "metadata": {},
   "outputs": [],
   "source": [
    "# Include the callbacks in the model training\n",
    "callbacks = [early_stopping, tensorboard_callback]"
   ]
  },
  {
   "cell_type": "markdown",
   "id": "ab10027f",
   "metadata": {},
   "source": [
    "#### Perform the Hyperparameter Search\n",
    "   - In this step, the hyperparameter search is conducted using the RandomSearch tuner, which iterates through different combinations of hyperparameters to find the most effective configuration for our LSTM + CNN hybrid model.    - This process is aimed at minimizing the validation loss (val_loss) to enhance the model's ability to generalize to unseen data."
   ]
  },
  {
   "cell_type": "code",
   "execution_count": 79,
   "id": "a00c2dd8",
   "metadata": {},
   "outputs": [
    {
     "name": "stdout",
     "output_type": "stream",
     "text": [
      "Trial 50 Complete [00h 00m 23s]\n",
      "val_loss: 0.6911958456039429\n",
      "\n",
      "Best val_loss So Far: 0.31274592876434326\n",
      "Total elapsed time: 00h 14m 56s\n"
     ]
    }
   ],
   "source": [
    "# Step 4: Perform the Hyperparameter Search\n",
    "tuner.search(train_generator, epochs=100, validation_data=test_generator,\n",
    "             class_weight=class_weight_dict,\n",
    "             callbacks=callbacks)"
   ]
  },
  {
   "cell_type": "markdown",
   "id": "83d11ad9",
   "metadata": {},
   "source": [
    "- **Output Interpretation:**\n",
    "\n",
    "  - Trial 50 Complete val_loss: 0.6911958456039429:\n",
    "     - This line indicates that the 50th trial has finished, and the validation loss for this specific trial is 0.6912.\n",
    "  - Best val_loss So Far: 0.31274592876434326:\n",
    "    - Among all the trials, the best validation loss achieved is 0.3127. This model configuration will be considered the best and will be used in subsequent steps."
   ]
  },
  {
   "cell_type": "markdown",
   "id": "12841bda",
   "metadata": {},
   "source": [
    "#### Retrieve the Best Hyperparameters\n",
    "   - In this step, we retrieve the best hyperparameters that were found during the hyperparameter search conducted in the previous step. The goal is to identify the optimal configuration of the model that achieved the lowest validation loss."
   ]
  },
  {
   "cell_type": "code",
   "execution_count": 80,
   "id": "235f0ca8",
   "metadata": {},
   "outputs": [
    {
     "name": "stdout",
     "output_type": "stream",
     "text": [
      "{'filters': 48, 'kernel_size': 4, 'pool_size': 2, 'units': 12, 'dropout_rate': 0.2, 'learning_rate': 0.001}\n"
     ]
    }
   ],
   "source": [
    "# Step 5: Retrieve the Best Hyperparameters\n",
    "best_hbp = tuner.get_best_hyperparameters()[0]\n",
    "print(best_hbp.values)"
   ]
  },
  {
   "cell_type": "markdown",
   "id": "4434b786",
   "metadata": {},
   "source": [
    "- filters: The best number of filters for the Conv1D layer was found to be 48. Filters in CNN layers are used to detect various features in the input data, such as patterns or trends in time series data.\n",
    "- kernel_size: The optimal kernel size for the Conv1D layer is 4. The kernel size defines the length of the filter, which determines how many time steps are considered together when detecting patterns.\n",
    "- pool_size: The best pool size for the MaxPooling1D layer is 2. Pooling helps in downsampling the output from the Conv1D layer, reducing the dimensionality and computation required in subsequent layers.\n",
    "- units: The number of units in the LSTM layer following the CNN layer was determined to be 12. These units represent the LSTM memory cells that capture temporal dependencies in the time series data.\n",
    "- dropout_rate: The dropout rate is set at 0.2. Dropout is a regularization technique that helps prevent overfitting by randomly dropping a fraction of units during training.\n",
    "- learning_rate: The learning rate for the optimizer was found to be 0.001. The learning rate controls how much the model's weights are adjusted in response to the gradient calculated during training.\n"
   ]
  },
  {
   "cell_type": "code",
   "execution_count": 81,
   "id": "774f7ac2",
   "metadata": {},
   "outputs": [
    {
     "name": "stdout",
     "output_type": "stream",
     "text": [
      "Results summary\n",
      "Results in ./keras/rs_lstm_cnn\n",
      "Showing 10 best trials\n",
      "Objective(name=\"val_loss\", direction=\"min\")\n",
      "\n",
      "Trial 40 summary\n",
      "Hyperparameters:\n",
      "filters: 48\n",
      "kernel_size: 4\n",
      "pool_size: 2\n",
      "units: 12\n",
      "dropout_rate: 0.2\n",
      "learning_rate: 0.001\n",
      "Score: 0.31274592876434326\n",
      "\n",
      "Trial 39 summary\n",
      "Hyperparameters:\n",
      "filters: 32\n",
      "kernel_size: 3\n",
      "pool_size: 2\n",
      "units: 24\n",
      "dropout_rate: 0.30000000000000004\n",
      "learning_rate: 0.001\n",
      "Score: 0.3178774416446686\n",
      "\n",
      "Trial 11 summary\n",
      "Hyperparameters:\n",
      "filters: 48\n",
      "kernel_size: 3\n",
      "pool_size: 2\n",
      "units: 28\n",
      "dropout_rate: 0.30000000000000004\n",
      "learning_rate: 0.001\n",
      "Score: 0.319101482629776\n",
      "\n",
      "Trial 20 summary\n",
      "Hyperparameters:\n",
      "filters: 48\n",
      "kernel_size: 4\n",
      "pool_size: 2\n",
      "units: 24\n",
      "dropout_rate: 0.0\n",
      "learning_rate: 0.001\n",
      "Score: 0.3396197557449341\n",
      "\n",
      "Trial 30 summary\n",
      "Hyperparameters:\n",
      "filters: 64\n",
      "kernel_size: 4\n",
      "pool_size: 2\n",
      "units: 24\n",
      "dropout_rate: 0.0\n",
      "learning_rate: 0.0001\n",
      "Score: 0.34410375356674194\n",
      "\n",
      "Trial 36 summary\n",
      "Hyperparameters:\n",
      "filters: 32\n",
      "kernel_size: 2\n",
      "pool_size: 2\n",
      "units: 28\n",
      "dropout_rate: 0.30000000000000004\n",
      "learning_rate: 0.001\n",
      "Score: 0.35838475823402405\n",
      "\n",
      "Trial 43 summary\n",
      "Hyperparameters:\n",
      "filters: 64\n",
      "kernel_size: 3\n",
      "pool_size: 3\n",
      "units: 24\n",
      "dropout_rate: 0.1\n",
      "learning_rate: 0.001\n",
      "Score: 0.3631739318370819\n",
      "\n",
      "Trial 15 summary\n",
      "Hyperparameters:\n",
      "filters: 32\n",
      "kernel_size: 4\n",
      "pool_size: 3\n",
      "units: 32\n",
      "dropout_rate: 0.30000000000000004\n",
      "learning_rate: 0.001\n",
      "Score: 0.3758804500102997\n",
      "\n",
      "Trial 14 summary\n",
      "Hyperparameters:\n",
      "filters: 48\n",
      "kernel_size: 2\n",
      "pool_size: 2\n",
      "units: 8\n",
      "dropout_rate: 0.4\n",
      "learning_rate: 0.001\n",
      "Score: 0.3839152157306671\n",
      "\n",
      "Trial 17 summary\n",
      "Hyperparameters:\n",
      "filters: 16\n",
      "kernel_size: 4\n",
      "pool_size: 3\n",
      "units: 16\n",
      "dropout_rate: 0.0\n",
      "learning_rate: 0.0001\n",
      "Score: 0.38594990968704224\n"
     ]
    }
   ],
   "source": [
    "# Display tuning results summary\n",
    "tuner.results_summary()"
   ]
  },
  {
   "cell_type": "markdown",
   "id": "551848f3",
   "metadata": {},
   "source": [
    "#### Evaluate the Best LSTM+CNN Model"
   ]
  },
  {
   "cell_type": "code",
   "execution_count": 82,
   "id": "bad9efb4",
   "metadata": {},
   "outputs": [
    {
     "name": "stdout",
     "output_type": "stream",
     "text": [
      "\u001b[1m10/10\u001b[0m \u001b[32m━━━━━━━━━━━━━━━━━━━━\u001b[0m\u001b[37m\u001b[0m \u001b[1m0s\u001b[0m 2ms/step - accuracy: 0.8440 - loss: 0.3277 - precision: 0.7586 - recall: 0.9043  \n",
      "\u001b[1m10/10\u001b[0m \u001b[32m━━━━━━━━━━━━━━━━━━━━\u001b[0m\u001b[37m\u001b[0m \u001b[1m0s\u001b[0m 1ms/step - accuracy: 0.8440 - loss: 0.3277 - precision: 0.7586 - recall: 0.9043 \n",
      "Accuracy: 0.8544\n",
      "Precision: 0.7682\n",
      "Recall: 0.9206\n",
      "F1 Score: 0.8375\n"
     ]
    }
   ],
   "source": [
    "# Step 6: Evaluate the Best LSTM+CNN Model\n",
    "best_model = tuner.get_best_models(num_models=1)[0]\n",
    "best_model.evaluate(test_generator)\n",
    "\n",
    "# Evaluate the model on the test data\n",
    "loss, accuracy, precision, recall = best_model.evaluate(test_generator)\n",
    "\n",
    "# Calculate F1 Score\n",
    "f1_score = 2 * (precision * recall) / (precision + recall)\n",
    "\n",
    "print(f\"Accuracy: {accuracy:.4f}\")\n",
    "print(f\"Precision: {precision:.4f}\")\n",
    "print(f\"Recall: {recall:.4f}\")\n",
    "print(f\"F1 Score: {f1_score:.4f}\")\n"
   ]
  },
  {
   "cell_type": "markdown",
   "id": "e7bfa6fa",
   "metadata": {},
   "source": [
    "**Evaluation Metrics:**\n",
    "\n",
    " - The model's performance is evaluated using several key metrics:\n",
    "\n",
    "  - **Accuracy:** Measures the proportion of correct predictions (both uptrends and downtrends) made by the model out of the total predictions. An accuracy of 0.8544 indicates that approximately 85.44% of the predictions were correct.\n",
    "  - **Precision:** Focuses on the model’s ability to correctly identify positive instances (uptrends) among the instances it predicted as positive. A precision score of 0.7682 suggests that around 76.82% of the uptrends predicted by the model were actually uptrends.\n",
    "  - **Recall:** Also known as sensitivity, recall measures the model’s ability to identify all actual positive instances (uptrends). A recall score of 0.9206 indicates that the model successfully identified 92.06% of the actual uptrends in the test data.\n",
    "  - **F1 Score:** The F1 score is the harmonic mean of precision and recall, providing a single metric that balances both. The F1 score of 0.8375 reflects the model's overall performance in terms of precision and recall."
   ]
  },
  {
   "cell_type": "markdown",
   "id": "1b9f5eda",
   "metadata": {},
   "source": [
    "#### Summary of Best LSTM + CNN Model"
   ]
  },
  {
   "cell_type": "code",
   "execution_count": 83,
   "id": "26e41ff8",
   "metadata": {},
   "outputs": [
    {
     "data": {
      "text/html": [
       "<pre style=\"white-space:pre;overflow-x:auto;line-height:normal;font-family:Menlo,'DejaVu Sans Mono',consolas,'Courier New',monospace\"><span style=\"font-weight: bold\">Model: \"functional\"</span>\n",
       "</pre>\n"
      ],
      "text/plain": [
       "\u001b[1mModel: \"functional\"\u001b[0m\n"
      ]
     },
     "metadata": {},
     "output_type": "display_data"
    },
    {
     "data": {
      "text/html": [
       "<pre style=\"white-space:pre;overflow-x:auto;line-height:normal;font-family:Menlo,'DejaVu Sans Mono',consolas,'Courier New',monospace\">┏━━━━━━━━━━━━━━━━━━━━━━━━━━━━━━━━━┳━━━━━━━━━━━━━━━━━━━━━━━━┳━━━━━━━━━━━━━━━┓\n",
       "┃<span style=\"font-weight: bold\"> Layer (type)                    </span>┃<span style=\"font-weight: bold\"> Output Shape           </span>┃<span style=\"font-weight: bold\">       Param # </span>┃\n",
       "┡━━━━━━━━━━━━━━━━━━━━━━━━━━━━━━━━━╇━━━━━━━━━━━━━━━━━━━━━━━━╇━━━━━━━━━━━━━━━┩\n",
       "│ input_layer (<span style=\"color: #0087ff; text-decoration-color: #0087ff\">InputLayer</span>)        │ (<span style=\"color: #00d7ff; text-decoration-color: #00d7ff\">None</span>, <span style=\"color: #00af00; text-decoration-color: #00af00\">21</span>, <span style=\"color: #00af00; text-decoration-color: #00af00\">24</span>)         │             <span style=\"color: #00af00; text-decoration-color: #00af00\">0</span> │\n",
       "├─────────────────────────────────┼────────────────────────┼───────────────┤\n",
       "│ conv1d (<span style=\"color: #0087ff; text-decoration-color: #0087ff\">Conv1D</span>)                 │ (<span style=\"color: #00d7ff; text-decoration-color: #00d7ff\">None</span>, <span style=\"color: #00af00; text-decoration-color: #00af00\">18</span>, <span style=\"color: #00af00; text-decoration-color: #00af00\">48</span>)         │         <span style=\"color: #00af00; text-decoration-color: #00af00\">4,656</span> │\n",
       "├─────────────────────────────────┼────────────────────────┼───────────────┤\n",
       "│ max_pooling1d (<span style=\"color: #0087ff; text-decoration-color: #0087ff\">MaxPooling1D</span>)    │ (<span style=\"color: #00d7ff; text-decoration-color: #00d7ff\">None</span>, <span style=\"color: #00af00; text-decoration-color: #00af00\">9</span>, <span style=\"color: #00af00; text-decoration-color: #00af00\">48</span>)          │             <span style=\"color: #00af00; text-decoration-color: #00af00\">0</span> │\n",
       "├─────────────────────────────────┼────────────────────────┼───────────────┤\n",
       "│ lstm (<span style=\"color: #0087ff; text-decoration-color: #0087ff\">LSTM</span>)                     │ (<span style=\"color: #00d7ff; text-decoration-color: #00d7ff\">None</span>, <span style=\"color: #00af00; text-decoration-color: #00af00\">12</span>)             │         <span style=\"color: #00af00; text-decoration-color: #00af00\">2,928</span> │\n",
       "├─────────────────────────────────┼────────────────────────┼───────────────┤\n",
       "│ dropout (<span style=\"color: #0087ff; text-decoration-color: #0087ff\">Dropout</span>)               │ (<span style=\"color: #00d7ff; text-decoration-color: #00d7ff\">None</span>, <span style=\"color: #00af00; text-decoration-color: #00af00\">12</span>)             │             <span style=\"color: #00af00; text-decoration-color: #00af00\">0</span> │\n",
       "├─────────────────────────────────┼────────────────────────┼───────────────┤\n",
       "│ dense (<span style=\"color: #0087ff; text-decoration-color: #0087ff\">Dense</span>)                   │ (<span style=\"color: #00d7ff; text-decoration-color: #00d7ff\">None</span>, <span style=\"color: #00af00; text-decoration-color: #00af00\">1</span>)              │            <span style=\"color: #00af00; text-decoration-color: #00af00\">13</span> │\n",
       "└─────────────────────────────────┴────────────────────────┴───────────────┘\n",
       "</pre>\n"
      ],
      "text/plain": [
       "┏━━━━━━━━━━━━━━━━━━━━━━━━━━━━━━━━━┳━━━━━━━━━━━━━━━━━━━━━━━━┳━━━━━━━━━━━━━━━┓\n",
       "┃\u001b[1m \u001b[0m\u001b[1mLayer (type)                   \u001b[0m\u001b[1m \u001b[0m┃\u001b[1m \u001b[0m\u001b[1mOutput Shape          \u001b[0m\u001b[1m \u001b[0m┃\u001b[1m \u001b[0m\u001b[1m      Param #\u001b[0m\u001b[1m \u001b[0m┃\n",
       "┡━━━━━━━━━━━━━━━━━━━━━━━━━━━━━━━━━╇━━━━━━━━━━━━━━━━━━━━━━━━╇━━━━━━━━━━━━━━━┩\n",
       "│ input_layer (\u001b[38;5;33mInputLayer\u001b[0m)        │ (\u001b[38;5;45mNone\u001b[0m, \u001b[38;5;34m21\u001b[0m, \u001b[38;5;34m24\u001b[0m)         │             \u001b[38;5;34m0\u001b[0m │\n",
       "├─────────────────────────────────┼────────────────────────┼───────────────┤\n",
       "│ conv1d (\u001b[38;5;33mConv1D\u001b[0m)                 │ (\u001b[38;5;45mNone\u001b[0m, \u001b[38;5;34m18\u001b[0m, \u001b[38;5;34m48\u001b[0m)         │         \u001b[38;5;34m4,656\u001b[0m │\n",
       "├─────────────────────────────────┼────────────────────────┼───────────────┤\n",
       "│ max_pooling1d (\u001b[38;5;33mMaxPooling1D\u001b[0m)    │ (\u001b[38;5;45mNone\u001b[0m, \u001b[38;5;34m9\u001b[0m, \u001b[38;5;34m48\u001b[0m)          │             \u001b[38;5;34m0\u001b[0m │\n",
       "├─────────────────────────────────┼────────────────────────┼───────────────┤\n",
       "│ lstm (\u001b[38;5;33mLSTM\u001b[0m)                     │ (\u001b[38;5;45mNone\u001b[0m, \u001b[38;5;34m12\u001b[0m)             │         \u001b[38;5;34m2,928\u001b[0m │\n",
       "├─────────────────────────────────┼────────────────────────┼───────────────┤\n",
       "│ dropout (\u001b[38;5;33mDropout\u001b[0m)               │ (\u001b[38;5;45mNone\u001b[0m, \u001b[38;5;34m12\u001b[0m)             │             \u001b[38;5;34m0\u001b[0m │\n",
       "├─────────────────────────────────┼────────────────────────┼───────────────┤\n",
       "│ dense (\u001b[38;5;33mDense\u001b[0m)                   │ (\u001b[38;5;45mNone\u001b[0m, \u001b[38;5;34m1\u001b[0m)              │            \u001b[38;5;34m13\u001b[0m │\n",
       "└─────────────────────────────────┴────────────────────────┴───────────────┘\n"
      ]
     },
     "metadata": {},
     "output_type": "display_data"
    },
    {
     "data": {
      "text/html": [
       "<pre style=\"white-space:pre;overflow-x:auto;line-height:normal;font-family:Menlo,'DejaVu Sans Mono',consolas,'Courier New',monospace\"><span style=\"font-weight: bold\"> Total params: </span><span style=\"color: #00af00; text-decoration-color: #00af00\">7,597</span> (29.68 KB)\n",
       "</pre>\n"
      ],
      "text/plain": [
       "\u001b[1m Total params: \u001b[0m\u001b[38;5;34m7,597\u001b[0m (29.68 KB)\n"
      ]
     },
     "metadata": {},
     "output_type": "display_data"
    },
    {
     "data": {
      "text/html": [
       "<pre style=\"white-space:pre;overflow-x:auto;line-height:normal;font-family:Menlo,'DejaVu Sans Mono',consolas,'Courier New',monospace\"><span style=\"font-weight: bold\"> Trainable params: </span><span style=\"color: #00af00; text-decoration-color: #00af00\">7,597</span> (29.68 KB)\n",
       "</pre>\n"
      ],
      "text/plain": [
       "\u001b[1m Trainable params: \u001b[0m\u001b[38;5;34m7,597\u001b[0m (29.68 KB)\n"
      ]
     },
     "metadata": {},
     "output_type": "display_data"
    },
    {
     "data": {
      "text/html": [
       "<pre style=\"white-space:pre;overflow-x:auto;line-height:normal;font-family:Menlo,'DejaVu Sans Mono',consolas,'Courier New',monospace\"><span style=\"font-weight: bold\"> Non-trainable params: </span><span style=\"color: #00af00; text-decoration-color: #00af00\">0</span> (0.00 B)\n",
       "</pre>\n"
      ],
      "text/plain": [
       "\u001b[1m Non-trainable params: \u001b[0m\u001b[38;5;34m0\u001b[0m (0.00 B)\n"
      ]
     },
     "metadata": {},
     "output_type": "display_data"
    }
   ],
   "source": [
    "best_model.summary()"
   ]
  },
  {
   "cell_type": "markdown",
   "id": "b8d5b245",
   "metadata": {},
   "source": [
    "- Input Layer (InputLayer)\n",
    "  - Output Shape: (None, 21, 24)\n",
    "\n",
    "  - The input layer expects data with a shape of 21 time steps (lookback period) and 24 features. The None dimension represents the batch size, which can vary during training and inference.\n",
    "- Convolutional Layer (Conv1D)\n",
    "  - Output Shape: (None, 18, 48)\n",
    "  - Parameters: 4,656\n",
    "  \n",
    "  - The Conv1D layer applies 48 filters of size 4 (as determined by the hyperparameter tuning) across the input sequence, learning to recognize spatial hierarchies and patterns within the data. The convolution operation reduces the time dimension from 21 to 18.\n",
    "- Pooling Layer (MaxPooling1D)\n",
    "  - Output Shape: (None, 9, 48)\n",
    "\n",
    "  - The MaxPooling1D layer reduces the dimensionality of the data by taking the maximum value over a pool size of 2, further compressing the time dimension from 18 to 9. This helps reduce the model complexity and prevent overfitting.\n",
    "- LSTM Layer (LSTM)\n",
    "  - Output Shape: (None, 12)\n",
    "  - Parameters: 2,928\n",
    "\n",
    "  - The LSTM layer, with 12 units, processes the output of the convolutional layers, capturing the temporal dependencies in the sequence data. The output is a sequence of 12 units representing the learned temporal patterns.\n",
    "- Dropout Layer (Dropout)\n",
    "  - Output Shape: (None, 12)\n",
    "\n",
    "  - The Dropout layer randomly drops 20% of the units during training, as determined by the best hyperparameters. This helps prevent the model from overfitting by ensuring it does not rely too heavily on any single feature.\n",
    "- Dense Layer (Dense)\n",
    "  - Output Shape: (None, 1)\n",
    "  - Parameters: 13\n",
    "\n",
    "  - The Dense layer serves as the output layer with a single unit and a sigmoid activation function. It outputs a probability between 0 and 1, representing the model’s prediction of the SPY ETF's uptrend."
   ]
  },
  {
   "cell_type": "markdown",
   "id": "e6c6193e",
   "metadata": {},
   "source": [
    "#### Generate Predictions of best LSTM + CNN model and compare with actual"
   ]
  },
  {
   "cell_type": "code",
   "execution_count": 85,
   "id": "83cc4b9a",
   "metadata": {},
   "outputs": [
    {
     "name": "stdout",
     "output_type": "stream",
     "text": [
      "\u001b[1m10/10\u001b[0m \u001b[32m━━━━━━━━━━━━━━━━━━━━\u001b[0m\u001b[37m\u001b[0m \u001b[1m0s\u001b[0m 10ms/step\n",
      "    Predicted  Actual\n",
      "0           0     0.0\n",
      "1           0     0.0\n",
      "2           0     0.0\n",
      "3           0     0.0\n",
      "4           1     1.0\n",
      "5           1     0.0\n",
      "6           1     1.0\n",
      "7           0     0.0\n",
      "8           1     1.0\n",
      "9           1     1.0\n",
      "10          0     0.0\n",
      "11          0     1.0\n",
      "12          1     1.0\n",
      "13          1     0.0\n",
      "14          0     0.0\n",
      "15          1     1.0\n",
      "16          1     1.0\n",
      "17          1     1.0\n",
      "18          1     1.0\n",
      "19          0     0.0\n"
     ]
    }
   ],
   "source": [
    "# Generate predictions using the test data\n",
    "predictions = best_model.predict(test_generator)\n",
    "predictions = (predictions > 0.5).astype(int)  # Convert probabilities to binary 0 or 1\n",
    "\n",
    "# Actual values from the test data\n",
    "actual = y_test[-len(predictions):]  # Ensure the length matches the predictions\n",
    "\n",
    "# Combine predictions and actual values into a DataFrame\n",
    "comparison_df = pd.DataFrame({\n",
    "    'Predicted': predictions.flatten(),\n",
    "    'Actual': actual\n",
    "})\n",
    "\n",
    "# Display the first few rows of the comparison DataFrame\n",
    "print(comparison_df.head(20))"
   ]
  },
  {
   "cell_type": "code",
   "execution_count": 86,
   "id": "09913b1f",
   "metadata": {},
   "outputs": [],
   "source": [
    "#Save the best model\n",
    "best_model.save(\"best_lstm_cnn_model.keras\") "
   ]
  },
  {
   "cell_type": "markdown",
   "id": "9404c1fe",
   "metadata": {},
   "source": [
    "- Best LSTM+CNN model saved for future use."
   ]
  },
  {
   "cell_type": "code",
   "execution_count": 154,
   "id": "19668c56",
   "metadata": {},
   "outputs": [],
   "source": [
    "#Launch TensorBoard\n",
    "%tensorboard --logdir=./logs/lstm_cnn"
   ]
  },
  {
   "cell_type": "markdown",
   "id": "fefc3dc0",
   "metadata": {},
   "source": [
    "---"
   ]
  },
  {
   "cell_type": "markdown",
   "id": "93bfd634",
   "metadata": {},
   "source": [
    "### Step-7) Model Evaluation"
   ]
  },
  {
   "cell_type": "markdown",
   "id": "b2ad47e0",
   "metadata": {},
   "source": [
    "### 7.1) Model Evaluation by Evaluation Metrics\n",
    "\n",
    "- **Loading and Evaluating the Saved Models**\n",
    "  - After saving the best models during the hyperparameter tuning process, we now proceed to load these models and evaluate their performance using various classification metrics. The purpose of this evaluation is to compare how each model performs on the test dataset.\n",
    "\n",
    "- **Functionality Overview:**\n",
    "\n",
    "  - Model Loading: We load the saved models using the load_model function from TensorFlow.\n",
    "  - Metrics Calculation: We calculate key performance metrics such as accuracy, F1 score, precision, recall, and additional metrics like True Positive Rate (TPR), True Negative Rate (TNR), False Positive Rate (FPR), and False Negative Rate (FNR).\n",
    "  - Adjusting Test Labels: The test labels (y_test) are adjusted to match the length of predictions (y_pred) generated by each model.\n",
    "  - Performance Storage: We store the calculated metrics in a dictionary and convert it into a DataFrame for easy comparison."
   ]
  },
  {
   "cell_type": "markdown",
   "id": "5f7b01d3",
   "metadata": {},
   "source": [
    "### Metrics Overview:\n",
    "\n",
    "### Accuracy:\n",
    "Accuracy is the ratio of correctly predicted observations to the total observations. It gives an overall view of how well the model is performing, but it might not be enough when dealing with imbalanced data.\n",
    "\n",
    "**Formula:**\n",
    "\n",
    "$$\n",
    "\\text{Accuracy} = \\frac{\\text{TP} + \\text{TN}}{\\text{TP} + \\text{TN} + \\text{FP} + \\text{FN}}\n",
    "$$\n",
    "\n",
    "#### F1 Score:\n",
    "- The F1 score is the weighted average of Precision and Recall. It considers both false positives and false negatives, making it a more comprehensive metric, especially when dealing with imbalanced classes.\n",
    "\n",
    "**Formula:**\n",
    "\n",
    "$$\n",
    "\\text{F1 Score} = 2 \\times \\frac{\\text{Precision} \\times \\text{Recall}}{\\text{Precision} + \\text{Recall}}\n",
    "$$\n",
    "\n",
    "#### Precision:\n",
    "- Precision is the ratio of correctly predicted positive observations to the total predicted positives. High precision relates to a low false positive rate.\n",
    "\n",
    "**Formula:**\n",
    "\n",
    "$$\n",
    "\\text{Precision} = \\frac{\\text{TP}}{\\text{TP} + \\text{FP}}\n",
    "$$\n",
    "\n",
    "#### Recall (Sensitivity or True Positive Rate - TPR):\n",
    "- Recall is the ratio of correctly predicted positive observations to all observations in the actual class. High recall indicates that the model successfully captures most of the actual positives.\n",
    "\n",
    "**Formula:**\n",
    "\n",
    "$$\n",
    "\\text{Recall} = \\frac{\\text{TP}}{\\text{TP} + \\text{FN}}\n",
    "$$\n",
    "\n",
    "#### True Positive Rate (TPR):\n",
    "- Also known as Recall, it measures the proportion of actual positives that are correctly identified by the model.\n",
    "\n",
    "#### True Negative Rate (TNR):\n",
    "- TNR is the ratio of correctly predicted negative observations to all observations in the actual negative class.\n",
    "\n",
    "**Formula:**\n",
    "\n",
    "$$\n",
    "\\text{TNR} = \\frac{\\text{TN}}{\\text{TN} + \\text{FP}}\n",
    "$$\n",
    "\n",
    "#### False Positive Rate (FPR):\n",
    "- FPR is the ratio of incorrectly predicted positive observations to all actual negatives. A lower FPR is desirable.\n",
    "\n",
    "**Formula:**\n",
    "\n",
    "$$\n",
    "\\text{FPR} = \\frac{\\text{FP}}{\\text{FP} + \\text{TN}}\n",
    "$$\n",
    "\n",
    "#### False Negative Rate (FNR):\n",
    "- FNR is the ratio of incorrectly predicted negative observations to all actual positives. A lower FNR is desirable.\n",
    "\n",
    "**Formula:**\n",
    "\n",
    "$$\n",
    "\\text{FNR} = \\frac{\\text{FN}}{\\text{FN} + \\text{TP}}\n",
    "$$\n"
   ]
  },
  {
   "cell_type": "code",
   "execution_count": 105,
   "id": "5eebcd74",
   "metadata": {},
   "outputs": [
    {
     "name": "stdout",
     "output_type": "stream",
     "text": [
      "\u001b[1m10/10\u001b[0m \u001b[32m━━━━━━━━━━━━━━━━━━━━\u001b[0m\u001b[37m\u001b[0m \u001b[1m0s\u001b[0m 12ms/step\n",
      "\u001b[1m10/10\u001b[0m \u001b[32m━━━━━━━━━━━━━━━━━━━━\u001b[0m\u001b[37m\u001b[0m \u001b[1m0s\u001b[0m 21ms/step\n",
      "\u001b[1m10/10\u001b[0m \u001b[32m━━━━━━━━━━━━━━━━━━━━\u001b[0m\u001b[37m\u001b[0m \u001b[1m1s\u001b[0m 40ms/step\n",
      "\u001b[1m10/10\u001b[0m \u001b[32m━━━━━━━━━━━━━━━━━━━━\u001b[0m\u001b[37m\u001b[0m \u001b[1m0s\u001b[0m 24ms/step\n",
      "\u001b[1m10/10\u001b[0m \u001b[32m━━━━━━━━━━━━━━━━━━━━\u001b[0m\u001b[37m\u001b[0m \u001b[1m0s\u001b[0m 13ms/step\n"
     ]
    }
   ],
   "source": [
    "# Loading the saved models\n",
    "from tensorflow.keras.models import load_model\n",
    "from sklearn.metrics import confusion_matrix, accuracy_score, f1_score, precision_score, recall_score\n",
    "import numpy as np\n",
    "\n",
    "# Function to calculate TPR, TNR, FPR, FNR\n",
    "def calculate_tpr_tnr_fpr_fnr(y_true, y_pred):\n",
    "    cm = confusion_matrix(y_true, y_pred)\n",
    "    tn, fp, fn, tp = cm.ravel()\n",
    "\n",
    "    tpr = tp / (tp + fn)  # True Positive Rate (Sensitivity, Recall)\n",
    "    tnr = tn / (tn + fp)  # True Negative Rate (Specificity)\n",
    "    fpr = fp / (fp + tn)  # False Positive Rate\n",
    "    fnr = fn / (fn + tp)  # False Negative Rate\n",
    "\n",
    "    return tpr, tnr, fpr, fnr\n",
    "\n",
    "# Load the best models\n",
    "best_base_lstm_model = load_model(\"best_base_lstm_model.keras\")\n",
    "best_2_layer_lstm_model = load_model(\"best_2_layer_lstm_model.keras\")\n",
    "best_5_layer_lstm_model = load_model(\"best_5_layer_lstm_model.keras\")\n",
    "best_gru_model = load_model(\"best_gru_model.keras\")\n",
    "best_lstm_cnn_model = load_model(\"best_lstm_cnn_model.keras\")\n",
    "\n",
    "# List of models and their names\n",
    "models = [best_base_lstm_model, best_2_layer_lstm_model, best_5_layer_lstm_model, best_gru_model, best_lstm_cnn_model]\n",
    "model_names = [\"Base LSTM (1-Layer)\", \"2-Layers LSTM\", \"5-Layers LSTM\", \"GRU\", \"LSTM + CNN (Conv1D)\"]\n",
    "\n",
    "# Dictionary to store the metrics\n",
    "model_performance = {\n",
    "    \"Model\": [],\n",
    "    \"Accuracy\": [],\n",
    "    \"F1 Score\": [],\n",
    "    \"Precision\": [],\n",
    "    \"Recall\": [],\n",
    "    \"TPR\": [],\n",
    "    \"TNR\": [],\n",
    "    \"FPR\": [],\n",
    "    \"FNR\": []\n",
    "}\n",
    "\n",
    "# Calculate metrics for each model\n",
    "for model_name, model in zip(model_names, models):\n",
    "    y_pred = (model.predict(test_generator) > 0.5).astype(\"int32\")\n",
    "\n",
    "    # Adjust y_test to match the length of y_pred\n",
    "    y_test_adjusted = y_test[-len(y_pred):]\n",
    "\n",
    "    # Calculate the metrics\n",
    "    accuracy = accuracy_score(y_test_adjusted, y_pred)\n",
    "    f1 = f1_score(y_test_adjusted, y_pred)\n",
    "    precision = precision_score(y_test_adjusted, y_pred)\n",
    "    recall = recall_score(y_test_adjusted, y_pred)\n",
    "    tpr, tnr, fpr, fnr = calculate_tpr_tnr_fpr_fnr(y_test_adjusted, y_pred)\n",
    "    \n",
    "    # Store the metrics\n",
    "    model_performance[\"Model\"].append(model_name)\n",
    "    model_performance[\"Accuracy\"].append(accuracy)\n",
    "    model_performance[\"F1 Score\"].append(f1)\n",
    "    model_performance[\"Precision\"].append(precision)\n",
    "    model_performance[\"Recall\"].append(recall)\n",
    "    model_performance[\"TPR\"].append(tpr)\n",
    "    model_performance[\"TNR\"].append(tnr)\n",
    "    model_performance[\"FPR\"].append(fpr)\n",
    "    model_performance[\"FNR\"].append(fnr)\n",
    "\n",
    "# Create a DataFrame to display the results\n",
    "performance_df = pd.DataFrame(model_performance)"
   ]
  },
  {
   "cell_type": "markdown",
   "id": "125453d1",
   "metadata": {},
   "source": [
    "**Function to Calculate TPR, TNR, FPR, FNR:**\n",
    "  - We used a helper function calculate_tpr_tnr_fpr_fnr to compute additional metrics based on the confusion matrix.\n",
    "- **Loading Models:**\n",
    "  - The models previously saved as .keras files are loaded into the environment. Each model corresponds to a different architecture: \n",
    "    - Base LSTM (1-Layer), 2-Layer LSTM, 5-Layer LSTM, GRU, and LSTM + CNN (Conv1D).\n",
    "- **Metrics Calculation:**\n",
    "   - For each model, predictions are generated using the test data.\n",
    "   - We calculated the accuracy, F1 score, precision, and recall using the sklearn.metrics functions.\n",
    "   - TPR, TNR, FPR, and FNR are computed using the previously defined function based on the confusion matrix.\n",
    "- The results are stored in a dictionary and then converted into a DataFrame for better visualization and comparison."
   ]
  },
  {
   "cell_type": "code",
   "execution_count": 106,
   "id": "dee34d41",
   "metadata": {},
   "outputs": [
    {
     "data": {
      "text/html": [
       "<div>\n",
       "<style scoped>\n",
       "    .dataframe tbody tr th:only-of-type {\n",
       "        vertical-align: middle;\n",
       "    }\n",
       "\n",
       "    .dataframe tbody tr th {\n",
       "        vertical-align: top;\n",
       "    }\n",
       "\n",
       "    .dataframe thead th {\n",
       "        text-align: right;\n",
       "    }\n",
       "</style>\n",
       "<table border=\"1\" class=\"dataframe\">\n",
       "  <thead>\n",
       "    <tr style=\"text-align: right;\">\n",
       "      <th></th>\n",
       "      <th>Model</th>\n",
       "      <th>Accuracy</th>\n",
       "      <th>F1 Score</th>\n",
       "      <th>Precision</th>\n",
       "      <th>Recall</th>\n",
       "      <th>TPR</th>\n",
       "      <th>TNR</th>\n",
       "      <th>FPR</th>\n",
       "      <th>FNR</th>\n",
       "    </tr>\n",
       "  </thead>\n",
       "  <tbody>\n",
       "    <tr>\n",
       "      <th>0</th>\n",
       "      <td>Base LSTM (1-Layer)</td>\n",
       "      <td>0.893204</td>\n",
       "      <td>0.883392</td>\n",
       "      <td>0.796178</td>\n",
       "      <td>0.992063</td>\n",
       "      <td>0.992063</td>\n",
       "      <td>0.825137</td>\n",
       "      <td>0.174863</td>\n",
       "      <td>0.007937</td>\n",
       "    </tr>\n",
       "    <tr>\n",
       "      <th>1</th>\n",
       "      <td>2-Layers LSTM</td>\n",
       "      <td>0.860841</td>\n",
       "      <td>0.849123</td>\n",
       "      <td>0.761006</td>\n",
       "      <td>0.960317</td>\n",
       "      <td>0.960317</td>\n",
       "      <td>0.792350</td>\n",
       "      <td>0.207650</td>\n",
       "      <td>0.039683</td>\n",
       "    </tr>\n",
       "    <tr>\n",
       "      <th>2</th>\n",
       "      <td>5-Layers LSTM</td>\n",
       "      <td>0.867314</td>\n",
       "      <td>0.859107</td>\n",
       "      <td>0.757576</td>\n",
       "      <td>0.992063</td>\n",
       "      <td>0.992063</td>\n",
       "      <td>0.781421</td>\n",
       "      <td>0.218579</td>\n",
       "      <td>0.007937</td>\n",
       "    </tr>\n",
       "    <tr>\n",
       "      <th>3</th>\n",
       "      <td>GRU</td>\n",
       "      <td>0.889968</td>\n",
       "      <td>0.860656</td>\n",
       "      <td>0.889831</td>\n",
       "      <td>0.833333</td>\n",
       "      <td>0.833333</td>\n",
       "      <td>0.928962</td>\n",
       "      <td>0.071038</td>\n",
       "      <td>0.166667</td>\n",
       "    </tr>\n",
       "    <tr>\n",
       "      <th>4</th>\n",
       "      <td>LSTM + CNN (Conv1D)</td>\n",
       "      <td>0.854369</td>\n",
       "      <td>0.837545</td>\n",
       "      <td>0.768212</td>\n",
       "      <td>0.920635</td>\n",
       "      <td>0.920635</td>\n",
       "      <td>0.808743</td>\n",
       "      <td>0.191257</td>\n",
       "      <td>0.079365</td>\n",
       "    </tr>\n",
       "  </tbody>\n",
       "</table>\n",
       "</div>"
      ],
      "text/plain": [
       "                 Model  Accuracy  F1 Score  Precision    Recall       TPR  \\\n",
       "0  Base LSTM (1-Layer)  0.893204  0.883392   0.796178  0.992063  0.992063   \n",
       "1        2-Layers LSTM  0.860841  0.849123   0.761006  0.960317  0.960317   \n",
       "2        5-Layers LSTM  0.867314  0.859107   0.757576  0.992063  0.992063   \n",
       "3                  GRU  0.889968  0.860656   0.889831  0.833333  0.833333   \n",
       "4  LSTM + CNN (Conv1D)  0.854369  0.837545   0.768212  0.920635  0.920635   \n",
       "\n",
       "        TNR       FPR       FNR  \n",
       "0  0.825137  0.174863  0.007937  \n",
       "1  0.792350  0.207650  0.039683  \n",
       "2  0.781421  0.218579  0.007937  \n",
       "3  0.928962  0.071038  0.166667  \n",
       "4  0.808743  0.191257  0.079365  "
      ]
     },
     "execution_count": 106,
     "metadata": {},
     "output_type": "execute_result"
    }
   ],
   "source": [
    "performance_df"
   ]
  },
  {
   "cell_type": "markdown",
   "id": "20b29918",
   "metadata": {},
   "source": [
    "**Detailed Analysis:**\n",
    "\n",
    " - **1) Base LSTM (1-Layer):**\n",
    "     - **Accuracy:** The highest accuracy among all models (0.8932).\n",
    "     - **F1 Score:** The highest F1 score (0.8834), indicating a strong balance between precision and recall.\n",
    "     - **Precision:** Fairly high precision (0.7962), meaning it’s good at minimizing false positives.\n",
    "     - **Recall/TPR:** The highest recall (0.9921), showing it’s excellent at capturing true positives.\n",
    "     - **TNR/FPR:** Moderate TNR and FPR, showing a balance between false alarms and missed detections.\n",
    " - **2) 2-Layers LSTM:**\n",
    "   - **Accuracy:** Lower than the Base LSTM (0.8608).\n",
    "   - **F1 Score:** Slightly lower (0.8491), indicating a bit of a trade-off in performance.\n",
    "   - **Precision and Recall:** Decent, but lower compared to the Base LSTM.\n",
    "- **3) 5-Layers LSTM:**\n",
    "   - **Accuracy and F1 Score:** Slightly better than the 2-Layers LSTM but still lower than the Base LSTM.\n",
    "   - **Recall:** On par with the Base LSTM, indicating good sensitivity.\n",
    "   - **TNR/FPR:** Lower than the Base LSTM, with a slightly higher rate of false positives.\n",
    "- **4) GRU:**\n",
    "    - **Accuracy:** Comparable to the Base LSTM (0.8900).\n",
    "    - **Precision:** The highest precision (0.8898), indicating it is very good at minimizing false positives.\n",
    "    - **Recall/TPR:** Lower recall compared to the Base LSTM (0.8333).\n",
    "    - **TNR/FPR:** The best TNR (0.9290), indicating a low rate of false positives.\n",
    "-  **5) LSTM + CNN (Conv1D):**\n",
    "   - **Accuracy and F1 Score:** The lowest among the models, but still reasonable.\n",
    "   - **Precision:** Good precision (0.7682) but lower than the Base LSTM and GRU.\n",
    "   - **Recall:** Lower recall (0.9206) compared to the Base LSTM.\n",
    "   - **TNR/FPR:** Moderate TNR and FPR, indicating some trade-off in performance.\n",
    "\n",
    "#### Conclusion: Choosing the Best Model\n",
    "\n",
    " - Based on the evaluation metrics, \n",
    "    - **the Base LSTM (1-Layer) model** stands out as the best overall model for this task. \n",
    "    - It achieves the highest accuracy (0.8932), the highest F1 score (0.8834), and excellent recall (0.9921), indicating that it effectively captures the uptrends in the SPY ETF while maintaining a good balance between false positives and false negatives.\n",
    "\n",
    "-  While the GRU model offers the highest precision, it does so at the cost of recall, which might lead to missing some potential uptrends. \n",
    "\n",
    "- The Base LSTM provides the best overall performance, making it the preferred choice for implementing the trading strategy in the subsequent backtesting phase."
   ]
  },
  {
   "cell_type": "code",
   "execution_count": 107,
   "id": "cbde09ff",
   "metadata": {},
   "outputs": [],
   "source": [
    "performance_df.to_csv(\"Deep_Learning_Models_Performance.csv\", index=True)"
   ]
  },
  {
   "cell_type": "markdown",
   "id": "de8670a4",
   "metadata": {},
   "source": [
    " - Saved the all models performances."
   ]
  },
  {
   "cell_type": "markdown",
   "id": "4472cbc3",
   "metadata": {},
   "source": [
    "### Evaluating the Best Model with ROC Curve, Confusion Matrix, and Classification Report"
   ]
  },
  {
   "cell_type": "markdown",
   "id": "760cf9b0",
   "metadata": {},
   "source": [
    "#### Loading and Predicting with the Best Model (LSTM Single Layer)\n",
    "\n",
    " - In this step, we load the best LSTM model and use it to make predictions on the test data. After predictions are made, we will align the test data with the predictions to ensure consistency in the evaluation metrics."
   ]
  },
  {
   "cell_type": "code",
   "execution_count": 148,
   "id": "8090c6f6",
   "metadata": {},
   "outputs": [
    {
     "name": "stdout",
     "output_type": "stream",
     "text": [
      "\u001b[1m10/10\u001b[0m \u001b[32m━━━━━━━━━━━━━━━━━━━━\u001b[0m\u001b[37m\u001b[0m \u001b[1m0s\u001b[0m 19ms/step\n",
      "y_test_trimmed length: 309, y_pred_prob length: 309\n"
     ]
    }
   ],
   "source": [
    "from sklearn.metrics import roc_auc_score, confusion_matrix, classification_report, balanced_accuracy_score\n",
    "from tensorflow.keras.models import load_model\n",
    "\n",
    "# Load the best model\n",
    "best_model = load_model(\"best_base_lstm_model.keras\")\n",
    "\n",
    "# Align y_test to the length of predictions\n",
    "y_test_trimmed = y_test[lookback:]\n",
    "\n",
    "# Predicted probabilities and labels\n",
    "y_pred_prob = best_model.predict(test_generator).ravel()\n",
    "y_pred = (y_pred_prob > 0.5).astype(\"int32\")\n",
    "\n",
    "# Ensure that y_test_trimmed and y_pred_prob have the same length\n",
    "print(f\"y_test_trimmed length: {len(y_test_trimmed)}, y_pred_prob length: {len(y_pred_prob)}\")\n"
   ]
  },
  {
   "cell_type": "markdown",
   "id": "4d0d5688",
   "metadata": {},
   "source": [
    "#### Confusion Matrix of the Best Model (LSTM Signle Layer)"
   ]
  },
  {
   "cell_type": "code",
   "execution_count": 149,
   "id": "89bd00b4",
   "metadata": {},
   "outputs": [
    {
     "name": "stdout",
     "output_type": "stream",
     "text": [
      "Confusion Matrix:\n",
      "[[151  32]\n",
      " [  1 125]]\n"
     ]
    },
    {
     "data": {
      "image/png": "[encoded data removed]",
      "text/plain": [
       "<Figure size 1000x600 with 1 Axes>"
      ]
     },
     "metadata": {},
     "output_type": "display_data"
    }
   ],
   "source": [
    "# Confusion Matrix\n",
    "cm = confusion_matrix(y_test_trimmed, y_pred)\n",
    "print(\"Confusion Matrix:\")\n",
    "print(cm)\n",
    "\n",
    "# Display Confusion Matrix as a nicely formatted table\n",
    "import seaborn as sns\n",
    "import matplotlib.pyplot as plt\n",
    "\n",
    "sns.heatmap(cm, annot=True, fmt=\"d\", cmap=\"Blues\", cbar=False, \n",
    "            xticklabels=['Predicted Negative', 'Predicted Positive'], \n",
    "            yticklabels=['Actual Negative', 'Actual Positive'])\n",
    "plt.ylabel('True label')\n",
    "plt.xlabel('Predicted label')\n",
    "plt.title('Confusion Matrix')\n",
    "plt.show()"
   ]
  },
  {
   "cell_type": "markdown",
   "id": "fad54d1b",
   "metadata": {},
   "source": [
    "**Breakdown of the Confusion Matrix:**\n",
    "\n",
    "  - **TN (151):**\n",
    "    - This value represents the number of instances where the actual label was negative (i.e., the SPY ETF did not experience an uptrend), and the model correctly predicted it as negative. In this case, 151 out of all test  instances were correctly identified as negatives.\n",
    " - **FP (32):**\n",
    "   - This value represents the number of instances where the actual label was negative, but the model incorrectly predicted it as positive. These are the false positives. In this case, the model incorrectly predicted an uptrend in 32 instances where there was none.\n",
    " - **FN (1):**\n",
    "   - This value represents the number of instances where the actual label was positive (i.e., the SPY ETF experienced an uptrend), but the model incorrectly predicted it as negative. This is a false negative. Here, the model failed to identify 1 actual uptrend.\n",
    "- **TP (125):**\n",
    "  - This value represents the number of instances where the actual label was positive, and the model correctly predicted it as positive. The model correctly identified 125 uptrends.\n",
    "\n",
    "**Interpretation of the Results:**\n",
    "\n",
    "  - **High True Positives (TP = 125):**\n",
    "    - The model is highly effective at identifying uptrends, correctly predicting 125 out of the 126 actual uptrends (TP + FN). This indicates that the model is very sensitive (high recall) and is adept at capturing most of the actual positive signals.\n",
    "  - **Low False Negatives (FN = 1):**\n",
    "    - The model has a very low number of false negatives, meaning it rarely misses an uptrend when one actually occurs. This low number is crucial for the trading strategy as it minimizes missed opportunities.\n",
    " - **Moderate False Positives (FP = 32):**\n",
    "   - There is a moderate number of false positives, where the model incorrectly predicted an uptrend when there wasn't one. In the context of trading, this could lead to entering positions that may not be profitable, which could affect overall portfolio performance.\n",
    "- **High True Negatives (TN = 151):**\n",
    "  - The model also performs well in identifying periods where there is no uptrend, with 151 correct predictions out of 183 (TN + FP) actual negative instances. This helps avoid unnecessary trades, reducing the potential for losses from entering positions at the wrong time.\n"
   ]
  },
  {
   "cell_type": "markdown",
   "id": "f2013b81",
   "metadata": {},
   "source": [
    "#### Classification Report of the Best Model (LSTM Single Layer)"
   ]
  },
  {
   "cell_type": "code",
   "execution_count": 150,
   "id": "e80004cb",
   "metadata": {},
   "outputs": [
    {
     "name": "stdout",
     "output_type": "stream",
     "text": [
      "Classification Report:\n",
      "              precision    recall  f1-score   support\n",
      "\n",
      "         0.0       0.99      0.83      0.90       183\n",
      "         1.0       0.80      0.99      0.88       126\n",
      "\n",
      "    accuracy                           0.89       309\n",
      "   macro avg       0.89      0.91      0.89       309\n",
      "weighted avg       0.91      0.89      0.89       309\n",
      "\n"
     ]
    }
   ],
   "source": [
    "# Classification Report\n",
    "report = classification_report(y_test_trimmed, y_pred)\n",
    "print(\"Classification Report:\")\n",
    "print(report)"
   ]
  },
  {
   "cell_type": "markdown",
   "id": "3c5f03ec",
   "metadata": {},
   "source": [
    "**Interpretation:**\n",
    "\n",
    " - **Class  (No Uptrend):**\n",
    "     - The model exhibits very high precision, indicating a strong ability to avoid false positives when predicting no uptrend. However, with a recall of 0.83, it may occasionally miss true \"No Uptrend\" signals.\n",
    " - **Class 1 (Uptrend):**\n",
    "   - The model has a very high recall of 0.99, meaning it rarely misses an actual uptrend, which is essential for trading strategies that rely on capturing upward movements. The precision is lower at 0.80, suggesting that some predicted uptrends might be false alarms.\n",
    " - **Balanced Performance:**\n",
    "   - The high recall for Class 1.0 (uptrend) ensures that the model captures almost all opportunities, which is critical in financial trading. The slightly lower precision indicates that some caution is needed, as not all predicted uptrends will materialize.\n",
    "\n",
    "- Overall, this classification report highlights that the model is particularly effective at identifying true uptrends, with a very high recall rate, making it well-suited for trading strategies where capturing upward movements is more critical than avoiding false positives. The slight trade-off in precision for uptrends is balanced by the high recall, ensuring that most opportunities are not missed."
   ]
  },
  {
   "cell_type": "markdown",
   "id": "27949b29",
   "metadata": {},
   "source": [
    "#### Balanced Accurcay of the Best Model (LSTM Single Layer)\n",
    "\n",
    "\n",
    "**Balanced Accuracy** is a metric that provides a more nuanced view of a model's performance, especially when dealing with imbalanced datasets. It is the average of the true positive rate (TPR) and true negative rate (TNR), offering a balance between sensitivity and specificity.\n",
    "\n",
    "**Formula:**\n",
    "\n",
    "$$\n",
    "\\text{Balanced Accuracy} = \\frac{\\text{TPR} + \\text{TNR}}{2}\n",
    "$$\n",
    "\n",
    "**Where:**\n",
    "\n",
    "- **TPR (True Positive Rate)**: Also known as recall, it measures the proportion of actual positives that are correctly identified by the model.\n",
    "- **TNR (True Negative Rate)**: It measures the proportion of actual negatives that are correctly identified by the model.\n"
   ]
  },
  {
   "cell_type": "code",
   "execution_count": 151,
   "id": "55f1656c",
   "metadata": {},
   "outputs": [
    {
     "name": "stdout",
     "output_type": "stream",
     "text": [
      "Balanced Accuracy: 0.9086\n"
     ]
    }
   ],
   "source": [
    "# Balanced Accuracy\n",
    "balanced_acc = balanced_accuracy_score(y_test_trimmed, y_pred)\n",
    "print(f\"Balanced Accuracy: {balanced_acc:.4f}\")"
   ]
  },
  {
   "cell_type": "markdown",
   "id": "a6c6e2aa",
   "metadata": {},
   "source": [
    "**Interpretation of Balanced Accuracy: 0.9086**\n",
    "\n",
    "  - **Value Interpretation:**\n",
    "    - A balanced accuracy of 0.9086 indicates that, on average, the model correctly identifies approximately 90.86% of both the positive and negative classes. \n",
    "    - This is a strong indicator of the model’s ability to handle both classes well, particularly in a situation where the dataset may be imbalanced.\n",
    "    \n",
    "    \n",
    "- Overall, a balanced accuracy of 0.9086 suggests that the model performs very well across both positive and negative classes, making it reliable for use in the trading strategy where both capturing uptrends and avoiding false signals are critical."
   ]
  },
  {
   "cell_type": "markdown",
   "id": "5a0f140b",
   "metadata": {},
   "source": [
    "#### ROC-AUC Analysis\n",
    "  - The Receiver Operating Characteristic (ROC) curve is a graphical representation that illustrates the diagnostic ability of a binary classifier system as its discrimination threshold is varied. \n",
    "  - The Area Under the ROC Curve (AUC) is a single scalar value that summarizes the performance of the classifier."
   ]
  },
  {
   "cell_type": "code",
   "execution_count": 152,
   "id": "f8c8df07",
   "metadata": {},
   "outputs": [
    {
     "name": "stdout",
     "output_type": "stream",
     "text": [
      "AUC: 0.9606\n"
     ]
    },
    {
     "data": {
      "image/png": "[encoded data removed]",
      "text/plain": [
       "<Figure size 800x600 with 1 Axes>"
      ]
     },
     "metadata": {},
     "output_type": "display_data"
    }
   ],
   "source": [
    "# Plot ROC Curve\n",
    "from sklearn.metrics import roc_curve\n",
    "\n",
    "# AUC\n",
    "auc = roc_auc_score(y_test_trimmed, y_pred_prob)\n",
    "print(f\"AUC: {auc:.4f}\")\n",
    "\n",
    "fpr, tpr, thresholds = roc_curve(y_test_trimmed, y_pred_prob)\n",
    "plt.figure(figsize=(8, 6))\n",
    "plt.plot(fpr, tpr, color='blue', lw=2, label=f'AUC = {auc:.4f}')\n",
    "plt.plot([0, 1], [0, 1], color='gray', linestyle='--')\n",
    "plt.xlabel('False Positive Rate')\n",
    "plt.ylabel('True Positive Rate')\n",
    "plt.title('Receiver Operating Characteristic (ROC) Curve')\n",
    "plt.legend(loc='lower right')\n",
    "plt.grid()\n",
    "plt.show()"
   ]
  },
  {
   "cell_type": "markdown",
   "id": "4207146e",
   "metadata": {},
   "source": [
    "**Interpretation of the ROC-AUC in the Graph:**\n",
    "\n",
    "  - **AUC = 0.9606:** This indicates that the model has a strong ability to distinguish between the positive and negative classes, with an AUC value close to 1. The model can correctly classify positive cases 96.06% of the time, which is a very good performance.\n",
    "  - The ROC curve in the image shows that the model performs significantly better than random guessing (represented by the diagonal dashed line), as the curve is much closer to the top left corner, indicating high sensitivity and low FPR."
   ]
  },
  {
   "cell_type": "markdown",
   "id": "40c83f74",
   "metadata": {},
   "source": [
    "###  Saving y_pred (model's predictions) on the test data as Signal to use in Trading Strategy"
   ]
  },
  {
   "cell_type": "code",
   "execution_count": 140,
   "id": "1d44d4b9",
   "metadata": {},
   "outputs": [
    {
     "data": {
      "text/html": [
       "<div>\n",
       "<style scoped>\n",
       "    .dataframe tbody tr th:only-of-type {\n",
       "        vertical-align: middle;\n",
       "    }\n",
       "\n",
       "    .dataframe tbody tr th {\n",
       "        vertical-align: top;\n",
       "    }\n",
       "\n",
       "    .dataframe thead th {\n",
       "        text-align: right;\n",
       "    }\n",
       "</style>\n",
       "<table border=\"1\" class=\"dataframe\">\n",
       "  <thead>\n",
       "    <tr style=\"text-align: right;\">\n",
       "      <th></th>\n",
       "      <th>date</th>\n",
       "      <th>daily_return</th>\n",
       "      <th>yield_spread</th>\n",
       "      <th>VXX_daily_return</th>\n",
       "      <th>UUP_daily_return</th>\n",
       "      <th>volume_tech</th>\n",
       "      <th>ADOSC_3_10</th>\n",
       "      <th>ADX_14</th>\n",
       "      <th>OBV</th>\n",
       "      <th>AOBV_SR_2</th>\n",
       "      <th>...</th>\n",
       "      <th>PIVOTS_TRAD_D_P</th>\n",
       "      <th>PIVOTS_TRAD_D_R3</th>\n",
       "      <th>PSL_12</th>\n",
       "      <th>PVOL</th>\n",
       "      <th>PVT</th>\n",
       "      <th>SLOPE_1</th>\n",
       "      <th>SMCtp_14_50_20_5</th>\n",
       "      <th>STDEV_30</th>\n",
       "      <th>Target</th>\n",
       "      <th>Signal</th>\n",
       "    </tr>\n",
       "  </thead>\n",
       "  <tbody>\n",
       "    <tr>\n",
       "      <th>1437</th>\n",
       "      <td>2023-04-05</td>\n",
       "      <td>-0.002618</td>\n",
       "      <td>-0.49</td>\n",
       "      <td>-0.009178</td>\n",
       "      <td>0.002894</td>\n",
       "      <td>65200243.0</td>\n",
       "      <td>9.755913e+07</td>\n",
       "      <td>13.795051</td>\n",
       "      <td>-1.829899e+07</td>\n",
       "      <td>0.0</td>\n",
       "      <td>...</td>\n",
       "      <td>409.276667</td>\n",
       "      <td>418.636667</td>\n",
       "      <td>66.666667</td>\n",
       "      <td>2.657562e+10</td>\n",
       "      <td>-1.296695e+10</td>\n",
       "      <td>-1.07</td>\n",
       "      <td>-1.112537</td>\n",
       "      <td>6.497442</td>\n",
       "      <td>0.0</td>\n",
       "      <td>0</td>\n",
       "    </tr>\n",
       "    <tr>\n",
       "      <th>1438</th>\n",
       "      <td>2023-04-06</td>\n",
       "      <td>0.003901</td>\n",
       "      <td>-0.52</td>\n",
       "      <td>-0.017623</td>\n",
       "      <td>0.000722</td>\n",
       "      <td>63743345.0</td>\n",
       "      <td>1.018255e+08</td>\n",
       "      <td>14.138402</td>\n",
       "      <td>4.544436e+07</td>\n",
       "      <td>0.0</td>\n",
       "      <td>...</td>\n",
       "      <td>407.393333</td>\n",
       "      <td>413.033333</td>\n",
       "      <td>66.666667</td>\n",
       "      <td>2.608314e+10</td>\n",
       "      <td>-1.294209e+10</td>\n",
       "      <td>1.59</td>\n",
       "      <td>-9.946714</td>\n",
       "      <td>6.806184</td>\n",
       "      <td>1.0</td>\n",
       "      <td>0</td>\n",
       "    </tr>\n",
       "    <tr>\n",
       "      <th>1439</th>\n",
       "      <td>2023-04-10</td>\n",
       "      <td>0.001026</td>\n",
       "      <td>-0.59</td>\n",
       "      <td>-0.009660</td>\n",
       "      <td>0.005768</td>\n",
       "      <td>63681042.0</td>\n",
       "      <td>1.137047e+08</td>\n",
       "      <td>14.491270</td>\n",
       "      <td>1.091254e+08</td>\n",
       "      <td>0.0</td>\n",
       "      <td>...</td>\n",
       "      <td>408.116000</td>\n",
       "      <td>415.720000</td>\n",
       "      <td>75.000000</td>\n",
       "      <td>2.608439e+10</td>\n",
       "      <td>-1.293555e+10</td>\n",
       "      <td>0.42</td>\n",
       "      <td>-16.918295</td>\n",
       "      <td>7.118465</td>\n",
       "      <td>0.0</td>\n",
       "      <td>0</td>\n",
       "    </tr>\n",
       "    <tr>\n",
       "      <th>1440</th>\n",
       "      <td>2023-04-11</td>\n",
       "      <td>0.000269</td>\n",
       "      <td>-0.60</td>\n",
       "      <td>-0.009754</td>\n",
       "      <td>-0.003584</td>\n",
       "      <td>59297945.0</td>\n",
       "      <td>1.027176e+08</td>\n",
       "      <td>15.066452</td>\n",
       "      <td>1.684233e+08</td>\n",
       "      <td>0.0</td>\n",
       "      <td>...</td>\n",
       "      <td>408.423333</td>\n",
       "      <td>415.863333</td>\n",
       "      <td>75.000000</td>\n",
       "      <td>2.429555e+10</td>\n",
       "      <td>-1.293396e+10</td>\n",
       "      <td>0.11</td>\n",
       "      <td>-24.431616</td>\n",
       "      <td>7.406816</td>\n",
       "      <td>0.0</td>\n",
       "      <td>0</td>\n",
       "    </tr>\n",
       "    <tr>\n",
       "      <th>1441</th>\n",
       "      <td>2023-04-12</td>\n",
       "      <td>-0.004076</td>\n",
       "      <td>-0.54</td>\n",
       "      <td>0.006098</td>\n",
       "      <td>-0.005396</td>\n",
       "      <td>86420379.0</td>\n",
       "      <td>6.847982e+07</td>\n",
       "      <td>15.217157</td>\n",
       "      <td>8.200296e+07</td>\n",
       "      <td>0.0</td>\n",
       "      <td>...</td>\n",
       "      <td>409.940000</td>\n",
       "      <td>414.460000</td>\n",
       "      <td>66.666667</td>\n",
       "      <td>3.526384e+10</td>\n",
       "      <td>-1.296918e+10</td>\n",
       "      <td>-1.67</td>\n",
       "      <td>-27.228810</td>\n",
       "      <td>7.578515</td>\n",
       "      <td>0.0</td>\n",
       "      <td>1</td>\n",
       "    </tr>\n",
       "    <tr>\n",
       "      <th>...</th>\n",
       "      <td>...</td>\n",
       "      <td>...</td>\n",
       "      <td>...</td>\n",
       "      <td>...</td>\n",
       "      <td>...</td>\n",
       "      <td>...</td>\n",
       "      <td>...</td>\n",
       "      <td>...</td>\n",
       "      <td>...</td>\n",
       "      <td>...</td>\n",
       "      <td>...</td>\n",
       "      <td>...</td>\n",
       "      <td>...</td>\n",
       "      <td>...</td>\n",
       "      <td>...</td>\n",
       "      <td>...</td>\n",
       "      <td>...</td>\n",
       "      <td>...</td>\n",
       "      <td>...</td>\n",
       "      <td>...</td>\n",
       "      <td>...</td>\n",
       "    </tr>\n",
       "    <tr>\n",
       "      <th>1741</th>\n",
       "      <td>2024-06-24</td>\n",
       "      <td>-0.003251</td>\n",
       "      <td>-0.46</td>\n",
       "      <td>-0.007972</td>\n",
       "      <td>-0.003436</td>\n",
       "      <td>45528654.0</td>\n",
       "      <td>3.742017e+07</td>\n",
       "      <td>26.137312</td>\n",
       "      <td>1.641817e+09</td>\n",
       "      <td>1.0</td>\n",
       "      <td>...</td>\n",
       "      <td>544.393333</td>\n",
       "      <td>549.653333</td>\n",
       "      <td>58.333333</td>\n",
       "      <td>2.471022e+10</td>\n",
       "      <td>-1.149704e+10</td>\n",
       "      <td>-1.77</td>\n",
       "      <td>-7.034976</td>\n",
       "      <td>7.967939</td>\n",
       "      <td>0.0</td>\n",
       "      <td>0</td>\n",
       "    </tr>\n",
       "    <tr>\n",
       "      <th>1742</th>\n",
       "      <td>2024-06-25</td>\n",
       "      <td>0.003851</td>\n",
       "      <td>-0.42</td>\n",
       "      <td>-0.017857</td>\n",
       "      <td>0.001034</td>\n",
       "      <td>38273346.0</td>\n",
       "      <td>3.392215e+07</td>\n",
       "      <td>26.493766</td>\n",
       "      <td>1.680090e+09</td>\n",
       "      <td>1.0</td>\n",
       "      <td>...</td>\n",
       "      <td>544.103333</td>\n",
       "      <td>552.763333</td>\n",
       "      <td>66.666667</td>\n",
       "      <td>2.085247e+10</td>\n",
       "      <td>-1.148231e+10</td>\n",
       "      <td>2.09</td>\n",
       "      <td>-10.189487</td>\n",
       "      <td>7.897289</td>\n",
       "      <td>1.0</td>\n",
       "      <td>1</td>\n",
       "    </tr>\n",
       "    <tr>\n",
       "      <th>1743</th>\n",
       "      <td>2024-06-26</td>\n",
       "      <td>0.001248</td>\n",
       "      <td>-0.39</td>\n",
       "      <td>-0.010909</td>\n",
       "      <td>0.004823</td>\n",
       "      <td>38550637.0</td>\n",
       "      <td>3.609444e+07</td>\n",
       "      <td>27.023626</td>\n",
       "      <td>1.718641e+09</td>\n",
       "      <td>0.0</td>\n",
       "      <td>...</td>\n",
       "      <td>544.156667</td>\n",
       "      <td>549.676667</td>\n",
       "      <td>75.000000</td>\n",
       "      <td>2.102976e+10</td>\n",
       "      <td>-1.147750e+10</td>\n",
       "      <td>0.68</td>\n",
       "      <td>-20.033204</td>\n",
       "      <td>7.778476</td>\n",
       "      <td>0.0</td>\n",
       "      <td>1</td>\n",
       "    </tr>\n",
       "    <tr>\n",
       "      <th>1744</th>\n",
       "      <td>2024-06-27</td>\n",
       "      <td>0.001577</td>\n",
       "      <td>-0.41</td>\n",
       "      <td>-0.006434</td>\n",
       "      <td>-0.001371</td>\n",
       "      <td>35041480.0</td>\n",
       "      <td>3.925285e+07</td>\n",
       "      <td>27.653751</td>\n",
       "      <td>1.753682e+09</td>\n",
       "      <td>0.0</td>\n",
       "      <td>...</td>\n",
       "      <td>544.926667</td>\n",
       "      <td>551.346667</td>\n",
       "      <td>75.000000</td>\n",
       "      <td>1.914561e+10</td>\n",
       "      <td>-1.147197e+10</td>\n",
       "      <td>0.86</td>\n",
       "      <td>-25.013835</td>\n",
       "      <td>7.748247</td>\n",
       "      <td>0.0</td>\n",
       "      <td>0</td>\n",
       "    </tr>\n",
       "    <tr>\n",
       "      <th>1745</th>\n",
       "      <td>2024-06-28</td>\n",
       "      <td>-0.003935</td>\n",
       "      <td>-0.35</td>\n",
       "      <td>0.010176</td>\n",
       "      <td>0.000000</td>\n",
       "      <td>76144535.0</td>\n",
       "      <td>2.114413e+07</td>\n",
       "      <td>28.820181</td>\n",
       "      <td>1.677537e+09</td>\n",
       "      <td>0.0</td>\n",
       "      <td>...</td>\n",
       "      <td>545.980000</td>\n",
       "      <td>550.680000</td>\n",
       "      <td>66.666667</td>\n",
       "      <td>4.143938e+10</td>\n",
       "      <td>-1.150193e+10</td>\n",
       "      <td>-2.15</td>\n",
       "      <td>-39.769611</td>\n",
       "      <td>7.824571</td>\n",
       "      <td>0.0</td>\n",
       "      <td>0</td>\n",
       "    </tr>\n",
       "  </tbody>\n",
       "</table>\n",
       "<p>309 rows × 27 columns</p>\n",
       "</div>"
      ],
      "text/plain": [
       "           date  daily_return  yield_spread  VXX_daily_return  \\\n",
       "1437 2023-04-05     -0.002618         -0.49         -0.009178   \n",
       "1438 2023-04-06      0.003901         -0.52         -0.017623   \n",
       "1439 2023-04-10      0.001026         -0.59         -0.009660   \n",
       "1440 2023-04-11      0.000269         -0.60         -0.009754   \n",
       "1441 2023-04-12     -0.004076         -0.54          0.006098   \n",
       "...         ...           ...           ...               ...   \n",
       "1741 2024-06-24     -0.003251         -0.46         -0.007972   \n",
       "1742 2024-06-25      0.003851         -0.42         -0.017857   \n",
       "1743 2024-06-26      0.001248         -0.39         -0.010909   \n",
       "1744 2024-06-27      0.001577         -0.41         -0.006434   \n",
       "1745 2024-06-28     -0.003935         -0.35          0.010176   \n",
       "\n",
       "      UUP_daily_return  volume_tech    ADOSC_3_10     ADX_14           OBV  \\\n",
       "1437          0.002894   65200243.0  9.755913e+07  13.795051 -1.829899e+07   \n",
       "1438          0.000722   63743345.0  1.018255e+08  14.138402  4.544436e+07   \n",
       "1439          0.005768   63681042.0  1.137047e+08  14.491270  1.091254e+08   \n",
       "1440         -0.003584   59297945.0  1.027176e+08  15.066452  1.684233e+08   \n",
       "1441         -0.005396   86420379.0  6.847982e+07  15.217157  8.200296e+07   \n",
       "...                ...          ...           ...        ...           ...   \n",
       "1741         -0.003436   45528654.0  3.742017e+07  26.137312  1.641817e+09   \n",
       "1742          0.001034   38273346.0  3.392215e+07  26.493766  1.680090e+09   \n",
       "1743          0.004823   38550637.0  3.609444e+07  27.023626  1.718641e+09   \n",
       "1744         -0.001371   35041480.0  3.925285e+07  27.653751  1.753682e+09   \n",
       "1745          0.000000   76144535.0  2.114413e+07  28.820181  1.677537e+09   \n",
       "\n",
       "      AOBV_SR_2  ...  PIVOTS_TRAD_D_P  PIVOTS_TRAD_D_R3     PSL_12  \\\n",
       "1437        0.0  ...       409.276667        418.636667  66.666667   \n",
       "1438        0.0  ...       407.393333        413.033333  66.666667   \n",
       "1439        0.0  ...       408.116000        415.720000  75.000000   \n",
       "1440        0.0  ...       408.423333        415.863333  75.000000   \n",
       "1441        0.0  ...       409.940000        414.460000  66.666667   \n",
       "...         ...  ...              ...               ...        ...   \n",
       "1741        1.0  ...       544.393333        549.653333  58.333333   \n",
       "1742        1.0  ...       544.103333        552.763333  66.666667   \n",
       "1743        0.0  ...       544.156667        549.676667  75.000000   \n",
       "1744        0.0  ...       544.926667        551.346667  75.000000   \n",
       "1745        0.0  ...       545.980000        550.680000  66.666667   \n",
       "\n",
       "              PVOL           PVT  SLOPE_1  SMCtp_14_50_20_5  STDEV_30  Target  \\\n",
       "1437  2.657562e+10 -1.296695e+10    -1.07         -1.112537  6.497442     0.0   \n",
       "1438  2.608314e+10 -1.294209e+10     1.59         -9.946714  6.806184     1.0   \n",
       "1439  2.608439e+10 -1.293555e+10     0.42        -16.918295  7.118465     0.0   \n",
       "1440  2.429555e+10 -1.293396e+10     0.11        -24.431616  7.406816     0.0   \n",
       "1441  3.526384e+10 -1.296918e+10    -1.67        -27.228810  7.578515     0.0   \n",
       "...            ...           ...      ...               ...       ...     ...   \n",
       "1741  2.471022e+10 -1.149704e+10    -1.77         -7.034976  7.967939     0.0   \n",
       "1742  2.085247e+10 -1.148231e+10     2.09        -10.189487  7.897289     1.0   \n",
       "1743  2.102976e+10 -1.147750e+10     0.68        -20.033204  7.778476     0.0   \n",
       "1744  1.914561e+10 -1.147197e+10     0.86        -25.013835  7.748247     0.0   \n",
       "1745  4.143938e+10 -1.150193e+10    -2.15        -39.769611  7.824571     0.0   \n",
       "\n",
       "      Signal  \n",
       "1437       0  \n",
       "1438       0  \n",
       "1439       0  \n",
       "1440       0  \n",
       "1441       1  \n",
       "...      ...  \n",
       "1741       0  \n",
       "1742       1  \n",
       "1743       1  \n",
       "1744       0  \n",
       "1745       0  \n",
       "\n",
       "[309 rows x 27 columns]"
      ]
     },
     "execution_count": 140,
     "metadata": {},
     "output_type": "execute_result"
    }
   ],
   "source": [
    "#'df' is our original DataFrame containing all the data\n",
    "# y_pred is our best model's predictions on the test data\n",
    "\n",
    "# Ensure the length of y_pred matches the length of the test portion\n",
    "# Create a DataFrame for the test data (last 309 rows)\n",
    "df_test = df.iloc[-len(y_pred):].copy()\n",
    "\n",
    "# Add the predictions as a new column\n",
    "df_test['Signal'] = y_pred  # 1 for buy, 0 for sell\n",
    "\n",
    "df_test.to_csv(\"LSTM_Model_Signal_Test_Data.csv\", index = True )\n",
    "\n",
    "df_test"
   ]
  },
  {
   "cell_type": "markdown",
   "id": "d8cf91f7",
   "metadata": {},
   "source": [
    "- **Adding the Prediction as [Signals]:**\n",
    "   -  New column, Signal, to df_test. This column contains the predictions (y_pred) from our best model. Each row in this column indicates the model's signal for that particular day:\n",
    "      - 1: Buy Signal\n",
    "      - 0: Sell Signal\n",
    "\n",
    "  - Saving the DataFrame:\n",
    "      - The df_test DataFrame, now including the model's signals, is saved to a CSV file named LSTM_Model_Signal_Test_Data.csv. \n",
    "      - This file can be used for further analysis, such as backtesting trading strategies based on the model's signals."
   ]
  },
  {
   "cell_type": "markdown",
   "id": "503448dc",
   "metadata": {},
   "source": [
    "#### Please Note that Complete Trading Strategy Logic and Backtesting Part is in Notebook-3 (DL-NayanP-Notebook-3) ipynb"
   ]
  },
  {
   "cell_type": "markdown",
   "id": "0574926d",
   "metadata": {},
   "source": [
    "### References"
   ]
  },
  {
   "cell_type": "markdown",
   "id": "b076da9d",
   "metadata": {},
   "source": [
    "#### CQF Program Materials\n",
    "\n",
    "#### Kannan Singaravelu, CQF\n",
    "- 1.JA24P1 Introduction to Financial Times Series. Certificate in Quantitative Finance (CQF) Program, 2024.\n",
    "- 2.JA24P9 Introduction to Machine Learning using Scikit-learn. Certificate in Quantitative Finance (CQF) Program, 2024.\n",
    "- 3.JA24P10 Trend Prediction using Logistic Regression. Certificate in Quantitative Finance (CQF) Program, 2024.\n",
    "- 4.JA24P13 Application of Neural Networks using TensorFlow & Keras. Certificate in Quantitative Finance (CQF) Program, 2024. \n",
    "- 5.Advanced Machine Learning Workshop Notes and Python Files. Certificate in Quantitative Finance (CQF) Program**\n",
    "- 6.CQF Final Project Tutorial III - Deep Learning & Machine Learning. Certificate in Quantitative Finance (CQF) Program, 2024\n",
    "\n",
    "\n",
    "#### Python Libraries:\n",
    "- 1.Pandas: Used for Data manipulation and analysis.\n",
    "- 2.NumPy: Utilized for numerical operations.\n",
    "- 3.Matplotlib & Seaborn: Used for data visualization.\n",
    "- 4.Scikit-Learn: Used for various machine learning tasks.\n",
    "- 5.TensorFlow & Keras: Core libraries for building, training, and optimizing the Long Short-Term Memory (LSTM) models.\n",
    "- 6.Keras Tuner: Used for hyperparameter tuning.\n",
    "- 7.SciPy: Utilized for advanced statistical functions and operations.\n",
    "\n",
    "\n",
    "\n"
   ]
  }
 ],
 "metadata": {
  "kernelspec": {
   "display_name": "Python 3 (ipykernel)",
   "language": "python",
   "name": "python3"
  },
  "language_info": {
   "codemirror_mode": {
    "name": "ipython",
    "version": 3
   },
   "file_extension": ".py",
   "mimetype": "text/x-python",
   "name": "python",
   "nbconvert_exporter": "python",
   "pygments_lexer": "ipython3",
   "version": "3.11.4"
  }
 },
 "nbformat": 4,
 "nbformat_minor": 5
}
